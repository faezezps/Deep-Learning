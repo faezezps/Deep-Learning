{
 "cells": [
  {
   "cell_type": "code",
   "execution_count": 11,
   "metadata": {
    "colab": {},
    "colab_type": "code",
    "id": "vMuqtwz6HPFu"
   },
   "outputs": [],
   "source": [
    "import numpy as np\n",
    "import pandas as pd\n",
    "\n",
    "from sklearn.model_selection import train_test_split\n",
    "from sklearn.metrics import roc_auc_score\n",
    "\n",
    "import keras\n",
    "import keras.backend as K\n",
    "from keras.layers import Flatten, Concatenate, Input , Embedding, LSTM, Dense, Dropout\n",
    "from keras.datasets import imdb\n",
    "from keras.preprocessing import sequence\n",
    "from keras import Sequential\n",
    "from keras.models import Model"
   ]
  },
  {
   "cell_type": "markdown",
   "metadata": {
    "colab_type": "text",
    "id": "yc5KvFPbqjr1"
   },
   "source": [
    "Load IMDB dataset from keras.datasets.\n",
    "\n",
    "\"This is a dataset of 25,000 movies reviews from IMDB, labeled by sentiment (positive/negative).\" [[1]](https://keras.io/api/datasets/imdb/)"
   ]
  },
  {
   "cell_type": "code",
   "execution_count": 12,
   "metadata": {
    "colab": {
     "base_uri": "https://localhost:8080/",
     "height": 162
    },
    "colab_type": "code",
    "id": "IhVWGXDoHXmQ",
    "outputId": "37befd1b-a4c3-4a26-86ce-30b4c2553627"
   },
   "outputs": [
    {
     "name": "stdout",
     "output_type": "stream",
     "text": [
      "Loaded dataset with 25000 training samples, 25000 test samples\n",
      "---review---\n",
      "[0, 0, 365, 1234, 0, 1156, 354, 0, 0, 0, 0, 0, 1016, 0, 0, 356, 0, 0, 1349, 500, 746, 0, 200, 0, 4132, 0, 0, 0, 1117, 1831, 0, 0, 4831, 0, 0, 0, 4183, 0, 369, 0, 215, 1345, 143, 0, 0, 1838, 0, 1974, 0, 0, 0, 257, 0, 0, 486, 0, 0, 0, 0, 0, 271, 0, 196, 0, 949, 4121, 0, 0, 0, 0, 2212, 2436, 819, 0, 0, 0, 0, 180, 0, 227, 0, 0, 2494, 0, 0, 423, 0, 168, 0, 0, 0, 0, 0, 665, 0, 270, 0, 0, 0, 197, 0, 161, 0, 0, 0, 0, 0, 0, 419, 665, 0, 0, 0, 0, 0, 0, 2084, 0, 4773, 0, 0, 0, 1901]\n",
      "---label---\n",
      "1\n",
      "Maximum review length: 2697\n",
      "Minimum review length: 70\n"
     ]
    }
   ],
   "source": [
    "vocabulary_size = 5000\n",
    "(X_train, y_train), (X_test, y_test) = imdb.load_data(num_words=vocabulary_size, skip_top=127, oov_char= 00 )\n",
    "\n",
    "print('Loaded dataset with {} training samples, {} test samples'.format(len(X_train), len(X_test)))\n",
    "print('---review---')\n",
    "print(X_train[6])\n",
    "print('---label---')\n",
    "print(y_train[6])\n",
    "\n",
    "print('Maximum review length: {}'.format(\n",
    "len(max((X_train + X_test), key=len))))\n",
    "\n",
    "print('Minimum review length: {}'.format(\n",
    "len(min((X_train + X_test), key=len))))"
   ]
  },
  {
   "cell_type": "markdown",
   "metadata": {
    "colab_type": "text",
    "id": "8v5j0zHarXU_"
   },
   "source": [
    "Change sequences length in order to be in a same size."
   ]
  },
  {
   "cell_type": "code",
   "execution_count": 13,
   "metadata": {
    "colab": {
     "base_uri": "https://localhost:8080/",
     "height": 35
    },
    "colab_type": "code",
    "id": "3yb2bjr1JIOV",
    "outputId": "5c001703-30fc-4388-c34b-a842bfacb9b1"
   },
   "outputs": [
    {
     "name": "stdout",
     "output_type": "stream",
     "text": [
      "shape train: (25000, 500) shape test: (25000, 500)\n"
     ]
    }
   ],
   "source": [
    "max_words = 500\n",
    "X_train = sequence.pad_sequences(X_train, maxlen=max_words)\n",
    "X_test = sequence.pad_sequences(X_test, maxlen=max_words)\n",
    "\n",
    "print('shape train:',X_train.shape, 'shape test:', X_test.shape)"
   ]
  },
  {
   "cell_type": "markdown",
   "metadata": {
    "colab_type": "text",
    "id": "Cxr4ZFLjrxhL"
   },
   "source": [
    "Define layers inside the model."
   ]
  },
  {
   "cell_type": "code",
   "execution_count": 14,
   "metadata": {
    "colab": {},
    "colab_type": "code",
    "id": "dnlW8ABhP0Vt"
   },
   "outputs": [],
   "source": [
    "input_seq = Input(shape=(max_words,))\n",
    "embedding_size= 32\n",
    "emb = Embedding(vocabulary_size, embedding_size)(input_seq)"
   ]
  },
  {
   "cell_type": "code",
   "execution_count": 15,
   "metadata": {
    "colab": {
     "base_uri": "https://localhost:8080/",
     "height": 35
    },
    "colab_type": "code",
    "id": "V7Ck7FGfQ6Vc",
    "outputId": "fc694322-21f1-440b-df4b-0b1c97ec1b37"
   },
   "outputs": [
    {
     "data": {
      "text/plain": [
       "<tf.Tensor 'input_2:0' shape=(None, 500) dtype=float32>"
      ]
     },
     "execution_count": 15,
     "metadata": {
      "tags": []
     },
     "output_type": "execute_result"
    }
   ],
   "source": [
    "input_seq"
   ]
  },
  {
   "cell_type": "code",
   "execution_count": 16,
   "metadata": {
    "colab": {
     "base_uri": "https://localhost:8080/",
     "height": 35
    },
    "colab_type": "code",
    "id": "w2Ke00CkQt7V",
    "outputId": "c3b732b6-4a12-4a80-aa35-bebeb46304d9"
   },
   "outputs": [
    {
     "data": {
      "text/plain": [
       "<tf.Tensor 'embedding_2/embedding_lookup/Identity_1:0' shape=(None, 500, 32) dtype=float32>"
      ]
     },
     "execution_count": 16,
     "metadata": {
      "tags": []
     },
     "output_type": "execute_result"
    }
   ],
   "source": [
    "emb"
   ]
  },
  {
   "cell_type": "code",
   "execution_count": 17,
   "metadata": {
    "colab": {
     "base_uri": "https://localhost:8080/",
     "height": 267
    },
    "colab_type": "code",
    "id": "8DtSfbeZHrM2",
    "outputId": "2455c193-8b2b-4be2-a200-36279bad49ba"
   },
   "outputs": [
    {
     "name": "stdout",
     "output_type": "stream",
     "text": [
      "p1:\n",
      "Tensor(\"lstm_5/transpose_1:0\", shape=(None, 500, 40), dtype=float32)\n",
      "p1:\n",
      "Tensor(\"lstm_6/transpose_1:0\", shape=(None, 500, 20), dtype=float32)\n",
      "p2:\n",
      "Tensor(\"lstm_7/transpose_1:0\", shape=(None, 500, 40), dtype=float32)\n",
      "p2:\n",
      "Tensor(\"lstm_8/transpose_1:0\", shape=(None, 500, 20), dtype=float32)\n",
      "out:\n",
      "Tensor(\"concatenate_2/concat:0\", shape=(None, 500, 40), dtype=float32)\n",
      "out after flatten:\n",
      "Tensor(\"flatten_2/Reshape:0\", shape=(None, None), dtype=float32)\n",
      "final out\n"
     ]
    },
    {
     "data": {
      "text/plain": [
       "<tf.Tensor 'dense_2/Sigmoid:0' shape=(None, 1) dtype=float32>"
      ]
     },
     "execution_count": 17,
     "metadata": {
      "tags": []
     },
     "output_type": "execute_result"
    }
   ],
   "source": [
    "# ---------------- path one -------------------------\n",
    "path_1 = LSTM(40, return_sequences= True)(emb)\n",
    "print('p1:')\n",
    "print(path_1)\n",
    "\n",
    "path_1= LSTM(20, return_sequences= True)(path_1)\n",
    "print('p1:')\n",
    "print(path_1)\n",
    "\n",
    "# ---------------- path two -------------------------\n",
    "path_2 = LSTM(40, return_sequences= True)(emb)\n",
    "print('p2:')\n",
    "print(path_2)\n",
    "path_2 = LSTM(20, return_sequences= True)(path_2)\n",
    "print('p2:')\n",
    "print(path_2)\n",
    "\n",
    "# ---------------- concatenating -------------------------\n",
    "outl = Concatenate()([path_1,path_2])\n",
    "print('out:')\n",
    "print(outl)\n",
    "\n",
    "outl = Flatten()(outl)\n",
    "print('out after flatten:')\n",
    "print(outl)\n",
    "\n",
    "# ---------------- final output -------------------------\n",
    "outl = Dense(1, activation='sigmoid')(outl)\n",
    "print('final out')\n",
    "outl"
   ]
  },
  {
   "cell_type": "code",
   "execution_count": 18,
   "metadata": {
    "colab": {
     "base_uri": "https://localhost:8080/",
     "height": 517
    },
    "colab_type": "code",
    "id": "5Q5aJl2QbSB6",
    "outputId": "cd0ec972-aa46-48ff-80bd-bbdc10a81039"
   },
   "outputs": [
    {
     "name": "stdout",
     "output_type": "stream",
     "text": [
      "Model: \"model_2\"\n",
      "__________________________________________________________________________________________________\n",
      "Layer (type)                    Output Shape         Param #     Connected to                     \n",
      "==================================================================================================\n",
      "input_2 (InputLayer)            (None, 500)          0                                            \n",
      "__________________________________________________________________________________________________\n",
      "embedding_2 (Embedding)         (None, 500, 32)      160000      input_2[0][0]                    \n",
      "__________________________________________________________________________________________________\n",
      "lstm_5 (LSTM)                   (None, 500, 40)      11680       embedding_2[0][0]                \n",
      "__________________________________________________________________________________________________\n",
      "lstm_7 (LSTM)                   (None, 500, 40)      11680       embedding_2[0][0]                \n",
      "__________________________________________________________________________________________________\n",
      "lstm_6 (LSTM)                   (None, 500, 20)      4880        lstm_5[0][0]                     \n",
      "__________________________________________________________________________________________________\n",
      "lstm_8 (LSTM)                   (None, 500, 20)      4880        lstm_7[0][0]                     \n",
      "__________________________________________________________________________________________________\n",
      "concatenate_2 (Concatenate)     (None, 500, 40)      0           lstm_6[0][0]                     \n",
      "                                                                 lstm_8[0][0]                     \n",
      "__________________________________________________________________________________________________\n",
      "flatten_2 (Flatten)             (None, 20000)        0           concatenate_2[0][0]              \n",
      "__________________________________________________________________________________________________\n",
      "dense_2 (Dense)                 (None, 1)            20001       flatten_2[0][0]                  \n",
      "==================================================================================================\n",
      "Total params: 213,121\n",
      "Trainable params: 213,121\n",
      "Non-trainable params: 0\n",
      "__________________________________________________________________________________________________\n",
      "None\n"
     ]
    }
   ],
   "source": [
    "model= Model(inputs = input_seq, outputs = outl)\n",
    "print(model.summary())"
   ]
  },
  {
   "cell_type": "markdown",
   "metadata": {
    "colab_type": "text",
    "id": "BCSGo_l4r50C"
   },
   "source": [
    "Train"
   ]
  },
  {
   "cell_type": "code",
   "execution_count": 19,
   "metadata": {
    "colab": {
     "base_uri": "https://localhost:8080/",
     "height": 466
    },
    "colab_type": "code",
    "id": "ZJ1_bAXVHqxC",
    "outputId": "e9b35af7-948e-4f8b-bc1f-c4477a06632f"
   },
   "outputs": [
    {
     "name": "stderr",
     "output_type": "stream",
     "text": [
      "/usr/local/lib/python3.6/dist-packages/tensorflow/python/framework/indexed_slices.py:434: UserWarning: Converting sparse IndexedSlices to a dense Tensor of unknown shape. This may consume a large amount of memory.\n",
      "  \"Converting sparse IndexedSlices to a dense Tensor of unknown shape. \"\n"
     ]
    },
    {
     "name": "stdout",
     "output_type": "stream",
     "text": [
      "Train on 24488 samples, validate on 512 samples\n",
      "Epoch 1/10\n",
      "24488/24488 [==============================] - 239s 10ms/step - loss: 0.6267 - accuracy: 0.6118 - precision_2: 0.6369 - recall_2: 0.5198 - val_loss: 0.3624 - val_accuracy: 0.8164 - val_precision_2: 0.8164 - val_recall_2: 0.8164\n",
      "Epoch 2/10\n",
      "24488/24488 [==============================] - 241s 10ms/step - loss: 0.3283 - accuracy: 0.8600 - precision_2: 0.8532 - recall_2: 0.8697 - val_loss: 0.2824 - val_accuracy: 0.8809 - val_precision_2: 0.8764 - val_recall_2: 0.8867\n",
      "Epoch 3/10\n",
      "24488/24488 [==============================] - 242s 10ms/step - loss: 0.2577 - accuracy: 0.8930 - precision_2: 0.8899 - recall_2: 0.8970 - val_loss: 0.2947 - val_accuracy: 0.8848 - val_precision_2: 0.8689 - val_recall_2: 0.9062\n",
      "Epoch 4/10\n",
      "24488/24488 [==============================] - 241s 10ms/step - loss: 0.2296 - accuracy: 0.9063 - precision_2: 0.9030 - recall_2: 0.9105 - val_loss: 0.2998 - val_accuracy: 0.8730 - val_precision_2: 0.8550 - val_recall_2: 0.8984\n",
      "Epoch 5/10\n",
      "24488/24488 [==============================] - 240s 10ms/step - loss: 0.2034 - accuracy: 0.9194 - precision_2: 0.9171 - recall_2: 0.9222 - val_loss: 0.3016 - val_accuracy: 0.8711 - val_precision_2: 0.8893 - val_recall_2: 0.8477\n",
      "Epoch 6/10\n",
      "24488/24488 [==============================] - 241s 10ms/step - loss: 0.1782 - accuracy: 0.9302 - precision_2: 0.9281 - recall_2: 0.9326 - val_loss: 0.3315 - val_accuracy: 0.8750 - val_precision_2: 0.8810 - val_recall_2: 0.8672\n",
      "Epoch 7/10\n",
      "24488/24488 [==============================] - 239s 10ms/step - loss: 0.1509 - accuracy: 0.9436 - precision_2: 0.9418 - recall_2: 0.9456 - val_loss: 0.3570 - val_accuracy: 0.8828 - val_precision_2: 0.8798 - val_recall_2: 0.8867\n",
      "Epoch 8/10\n",
      "24488/24488 [==============================] - 237s 10ms/step - loss: 0.1272 - accuracy: 0.9527 - precision_2: 0.9507 - recall_2: 0.9548 - val_loss: 0.4180 - val_accuracy: 0.8574 - val_precision_2: 0.8894 - val_recall_2: 0.8164\n",
      "Epoch 9/10\n",
      "24488/24488 [==============================] - 237s 10ms/step - loss: 0.1054 - accuracy: 0.9615 - precision_2: 0.9618 - recall_2: 0.9612 - val_loss: 0.5239 - val_accuracy: 0.8457 - val_precision_2: 0.8703 - val_recall_2: 0.8125\n",
      "Epoch 10/10\n",
      "24488/24488 [==============================] - 238s 10ms/step - loss: 0.0875 - accuracy: 0.9687 - precision_2: 0.9688 - recall_2: 0.9686 - val_loss: 0.6183 - val_accuracy: 0.8516 - val_precision_2: 0.8782 - val_recall_2: 0.8164\n",
      "Test accuracy: 0.8288000226020813\n"
     ]
    }
   ],
   "source": [
    "model.compile(loss='binary_crossentropy', \n",
    "             optimizer='adam', \n",
    "             metrics=['accuracy', keras.metrics.Precision(), keras.metrics.Recall()])\n",
    "\t\t\t \n",
    "batch_size = 512\n",
    "num_epochs = 10\n",
    "X_valid, y_valid = X_train[:batch_size], y_train[:batch_size]\n",
    "X_train2, y_train2 = X_train[batch_size:], y_train[batch_size:]\n",
    "model.fit(X_train2, y_train2, validation_data=(X_valid, y_valid), batch_size=batch_size, epochs=num_epochs)\n",
    "scores = model.evaluate(X_test, y_test, verbose=0)\n",
    "print('Test accuracy:', scores[1])"
   ]
  },
  {
   "cell_type": "code",
   "execution_count": 20,
   "metadata": {
    "colab": {
     "base_uri": "https://localhost:8080/",
     "height": 71
    },
    "colab_type": "code",
    "id": "i_4UbCBk5M3M",
    "outputId": "6012ef18-4c72-45eb-8740-a0b9c841758e"
   },
   "outputs": [
    {
     "name": "stdout",
     "output_type": "stream",
     "text": [
      "accuracy: 82.88000226020813 \n",
      " precision: 83.50725769996643 \n",
      " recall: 81.94400072097778\n"
     ]
    }
   ],
   "source": [
    "print(\"accuracy:\", scores[1]*100 , \"\\n precision:\", scores[2]*100, \"\\n recall:\", scores[3]*100)"
   ]
  }
 ],
 "metadata": {
  "accelerator": "GPU",
  "colab": {
   "collapsed_sections": [],
   "name": "DL_5_LSTM_update3_10epoch_inception and stacked-sigmoid.ipynb",
   "provenance": []
  },
  "kernelspec": {
   "display_name": "Python 3",
   "language": "python",
   "name": "python3"
  },
  "language_info": {
   "codemirror_mode": {
    "name": "ipython",
    "version": 3
   },
   "file_extension": ".py",
   "mimetype": "text/x-python",
   "name": "python",
   "nbconvert_exporter": "python",
   "pygments_lexer": "ipython3",
   "version": "3.5.3"
  }
 },
 "nbformat": 4,
 "nbformat_minor": 1
}
