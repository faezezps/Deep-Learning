{
 "cells": [
  {
   "cell_type": "code",
   "execution_count": 11,
   "metadata": {
    "colab": {},
    "colab_type": "code",
    "id": "vMuqtwz6HPFu"
   },
   "outputs": [],
   "source": [
    "import numpy as np\n",
    "import pandas as pd\n",
    "\n",
    "from sklearn.model_selection import train_test_split\n",
    "from sklearn.metrics import roc_auc_score\n",
    "\n",
    "import keras\n",
    "import keras.backend as K\n",
    "from keras.layers import Flatten, Concatenate, Input , Embedding, LSTM, Dense, Dropout\n",
    "from keras.datasets import imdb\n",
    "from keras.preprocessing import sequence\n",
    "from keras import Sequential\n",
    "from keras.models import Model"
   ]
  },
  {
   "cell_type": "markdown",
   "metadata": {
    "colab_type": "text",
    "id": "yc5KvFPbqjr1"
   },
   "source": [
    "Load IMDB dataset from keras.datasets.\n",
    "\n",
    "\"This is a dataset of 25,000 movies reviews from IMDB, labeled by sentiment (positive/negative).\" [[1]](https://keras.io/api/datasets/imdb/)"
   ]
  },
  {
   "cell_type": "code",
   "execution_count": 12,
   "metadata": {
    "colab": {
     "base_uri": "https://localhost:8080/",
     "height": 162
    },
    "colab_type": "code",
    "id": "IhVWGXDoHXmQ",
    "outputId": "37befd1b-a4c3-4a26-86ce-30b4c2553627"
   },
   "outputs": [
    {
     "name": "stdout",
     "output_type": "stream",
     "text": [
      "Loaded dataset with 25000 training samples, 25000 test samples\n",
      "---review---\n",
      "[0, 0, 365, 1234, 0, 1156, 354, 0, 0, 0, 0, 0, 1016, 0, 0, 356, 0, 0, 1349, 500, 746, 0, 200, 0, 4132, 0, 0, 0, 1117, 1831, 0, 0, 4831, 0, 0, 0, 4183, 0, 369, 0, 215, 1345, 143, 0, 0, 1838, 0, 1974, 0, 0, 0, 257, 0, 0, 486, 0, 0, 0, 0, 0, 271, 0, 196, 0, 949, 4121, 0, 0, 0, 0, 2212, 2436, 819, 0, 0, 0, 0, 180, 0, 227, 0, 0, 2494, 0, 0, 423, 0, 168, 0, 0, 0, 0, 0, 665, 0, 270, 0, 0, 0, 197, 0, 161, 0, 0, 0, 0, 0, 0, 419, 665, 0, 0, 0, 0, 0, 0, 2084, 0, 4773, 0, 0, 0, 1901]\n",
      "---label---\n",
      "1\n",
      "Maximum review length: 2697\n",
      "Minimum review length: 70\n"
     ]
    }
   ],
   "source": [
    "vocabulary_size = 5000\n",
    "(X_train, y_train), (X_test, y_test) = imdb.load_data(num_words=vocabulary_size, skip_top=127, oov_char= 00 )\n",
    "\n",
    "print('Loaded dataset with {} training samples, {} test samples'.format(len(X_train), len(X_test)))\n",
    "print('---review---')\n",
    "print(X_train[6])\n",
    "print('---label---')\n",
    "print(y_train[6])\n",
    "\n",
    "print('Maximum review length: {}'.format(\n",
    "len(max((X_train + X_test), key=len))))\n",
    "\n",
    "print('Minimum review length: {}'.format(\n",
    "len(min((X_train + X_test), key=len))))"
   ]
  },
  {
   "cell_type": "markdown",
   "metadata": {
    "colab_type": "text",
    "id": "8v5j0zHarXU_"
   },
   "source": [
    "Change sequences length in order to be in a same size."
   ]
  },
  {
   "cell_type": "code",
   "execution_count": 13,
   "metadata": {
    "colab": {
     "base_uri": "https://localhost:8080/",
     "height": 35
    },
    "colab_type": "code",
    "id": "3yb2bjr1JIOV",
    "outputId": "5c001703-30fc-4388-c34b-a842bfacb9b1"
   },
   "outputs": [
    {
     "name": "stdout",
     "output_type": "stream",
     "text": [
      "shape train: (25000, 500) shape test: (25000, 500)\n"
     ]
    }
   ],
   "source": [
    "max_words = 500\n",
    "X_train = sequence.pad_sequences(X_train, maxlen=max_words)\n",
    "X_test = sequence.pad_sequences(X_test, maxlen=max_words)\n",
    "\n",
    "print('shape train:',X_train.shape, 'shape test:', X_test.shape)"
   ]
  },
  {
   "cell_type": "markdown",
   "metadata": {
    "colab_type": "text",
    "id": "Cxr4ZFLjrxhL"
   },
   "source": [
    "Define layers inside the model."
   ]
  },
  {
   "cell_type": "code",
   "execution_count": 14,
   "metadata": {
    "colab": {},
    "colab_type": "code",
    "id": "dnlW8ABhP0Vt"
   },
   "outputs": [],
   "source": [
    "input_seq = Input(shape=(max_words,))\n",
    "embedding_size= 32\n",
    "emb = Embedding(vocabulary_size, embedding_size)(input_seq)"
   ]
  },
  {
   "cell_type": "code",
   "execution_count": 15,
   "metadata": {
    "colab": {
     "base_uri": "https://localhost:8080/",
     "height": 35
    },
    "colab_type": "code",
    "id": "V7Ck7FGfQ6Vc",
    "outputId": "fc694322-21f1-440b-df4b-0b1c97ec1b37"
   },
   "outputs": [
    {
     "data": {
      "text/plain": [
       "<tf.Tensor 'input_2:0' shape=(None, 500) dtype=float32>"
      ]
     },
     "execution_count": 15,
     "metadata": {
      "tags": []
     },
     "output_type": "execute_result"
    }
   ],
   "source": [
    "input_seq"
   ]
  },
  {
   "cell_type": "code",
   "execution_count": 16,
   "metadata": {
    "colab": {
     "base_uri": "https://localhost:8080/",
     "height": 35
    },
    "colab_type": "code",
    "id": "w2Ke00CkQt7V",
    "outputId": "c3b732b6-4a12-4a80-aa35-bebeb46304d9"
   },
   "outputs": [
    {
     "data": {
      "text/plain": [
       "<tf.Tensor 'embedding_2/embedding_lookup/Identity_1:0' shape=(None, 500, 32) dtype=float32>"
      ]
     },
     "execution_count": 16,
     "metadata": {
      "tags": []
     },
     "output_type": "execute_result"
    }
   ],
   "source": [
    "emb"
   ]
  },
  {
   "cell_type": "code",
   "execution_count": 17,
   "metadata": {
    "colab": {
     "base_uri": "https://localhost:8080/",
     "height": 267
    },
    "colab_type": "code",
    "id": "8DtSfbeZHrM2",
    "outputId": "2455c193-8b2b-4be2-a200-36279bad49ba"
   },
   "outputs": [
    {
     "name": "stdout",
     "output_type": "stream",
     "text": [
      "p1:\n",
      "Tensor(\"lstm_5/transpose_1:0\", shape=(None, 500, 40), dtype=float32)\n",
      "p1:\n",
      "Tensor(\"lstm_6/transpose_1:0\", shape=(None, 500, 20), dtype=float32)\n",
      "p2:\n",
      "Tensor(\"lstm_7/transpose_1:0\", shape=(None, 500, 40), dtype=float32)\n",
      "p2:\n",
      "Tensor(\"lstm_8/transpose_1:0\", shape=(None, 500, 20), dtype=float32)\n",
      "out:\n",
      "Tensor(\"concatenate_2/concat:0\", shape=(None, 500, 40), dtype=float32)\n",
      "out after flatten:\n",
      "Tensor(\"flatten_2/Reshape:0\", shape=(None, None), dtype=float32)\n",
      "final out\n"
     ]
    },
    {
     "data": {
      "text/plain": [
       "<tf.Tensor 'dense_2/Sigmoid:0' shape=(None, 1) dtype=float32>"
      ]
     },
     "execution_count": 17,
     "metadata": {
      "tags": []
     },
     "output_type": "execute_result"
    }
   ],
   "source": [
    "# ---------------- path one -------------------------\n",
    "path_1 = LSTM(40, return_sequences= True)(emb)\n",
    "print('p1:')\n",
    "print(path_1)\n",
    "\n",
    "path_1= LSTM(20, return_sequences= True)(path_1)\n",
    "print('p1:')\n",
    "print(path_1)\n",
    "\n",
    "# ---------------- path two -------------------------\n",
    "path_2 = LSTM(40, return_sequences= True)(emb)\n",
    "print('p2:')\n",
    "print(path_2)\n",
    "path_2 = LSTM(20, return_sequences= True)(path_2)\n",
    "print('p2:')\n",
    "print(path_2)\n",
    "\n",
    "# ---------------- concatenating -------------------------\n",
    "outl = Concatenate()([path_1,path_2])\n",
    "print('out:')\n",
    "print(outl)\n",
    "\n",
    "outl = Flatten()(outl)\n",
    "print('out after flatten:')\n",
    "print(outl)\n",
    "\n",
    "# ---------------- final output -------------------------\n",
    "outl = Dense(1, activation='sigmoid')(outl)\n",
    "print('final out')\n",
    "outl"
   ]
  },
  {
   "cell_type": "code",
   "execution_count": 21,
   "metadata": {
    "colab": {
     "base_uri": "https://localhost:8080/",
     "height": 517
    },
    "colab_type": "code",
    "id": "5Q5aJl2QbSB6",
    "outputId": "d62e79d3-207c-4f2b-c610-2547c493ed59"
   },
   "outputs": [
    {
     "name": "stdout",
     "output_type": "stream",
     "text": [
      "Model: \"model_3\"\n",
      "__________________________________________________________________________________________________\n",
      "Layer (type)                    Output Shape         Param #     Connected to                     \n",
      "==================================================================================================\n",
      "input_2 (InputLayer)            (None, 500)          0                                            \n",
      "__________________________________________________________________________________________________\n",
      "embedding_2 (Embedding)         (None, 500, 32)      160000      input_2[0][0]                    \n",
      "__________________________________________________________________________________________________\n",
      "lstm_5 (LSTM)                   (None, 500, 40)      11680       embedding_2[0][0]                \n",
      "__________________________________________________________________________________________________\n",
      "lstm_7 (LSTM)                   (None, 500, 40)      11680       embedding_2[0][0]                \n",
      "__________________________________________________________________________________________________\n",
      "lstm_6 (LSTM)                   (None, 500, 20)      4880        lstm_5[0][0]                     \n",
      "__________________________________________________________________________________________________\n",
      "lstm_8 (LSTM)                   (None, 500, 20)      4880        lstm_7[0][0]                     \n",
      "__________________________________________________________________________________________________\n",
      "concatenate_2 (Concatenate)     (None, 500, 40)      0           lstm_6[0][0]                     \n",
      "                                                                 lstm_8[0][0]                     \n",
      "__________________________________________________________________________________________________\n",
      "flatten_2 (Flatten)             (None, 20000)        0           concatenate_2[0][0]              \n",
      "__________________________________________________________________________________________________\n",
      "dense_2 (Dense)                 (None, 1)            20001       flatten_2[0][0]                  \n",
      "==================================================================================================\n",
      "Total params: 213,121\n",
      "Trainable params: 213,121\n",
      "Non-trainable params: 0\n",
      "__________________________________________________________________________________________________\n",
      "None\n"
     ]
    }
   ],
   "source": [
    "model= Model(inputs = input_seq, outputs = outl)\n",
    "print(model.summary())"
   ]
  },
  {
   "cell_type": "markdown",
   "metadata": {
    "colab_type": "text",
    "id": "BCSGo_l4r50C"
   },
   "source": [
    "Train"
   ]
  },
  {
   "cell_type": "code",
   "execution_count": 22,
   "metadata": {
    "colab": {
     "base_uri": "https://localhost:8080/",
     "height": 823
    },
    "colab_type": "code",
    "id": "ZJ1_bAXVHqxC",
    "outputId": "24a71afa-70af-4f51-f1c0-b931f6c6a30a"
   },
   "outputs": [
    {
     "name": "stderr",
     "output_type": "stream",
     "text": [
      "/usr/local/lib/python3.6/dist-packages/tensorflow/python/framework/indexed_slices.py:434: UserWarning: Converting sparse IndexedSlices to a dense Tensor of unknown shape. This may consume a large amount of memory.\n",
      "  \"Converting sparse IndexedSlices to a dense Tensor of unknown shape. \"\n"
     ]
    },
    {
     "name": "stdout",
     "output_type": "stream",
     "text": [
      "Train on 24488 samples, validate on 512 samples\n",
      "Epoch 1/20\n",
      "24488/24488 [==============================] - 200s 8ms/step - loss: 0.1548 - accuracy: 0.9407 - precision_3: 0.9378 - recall_3: 0.9440 - val_loss: 0.5494 - val_accuracy: 0.8477 - val_precision_3: 0.8904 - val_recall_3: 0.7930\n",
      "Epoch 2/20\n",
      "24488/24488 [==============================] - 197s 8ms/step - loss: 0.0614 - accuracy: 0.9789 - precision_3: 0.9794 - recall_3: 0.9784 - val_loss: 0.7768 - val_accuracy: 0.8398 - val_precision_3: 0.8884 - val_recall_3: 0.7773\n",
      "Epoch 3/20\n",
      "24488/24488 [==============================] - 194s 8ms/step - loss: 0.0411 - accuracy: 0.9879 - precision_3: 0.9882 - recall_3: 0.9876 - val_loss: 0.8737 - val_accuracy: 0.8457 - val_precision_3: 0.8766 - val_recall_3: 0.8047\n",
      "Epoch 4/20\n",
      "24488/24488 [==============================] - 198s 8ms/step - loss: 0.0282 - accuracy: 0.9919 - precision_3: 0.9918 - recall_3: 0.9919 - val_loss: 1.0651 - val_accuracy: 0.8262 - val_precision_3: 0.8678 - val_recall_3: 0.7695\n",
      "Epoch 5/20\n",
      "24488/24488 [==============================] - 198s 8ms/step - loss: 0.0242 - accuracy: 0.9926 - precision_3: 0.9928 - recall_3: 0.9924 - val_loss: 1.1909 - val_accuracy: 0.8379 - val_precision_3: 0.8650 - val_recall_3: 0.8008\n",
      "Epoch 6/20\n",
      "24488/24488 [==============================] - 198s 8ms/step - loss: 0.0177 - accuracy: 0.9951 - precision_3: 0.9950 - recall_3: 0.9952 - val_loss: 1.2585 - val_accuracy: 0.8516 - val_precision_3: 0.8629 - val_recall_3: 0.8359\n",
      "Epoch 7/20\n",
      "24488/24488 [==============================] - 197s 8ms/step - loss: 0.0197 - accuracy: 0.9933 - precision_3: 0.9931 - recall_3: 0.9935 - val_loss: 1.3716 - val_accuracy: 0.8379 - val_precision_3: 0.8712 - val_recall_3: 0.7930\n",
      "Epoch 8/20\n",
      "24488/24488 [==============================] - 196s 8ms/step - loss: 0.0140 - accuracy: 0.9954 - precision_3: 0.9957 - recall_3: 0.9950 - val_loss: 1.4528 - val_accuracy: 0.8477 - val_precision_3: 0.8708 - val_recall_3: 0.8164\n",
      "Epoch 9/20\n",
      "24488/24488 [==============================] - 197s 8ms/step - loss: 0.0130 - accuracy: 0.9954 - precision_3: 0.9953 - recall_3: 0.9954 - val_loss: 1.5758 - val_accuracy: 0.8477 - val_precision_3: 0.8532 - val_recall_3: 0.8398\n",
      "Epoch 10/20\n",
      "24488/24488 [==============================] - 196s 8ms/step - loss: 0.0170 - accuracy: 0.9934 - precision_3: 0.9938 - recall_3: 0.9930 - val_loss: 1.6182 - val_accuracy: 0.8438 - val_precision_3: 0.8577 - val_recall_3: 0.8242\n",
      "Epoch 11/20\n",
      "24488/24488 [==============================] - 195s 8ms/step - loss: 0.0162 - accuracy: 0.9944 - precision_3: 0.9944 - recall_3: 0.9944 - val_loss: 1.6130 - val_accuracy: 0.8477 - val_precision_3: 0.8589 - val_recall_3: 0.8320\n",
      "Epoch 12/20\n",
      "24488/24488 [==============================] - 195s 8ms/step - loss: 0.0175 - accuracy: 0.9939 - precision_3: 0.9938 - recall_3: 0.9940 - val_loss: 1.6149 - val_accuracy: 0.8496 - val_precision_3: 0.8683 - val_recall_3: 0.8242\n",
      "Epoch 13/20\n",
      "24488/24488 [==============================] - 195s 8ms/step - loss: 0.0125 - accuracy: 0.9961 - precision_3: 0.9964 - recall_3: 0.9958 - val_loss: 1.6591 - val_accuracy: 0.8340 - val_precision_3: 0.8548 - val_recall_3: 0.8047\n",
      "Epoch 14/20\n",
      "24488/24488 [==============================] - 195s 8ms/step - loss: 0.0056 - accuracy: 0.9984 - precision_3: 0.9986 - recall_3: 0.9983 - val_loss: 1.8492 - val_accuracy: 0.8281 - val_precision_3: 0.8471 - val_recall_3: 0.8008\n",
      "Epoch 15/20\n",
      "24488/24488 [==============================] - 198s 8ms/step - loss: 0.0030 - accuracy: 0.9994 - precision_3: 0.9992 - recall_3: 0.9997 - val_loss: 1.9613 - val_accuracy: 0.8340 - val_precision_3: 0.8638 - val_recall_3: 0.7930\n",
      "Epoch 16/20\n",
      "24488/24488 [==============================] - 196s 8ms/step - loss: 0.0010 - accuracy: 0.9999 - precision_3: 0.9999 - recall_3: 0.9999 - val_loss: 2.0508 - val_accuracy: 0.8281 - val_precision_3: 0.8559 - val_recall_3: 0.7891\n",
      "Epoch 17/20\n",
      "24488/24488 [==============================] - 194s 8ms/step - loss: 5.7317e-04 - accuracy: 0.9999 - precision_3: 0.9999 - recall_3: 0.9999 - val_loss: 2.2022 - val_accuracy: 0.8301 - val_precision_3: 0.8627 - val_recall_3: 0.7852\n",
      "Epoch 18/20\n",
      "24488/24488 [==============================] - 194s 8ms/step - loss: 3.0813e-04 - accuracy: 0.9999 - precision_3: 0.9999 - recall_3: 0.9999 - val_loss: 2.2522 - val_accuracy: 0.8281 - val_precision_3: 0.8559 - val_recall_3: 0.7891\n",
      "Epoch 19/20\n",
      "24488/24488 [==============================] - 193s 8ms/step - loss: 2.0204e-04 - accuracy: 1.0000 - precision_3: 0.9999 - recall_3: 1.0000 - val_loss: 2.3536 - val_accuracy: 0.8301 - val_precision_3: 0.8658 - val_recall_3: 0.7812\n",
      "Epoch 20/20\n",
      "24488/24488 [==============================] - 197s 8ms/step - loss: 1.6384e-04 - accuracy: 1.0000 - precision_3: 1.0000 - recall_3: 1.0000 - val_loss: 2.3593 - val_accuracy: 0.8262 - val_precision_3: 0.8553 - val_recall_3: 0.7852\n",
      "Test accuracy: 0.8170400261878967\n"
     ]
    }
   ],
   "source": [
    "model.compile(loss='binary_crossentropy', \n",
    "             optimizer='adam', \n",
    "             metrics=['accuracy', keras.metrics.Precision(), keras.metrics.Recall()])\n",
    "\t\t\t \n",
    "batch_size = 512\n",
    "num_epochs = 20\n",
    "X_valid, y_valid = X_train[:batch_size], y_train[:batch_size]\n",
    "X_train2, y_train2 = X_train[batch_size:], y_train[batch_size:]\n",
    "model.fit(X_train2, y_train2, validation_data=(X_valid, y_valid), batch_size=batch_size, epochs=num_epochs)\n",
    "scores = model.evaluate(X_test, y_test, verbose=0)\n",
    "print('Test accuracy:', scores[1])"
   ]
  },
  {
   "cell_type": "code",
   "execution_count": 23,
   "metadata": {
    "colab": {
     "base_uri": "https://localhost:8080/",
     "height": 71
    },
    "colab_type": "code",
    "id": "i_4UbCBk5M3M",
    "outputId": "724c81bf-2029-477c-c62c-361fb9c2a3db"
   },
   "outputs": [
    {
     "name": "stdout",
     "output_type": "stream",
     "text": [
      "accuracy: 81.70400261878967 \n",
      " precision: 82.20380544662476 \n",
      " recall: 80.92799782752991\n"
     ]
    }
   ],
   "source": [
    "print(\"accuracy:\", scores[1]*100 , \"\\n precision:\", scores[2]*100, \"\\n recall:\", scores[3]*100)"
   ]
  }
 ],
 "metadata": {
  "accelerator": "GPU",
  "colab": {
   "collapsed_sections": [],
   "name": "DL_5_LSTM_update3_20epoch_inception and stacked-sigmoid.ipynb",
   "provenance": []
  },
  "kernelspec": {
   "display_name": "Python 3",
   "language": "python",
   "name": "python3"
  },
  "language_info": {
   "codemirror_mode": {
    "name": "ipython",
    "version": 3
   },
   "file_extension": ".py",
   "mimetype": "text/x-python",
   "name": "python",
   "nbconvert_exporter": "python",
   "pygments_lexer": "ipython3",
   "version": "3.5.3"
  }
 },
 "nbformat": 4,
 "nbformat_minor": 1
}
