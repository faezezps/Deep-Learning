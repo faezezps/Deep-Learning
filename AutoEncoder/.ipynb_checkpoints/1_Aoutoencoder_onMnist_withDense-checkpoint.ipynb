{
 "cells": [
  {
   "cell_type": "code",
   "execution_count": 7,
   "metadata": {
    "colab": {},
    "colab_type": "code",
    "id": "WEioN_clAUE9"
   },
   "outputs": [],
   "source": [
    "from keras.layers import Input, Dense\n",
    "from keras.models import Model\n",
    "\n",
    "from keras.datasets import mnist\n",
    "import numpy as np\n",
    "\n",
    "import matplotlib.pyplot as plt"
   ]
  },
  {
   "cell_type": "markdown",
   "metadata": {
    "colab_type": "text",
    "id": "aQ84z8DaCLrU"
   },
   "source": [
    "# Data"
   ]
  },
  {
   "cell_type": "code",
   "execution_count": 2,
   "metadata": {
    "colab": {
     "base_uri": "https://localhost:8080/",
     "height": 89
    },
    "colab_type": "code",
    "id": "Ej6x322yCKFF",
    "outputId": "92027aa5-b6b9-4051-95e1-0e66c1dd241e"
   },
   "outputs": [
    {
     "name": "stdout",
     "output_type": "stream",
     "text": [
      "Downloading data from https://s3.amazonaws.com/img-datasets/mnist.npz\n",
      "11493376/11490434 [==============================] - 1s 0us/step\n",
      "(60000, 784)\n",
      "(10000, 784)\n"
     ]
    }
   ],
   "source": [
    "(x_train, _), (x_test, _) = mnist.load_data()\n",
    "x_train = x_train.astype('float32') / 255.\n",
    "x_test = x_test.astype('float32') / 255.\n",
    "x_train = x_train.reshape((len(x_train), np.prod(x_train.shape[1:])))\n",
    "x_test = x_test.reshape((len(x_test), np.prod(x_test.shape[1:])))\n",
    "print(x_train.shape)\n",
    "print(x_test.shape)"
   ]
  },
  {
   "cell_type": "markdown",
   "metadata": {
    "colab_type": "text",
    "id": "IFAlSqhvCVfQ"
   },
   "source": [
    "# Model"
   ]
  },
  {
   "cell_type": "code",
   "execution_count": 3,
   "metadata": {
    "colab": {},
    "colab_type": "code",
    "id": "GdyhTbF8ANET"
   },
   "outputs": [],
   "source": [
    "# size of encoded representations\n",
    "encoding_dim = 32\n",
    "\n",
    "# this is our input placeholder\n",
    "input_img = Input(shape=(784,))\n",
    "\n",
    "# encoded representation of the input\n",
    "encoded = Dense(encoding_dim, activation='relu')(input_img)\n",
    "\n",
    "# map input to its encoded representation\n",
    "encoder = Model(input_img, encoded)\n",
    "\n",
    "\n",
    "# input to the decoder\n",
    "encoded_input = Input(shape=(encoding_dim,))\n",
    "\n",
    "# reconstruction of the input\n",
    "decoded = Dense(784, activation='sigmoid')(encoded_input)\n",
    "decoded = Dense(784, activation='sigmoid')(decoded)\n",
    "\n",
    "# decoder model\n",
    "decoder = Model(encoded_input, decoded)\n",
    "\n",
    "# map an input to its reconstruction\n",
    "out = decoder(encoder(input_img))\n",
    "\n",
    "autoencoder = Model(input_img,out)"
   ]
  },
  {
   "cell_type": "code",
   "execution_count": 5,
   "metadata": {
    "colab": {
     "base_uri": "https://localhost:8080/",
     "height": 268
    },
    "colab_type": "code",
    "id": "vvFa8u1xCcFr",
    "outputId": "b30999c8-66af-4994-b8a9-be410045a7e7"
   },
   "outputs": [
    {
     "name": "stdout",
     "output_type": "stream",
     "text": [
      "Model: \"model_3\"\n",
      "_________________________________________________________________\n",
      "Layer (type)                 Output Shape              Param #   \n",
      "=================================================================\n",
      "input_1 (InputLayer)         (None, 784)               0         \n",
      "_________________________________________________________________\n",
      "model_1 (Model)              (None, 32)                25120     \n",
      "_________________________________________________________________\n",
      "model_2 (Model)              (None, 784)               641312    \n",
      "=================================================================\n",
      "Total params: 666,432\n",
      "Trainable params: 666,432\n",
      "Non-trainable params: 0\n",
      "_________________________________________________________________\n"
     ]
    }
   ],
   "source": [
    "autoencoder.summary()"
   ]
  },
  {
   "cell_type": "markdown",
   "metadata": {
    "colab_type": "text",
    "id": "kABRRtjjCn9A"
   },
   "source": [
    "# Train"
   ]
  },
  {
   "cell_type": "code",
   "execution_count": 6,
   "metadata": {
    "colab": {
     "base_uri": "https://localhost:8080/",
     "height": 1000
    },
    "colab_type": "code",
    "id": "DPu4yd5-CGYB",
    "outputId": "ab8e4208-866a-4b18-9bc7-f0b48c990e2b"
   },
   "outputs": [
    {
     "name": "stdout",
     "output_type": "stream",
     "text": [
      "Train on 60000 samples, validate on 10000 samples\n",
      "Epoch 1/50\n",
      "60000/60000 [==============================] - 3s 55us/step - loss: 0.3014 - val_loss: 0.2679\n",
      "Epoch 2/50\n",
      "60000/60000 [==============================] - 2s 27us/step - loss: 0.2656 - val_loss: 0.2635\n",
      "Epoch 3/50\n",
      "60000/60000 [==============================] - 2s 27us/step - loss: 0.2623 - val_loss: 0.2602\n",
      "Epoch 4/50\n",
      "60000/60000 [==============================] - 2s 27us/step - loss: 0.2579 - val_loss: 0.2540\n",
      "Epoch 5/50\n",
      "60000/60000 [==============================] - 2s 27us/step - loss: 0.2496 - val_loss: 0.2437\n",
      "Epoch 6/50\n",
      "60000/60000 [==============================] - 2s 27us/step - loss: 0.2395 - val_loss: 0.2339\n",
      "Epoch 7/50\n",
      "60000/60000 [==============================] - 2s 28us/step - loss: 0.2301 - val_loss: 0.2245\n",
      "Epoch 8/50\n",
      "60000/60000 [==============================] - 2s 28us/step - loss: 0.2212 - val_loss: 0.2158\n",
      "Epoch 9/50\n",
      "60000/60000 [==============================] - 2s 27us/step - loss: 0.2131 - val_loss: 0.2081\n",
      "Epoch 10/50\n",
      "60000/60000 [==============================] - 2s 27us/step - loss: 0.2061 - val_loss: 0.2018\n",
      "Epoch 11/50\n",
      "60000/60000 [==============================] - 2s 28us/step - loss: 0.2003 - val_loss: 0.1965\n",
      "Epoch 12/50\n",
      "60000/60000 [==============================] - 2s 28us/step - loss: 0.1955 - val_loss: 0.1921\n",
      "Epoch 13/50\n",
      "60000/60000 [==============================] - 2s 28us/step - loss: 0.1914 - val_loss: 0.1882\n",
      "Epoch 14/50\n",
      "60000/60000 [==============================] - 2s 28us/step - loss: 0.1878 - val_loss: 0.1849\n",
      "Epoch 15/50\n",
      "60000/60000 [==============================] - 2s 28us/step - loss: 0.1847 - val_loss: 0.1819\n",
      "Epoch 16/50\n",
      "60000/60000 [==============================] - 2s 28us/step - loss: 0.1819 - val_loss: 0.1793\n",
      "Epoch 17/50\n",
      "60000/60000 [==============================] - 2s 28us/step - loss: 0.1794 - val_loss: 0.1769\n",
      "Epoch 18/50\n",
      "60000/60000 [==============================] - 2s 27us/step - loss: 0.1771 - val_loss: 0.1747\n",
      "Epoch 19/50\n",
      "60000/60000 [==============================] - 2s 28us/step - loss: 0.1751 - val_loss: 0.1728\n",
      "Epoch 20/50\n",
      "60000/60000 [==============================] - 2s 28us/step - loss: 0.1732 - val_loss: 0.1710\n",
      "Epoch 21/50\n",
      "60000/60000 [==============================] - 2s 27us/step - loss: 0.1714 - val_loss: 0.1692\n",
      "Epoch 22/50\n",
      "60000/60000 [==============================] - 2s 27us/step - loss: 0.1697 - val_loss: 0.1675\n",
      "Epoch 23/50\n",
      "60000/60000 [==============================] - 2s 28us/step - loss: 0.1679 - val_loss: 0.1657\n",
      "Epoch 24/50\n",
      "60000/60000 [==============================] - 2s 28us/step - loss: 0.1661 - val_loss: 0.1638\n",
      "Epoch 25/50\n",
      "60000/60000 [==============================] - 2s 27us/step - loss: 0.1643 - val_loss: 0.1621\n",
      "Epoch 26/50\n",
      "60000/60000 [==============================] - 2s 27us/step - loss: 0.1625 - val_loss: 0.1603\n",
      "Epoch 27/50\n",
      "60000/60000 [==============================] - 2s 27us/step - loss: 0.1608 - val_loss: 0.1587\n",
      "Epoch 28/50\n",
      "60000/60000 [==============================] - 2s 28us/step - loss: 0.1592 - val_loss: 0.1571\n",
      "Epoch 29/50\n",
      "60000/60000 [==============================] - 2s 28us/step - loss: 0.1577 - val_loss: 0.1556\n",
      "Epoch 30/50\n",
      "60000/60000 [==============================] - 2s 27us/step - loss: 0.1562 - val_loss: 0.1542\n",
      "Epoch 31/50\n",
      "60000/60000 [==============================] - 2s 28us/step - loss: 0.1548 - val_loss: 0.1528\n",
      "Epoch 32/50\n",
      "60000/60000 [==============================] - 2s 27us/step - loss: 0.1535 - val_loss: 0.1515\n",
      "Epoch 33/50\n",
      "60000/60000 [==============================] - 2s 28us/step - loss: 0.1522 - val_loss: 0.1502\n",
      "Epoch 34/50\n",
      "60000/60000 [==============================] - 2s 28us/step - loss: 0.1509 - val_loss: 0.1489\n",
      "Epoch 35/50\n",
      "60000/60000 [==============================] - 2s 28us/step - loss: 0.1497 - val_loss: 0.1477\n",
      "Epoch 36/50\n",
      "60000/60000 [==============================] - 2s 28us/step - loss: 0.1485 - val_loss: 0.1465\n",
      "Epoch 37/50\n",
      "60000/60000 [==============================] - 2s 28us/step - loss: 0.1474 - val_loss: 0.1453\n",
      "Epoch 38/50\n",
      "60000/60000 [==============================] - 2s 27us/step - loss: 0.1463 - val_loss: 0.1443\n",
      "Epoch 39/50\n",
      "60000/60000 [==============================] - 2s 28us/step - loss: 0.1452 - val_loss: 0.1432\n",
      "Epoch 40/50\n",
      "60000/60000 [==============================] - 2s 28us/step - loss: 0.1442 - val_loss: 0.1422\n",
      "Epoch 41/50\n",
      "60000/60000 [==============================] - 2s 28us/step - loss: 0.1432 - val_loss: 0.1413\n",
      "Epoch 42/50\n",
      "60000/60000 [==============================] - 2s 28us/step - loss: 0.1423 - val_loss: 0.1403\n",
      "Epoch 43/50\n",
      "60000/60000 [==============================] - 2s 28us/step - loss: 0.1414 - val_loss: 0.1394\n",
      "Epoch 44/50\n",
      "60000/60000 [==============================] - 2s 29us/step - loss: 0.1405 - val_loss: 0.1385\n",
      "Epoch 45/50\n",
      "60000/60000 [==============================] - 2s 29us/step - loss: 0.1397 - val_loss: 0.1377\n",
      "Epoch 46/50\n",
      "60000/60000 [==============================] - 2s 29us/step - loss: 0.1388 - val_loss: 0.1369\n",
      "Epoch 47/50\n",
      "60000/60000 [==============================] - 2s 29us/step - loss: 0.1380 - val_loss: 0.1361\n",
      "Epoch 48/50\n",
      "60000/60000 [==============================] - 2s 29us/step - loss: 0.1373 - val_loss: 0.1353\n",
      "Epoch 49/50\n",
      "60000/60000 [==============================] - 2s 28us/step - loss: 0.1365 - val_loss: 0.1346\n",
      "Epoch 50/50\n",
      "60000/60000 [==============================] - 2s 27us/step - loss: 0.1358 - val_loss: 0.1339\n"
     ]
    },
    {
     "data": {
      "text/plain": [
       "<keras.callbacks.callbacks.History at 0x7f3f573ea518>"
      ]
     },
     "execution_count": 6,
     "metadata": {
      "tags": []
     },
     "output_type": "execute_result"
    }
   ],
   "source": [
    "autoencoder.compile(optimizer='adadelta', loss='binary_crossentropy')\n",
    "\n",
    "autoencoder.fit(x_train, x_train,\n",
    "                epochs=50,\n",
    "                batch_size=256,\n",
    "                shuffle=True,\n",
    "                validation_data=(x_test, x_test))"
   ]
  },
  {
   "cell_type": "markdown",
   "metadata": {
    "colab_type": "text",
    "id": "OyHHRkN6Crwa"
   },
   "source": [
    "# Visualize"
   ]
  },
  {
   "cell_type": "code",
   "execution_count": 8,
   "metadata": {
    "colab": {
     "base_uri": "https://localhost:8080/",
     "height": 248
    },
    "colab_type": "code",
    "id": "0GHqETxRCqDO",
    "outputId": "f7cd645d-2cb5-43a7-c1c0-98caae5277c1"
   },
   "outputs": [
    {
     "data": {
      "image/png": "[encoded data removed]",
      "text/plain": [
       "<Figure size 1440x288 with 20 Axes>"
      ]
     },
     "metadata": {
      "needs_background": "light",
      "tags": []
     },
     "output_type": "display_data"
    }
   ],
   "source": [
    "encoded_imgs = encoder.predict(x_test)\n",
    "decoded_imgs = decoder.predict(encoded_imgs)\n",
    "\n",
    "n = 10\n",
    "plt.figure(figsize=(20, 4))\n",
    "for i in range(n):\n",
    "    # display original\n",
    "    ax = plt.subplot(2, n, i + 1)\n",
    "    plt.imshow(x_test[i].reshape(28, 28))\n",
    "    plt.gray()\n",
    "    ax.get_xaxis().set_visible(False)\n",
    "    ax.get_yaxis().set_visible(False)\n",
    "\n",
    "    # display reconstruction\n",
    "    ax = plt.subplot(2, n, i + 1 + n)\n",
    "    plt.imshow(decoded_imgs[i].reshape(28, 28))\n",
    "    plt.gray()\n",
    "    ax.get_xaxis().set_visible(False)\n",
    "    ax.get_yaxis().set_visible(False)\n",
    "plt.show()"
   ]
  }
 ],
 "metadata": {
  "accelerator": "GPU",
  "colab": {
   "collapsed_sections": [],
   "name": "Aoutoencoder_baseline.ipynb",
   "provenance": []
  },
  "kernelspec": {
   "display_name": "Python 3",
   "language": "python",
   "name": "python3"
  },
  "language_info": {
   "codemirror_mode": {
    "name": "ipython",
    "version": 3
   },
   "file_extension": ".py",
   "mimetype": "text/x-python",
   "name": "python",
   "nbconvert_exporter": "python",
   "pygments_lexer": "ipython3",
   "version": "3.5.3"
  }
 },
 "nbformat": 4,
 "nbformat_minor": 1
}
