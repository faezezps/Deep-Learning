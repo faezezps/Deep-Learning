{
 "cells": [
  {
   "cell_type": "code",
   "execution_count": 1,
   "metadata": {
    "colab": {
     "base_uri": "https://localhost:8080/",
     "height": 36
    },
    "colab_type": "code",
    "id": "0ofFmCQJi4HI",
    "outputId": "a343a8c6-2b35-4118-d69a-d2577cc46975"
   },
   "outputs": [
    {
     "name": "stderr",
     "output_type": "stream",
     "text": [
      "Using TensorFlow backend.\n"
     ]
    }
   ],
   "source": [
    "from keras.layers import Input, Dense\n",
    "from keras.models import Model\n",
    "\n",
    "from keras.datasets import mnist, cifar100\n",
    "import numpy as np\n",
    "\n",
    "import matplotlib.pyplot as plt"
   ]
  },
  {
   "cell_type": "markdown",
   "metadata": {
    "colab_type": "text",
    "id": "aQ84z8DaCLrU"
   },
   "source": [
    "# Data"
   ]
  },
  {
   "cell_type": "code",
   "execution_count": 2,
   "metadata": {
    "colab": {
     "base_uri": "https://localhost:8080/",
     "height": 54
    },
    "colab_type": "code",
    "id": "iN3kqV8HjEmg",
    "outputId": "383fd6bb-1536-40b3-c9dd-cef01cd7bd1b"
   },
   "outputs": [
    {
     "name": "stdout",
     "output_type": "stream",
     "text": [
      "(60000, 784)\n",
      "(10000, 784)\n"
     ]
    }
   ],
   "source": [
    "(x_train, _), (x_test, _) = mnist.load_data()\n",
    "x_train = x_train.astype('float32') / 255.\n",
    "x_test = x_test.astype('float32') / 255.\n",
    "x_train = x_train.reshape((len(x_train), np.prod(x_train.shape[1:])))\n",
    "x_test = x_test.reshape((len(x_test), np.prod(x_test.shape[1:])))\n",
    "print(x_train.shape)\n",
    "print(x_test.shape)"
   ]
  },
  {
   "cell_type": "markdown",
   "metadata": {
    "colab_type": "text",
    "id": "IFAlSqhvCVfQ"
   },
   "source": [
    "# Model"
   ]
  },
  {
   "cell_type": "code",
   "execution_count": 3,
   "metadata": {
    "colab": {},
    "colab_type": "code",
    "id": "E4MH42tDizk_"
   },
   "outputs": [],
   "source": [
    "# size of encoded representations\n",
    "encoding_dim = 32\n",
    "\n",
    "# input placeholder\n",
    "input_img = Input(shape=(784,))\n",
    "\n",
    "\n",
    "# encoded representation of the input\n",
    "encoded = Dense(600, activation='relu')(input_img)\n",
    "encoded = Dense(512, activation='relu')(encoded)\n",
    "encoded = Dense(256, activation='relu')(encoded)\n",
    "encoded = Dense(128, activation='relu')(encoded)\n",
    "encoded = Dense(encoding_dim, activation='relu')(encoded)\n",
    "\n",
    "# map input to its encoded representation\n",
    "encoder = Model(input_img, encoded)\n",
    "\n",
    "\n",
    "# input to the decoder\n",
    "encoded_input = Input(shape=(encoding_dim,))\n",
    "\n",
    "# reconstruction of the input\n",
    "decoded = Dense(128, activation='sigmoid')(encoded_input)\n",
    "decoded = Dense(256, activation='sigmoid')(decoded)\n",
    "decoded = Dense(512, activation='sigmoid')(decoded)\n",
    "decoded = Dense(600, activation='sigmoid')(decoded)\n",
    "decoded = Dense(784, activation='sigmoid')(decoded)\n",
    "\n",
    "# decoder model\n",
    "decoder = Model(encoded_input, decoded)\n",
    "\n",
    "# map an input to its reconstruction\n",
    "out = decoder(encoder(input_img))\n",
    "autoencoder = Model(input_img,out)"
   ]
  },
  {
   "cell_type": "code",
   "execution_count": 4,
   "metadata": {
    "colab": {
     "base_uri": "https://localhost:8080/",
     "height": 278
    },
    "colab_type": "code",
    "id": "404uPl2GlVzc",
    "outputId": "2466cc75-edc3-4000-9b83-e9f8a7bdcad9"
   },
   "outputs": [
    {
     "name": "stdout",
     "output_type": "stream",
     "text": [
      "Model: \"model_3\"\n",
      "_________________________________________________________________\n",
      "Layer (type)                 Output Shape              Param #   \n",
      "=================================================================\n",
      "input_1 (InputLayer)         (None, 784)               0         \n",
      "_________________________________________________________________\n",
      "model_1 (Model)              (None, 32)                947064    \n",
      "_________________________________________________________________\n",
      "model_2 (Model)              (None, 784)               947816    \n",
      "=================================================================\n",
      "Total params: 1,894,880\n",
      "Trainable params: 1,894,880\n",
      "Non-trainable params: 0\n",
      "_________________________________________________________________\n"
     ]
    }
   ],
   "source": [
    "autoencoder.summary()"
   ]
  },
  {
   "cell_type": "markdown",
   "metadata": {
    "colab_type": "text",
    "id": "kABRRtjjCn9A"
   },
   "source": [
    "# Train"
   ]
  },
  {
   "cell_type": "code",
   "execution_count": 5,
   "metadata": {
    "colab": {
     "base_uri": "https://localhost:8080/",
     "height": 1000
    },
    "colab_type": "code",
    "id": "y6yDfd0hjcpL",
    "outputId": "bca36760-6d42-4c7a-a489-b3b95da4d9d4"
   },
   "outputs": [
    {
     "name": "stdout",
     "output_type": "stream",
     "text": [
      "Train on 60000 samples, validate on 10000 samples\n",
      "Epoch 1/50\n",
      "60000/60000 [==============================] - 2s 40us/step - loss: 0.2985 - val_loss: 0.2657\n",
      "Epoch 2/50\n",
      "60000/60000 [==============================] - 2s 30us/step - loss: 0.2647 - val_loss: 0.2637\n",
      "Epoch 3/50\n",
      "60000/60000 [==============================] - 2s 32us/step - loss: 0.2638 - val_loss: 0.2633\n",
      "Epoch 4/50\n",
      "60000/60000 [==============================] - 2s 31us/step - loss: 0.2634 - val_loss: 0.2631\n",
      "Epoch 5/50\n",
      "60000/60000 [==============================] - 2s 31us/step - loss: 0.2633 - val_loss: 0.2630\n",
      "Epoch 6/50\n",
      "60000/60000 [==============================] - 2s 31us/step - loss: 0.2632 - val_loss: 0.2629\n",
      "Epoch 7/50\n",
      "60000/60000 [==============================] - 2s 30us/step - loss: 0.2631 - val_loss: 0.2628\n",
      "Epoch 8/50\n",
      "60000/60000 [==============================] - 2s 31us/step - loss: 0.2631 - val_loss: 0.2627\n",
      "Epoch 9/50\n",
      "60000/60000 [==============================] - 2s 30us/step - loss: 0.2630 - val_loss: 0.2627\n",
      "Epoch 10/50\n",
      "60000/60000 [==============================] - 2s 31us/step - loss: 0.2630 - val_loss: 0.2627\n",
      "Epoch 11/50\n",
      "60000/60000 [==============================] - 2s 31us/step - loss: 0.2630 - val_loss: 0.2627\n",
      "Epoch 12/50\n",
      "60000/60000 [==============================] - 2s 30us/step - loss: 0.2630 - val_loss: 0.2627\n",
      "Epoch 13/50\n",
      "60000/60000 [==============================] - 2s 30us/step - loss: 0.2629 - val_loss: 0.2626\n",
      "Epoch 14/50\n",
      "60000/60000 [==============================] - 2s 31us/step - loss: 0.2629 - val_loss: 0.2626\n",
      "Epoch 15/50\n",
      "60000/60000 [==============================] - 2s 31us/step - loss: 0.2629 - val_loss: 0.2627\n",
      "Epoch 16/50\n",
      "60000/60000 [==============================] - 2s 32us/step - loss: 0.2629 - val_loss: 0.2626\n",
      "Epoch 17/50\n",
      "60000/60000 [==============================] - 2s 31us/step - loss: 0.2629 - val_loss: 0.2627\n",
      "Epoch 18/50\n",
      "60000/60000 [==============================] - 2s 31us/step - loss: 0.2629 - val_loss: 0.2626\n",
      "Epoch 19/50\n",
      "60000/60000 [==============================] - 2s 31us/step - loss: 0.2629 - val_loss: 0.2626\n",
      "Epoch 20/50\n",
      "60000/60000 [==============================] - 2s 32us/step - loss: 0.2629 - val_loss: 0.2626\n",
      "Epoch 21/50\n",
      "60000/60000 [==============================] - 2s 30us/step - loss: 0.2629 - val_loss: 0.2626\n",
      "Epoch 22/50\n",
      "60000/60000 [==============================] - 2s 31us/step - loss: 0.2629 - val_loss: 0.2626\n",
      "Epoch 23/50\n",
      "60000/60000 [==============================] - 2s 30us/step - loss: 0.2629 - val_loss: 0.2626\n",
      "Epoch 24/50\n",
      "60000/60000 [==============================] - 2s 31us/step - loss: 0.2629 - val_loss: 0.2626\n",
      "Epoch 25/50\n",
      "60000/60000 [==============================] - 2s 31us/step - loss: 0.2629 - val_loss: 0.2626\n",
      "Epoch 26/50\n",
      "60000/60000 [==============================] - 2s 30us/step - loss: 0.2629 - val_loss: 0.2626\n",
      "Epoch 27/50\n",
      "60000/60000 [==============================] - 2s 30us/step - loss: 0.2629 - val_loss: 0.2626\n",
      "Epoch 28/50\n",
      "60000/60000 [==============================] - 2s 31us/step - loss: 0.2629 - val_loss: 0.2625\n",
      "Epoch 29/50\n",
      "60000/60000 [==============================] - 2s 31us/step - loss: 0.2629 - val_loss: 0.2626\n",
      "Epoch 30/50\n",
      "60000/60000 [==============================] - 2s 31us/step - loss: 0.2629 - val_loss: 0.2626\n",
      "Epoch 31/50\n",
      "60000/60000 [==============================] - 2s 31us/step - loss: 0.2629 - val_loss: 0.2626\n",
      "Epoch 32/50\n",
      "60000/60000 [==============================] - 2s 31us/step - loss: 0.2629 - val_loss: 0.2626\n",
      "Epoch 33/50\n",
      "60000/60000 [==============================] - 2s 30us/step - loss: 0.2629 - val_loss: 0.2626\n",
      "Epoch 34/50\n",
      "60000/60000 [==============================] - 2s 30us/step - loss: 0.2629 - val_loss: 0.2626\n",
      "Epoch 35/50\n",
      "60000/60000 [==============================] - 2s 30us/step - loss: 0.2629 - val_loss: 0.2626\n",
      "Epoch 36/50\n",
      "60000/60000 [==============================] - 2s 30us/step - loss: 0.2629 - val_loss: 0.2626\n",
      "Epoch 37/50\n",
      "60000/60000 [==============================] - 2s 31us/step - loss: 0.2629 - val_loss: 0.2626\n",
      "Epoch 38/50\n",
      "60000/60000 [==============================] - 2s 31us/step - loss: 0.2629 - val_loss: 0.2625\n",
      "Epoch 39/50\n",
      "60000/60000 [==============================] - 2s 31us/step - loss: 0.2629 - val_loss: 0.2626\n",
      "Epoch 40/50\n",
      "60000/60000 [==============================] - 2s 31us/step - loss: 0.2629 - val_loss: 0.2627\n",
      "Epoch 41/50\n",
      "60000/60000 [==============================] - 2s 31us/step - loss: 0.2629 - val_loss: 0.2626\n",
      "Epoch 42/50\n",
      "60000/60000 [==============================] - 2s 31us/step - loss: 0.2629 - val_loss: 0.2626\n",
      "Epoch 43/50\n",
      "60000/60000 [==============================] - 2s 31us/step - loss: 0.2629 - val_loss: 0.2626\n",
      "Epoch 44/50\n",
      "60000/60000 [==============================] - 2s 32us/step - loss: 0.2629 - val_loss: 0.2625\n",
      "Epoch 45/50\n",
      "60000/60000 [==============================] - 2s 31us/step - loss: 0.2629 - val_loss: 0.2626\n",
      "Epoch 46/50\n",
      "60000/60000 [==============================] - 2s 31us/step - loss: 0.2629 - val_loss: 0.2625\n",
      "Epoch 47/50\n",
      "60000/60000 [==============================] - 2s 30us/step - loss: 0.2629 - val_loss: 0.2626\n",
      "Epoch 48/50\n",
      "60000/60000 [==============================] - 2s 30us/step - loss: 0.2629 - val_loss: 0.2625\n",
      "Epoch 49/50\n",
      "60000/60000 [==============================] - 2s 31us/step - loss: 0.2629 - val_loss: 0.2626\n",
      "Epoch 50/50\n",
      "60000/60000 [==============================] - 2s 31us/step - loss: 0.2629 - val_loss: 0.2625\n"
     ]
    },
    {
     "data": {
      "text/plain": [
       "<keras.callbacks.callbacks.History at 0x7fe0883f1f28>"
      ]
     },
     "execution_count": 5,
     "metadata": {
      "tags": []
     },
     "output_type": "execute_result"
    }
   ],
   "source": [
    "autoencoder.compile(optimizer='adadelta', loss='binary_crossentropy')\n",
    "\n",
    "autoencoder.fit(x_train, x_train,\n",
    "                epochs=50,\n",
    "                batch_size=256,\n",
    "                shuffle=True,\n",
    "                validation_data=(x_test, x_test))"
   ]
  },
  {
   "cell_type": "markdown",
   "metadata": {
    "colab_type": "text",
    "id": "OyHHRkN6Crwa"
   },
   "source": [
    "# Visualize"
   ]
  },
  {
   "cell_type": "code",
   "execution_count": 6,
   "metadata": {
    "colab": {
     "base_uri": "https://localhost:8080/",
     "height": 216
    },
    "colab_type": "code",
    "id": "Nl8x-rgjqkSg",
    "outputId": "ad7db055-6670-4119-d0e0-3dadd47782c7"
   },
   "outputs": [
    {
     "data": {
      "image/png": "[encoded data removed]",
      "text/plain": [
       "<Figure size 1440x288 with 30 Axes>"
      ]
     },
     "metadata": {
      "needs_background": "light",
      "tags": []
     },
     "output_type": "display_data"
    }
   ],
   "source": [
    "encoded_imgs = encoder.predict(x_test)\n",
    "decoded_imgs = decoder.predict(encoded_imgs)\n",
    "\n",
    "n = 15 \n",
    "plt.figure(figsize=(20, 4))\n",
    "for i in range(n):\n",
    "    # display original\n",
    "    ax = plt.subplot(2, n, i + 1)\n",
    "    plt.imshow(x_test[i].reshape(28, 28))\n",
    "    plt.gray()\n",
    "    ax.get_xaxis().set_visible(False)\n",
    "    ax.get_yaxis().set_visible(False)\n",
    "\n",
    "    # display reconstruction\n",
    "    ax = plt.subplot(2, n, i + 1 + n)\n",
    "    plt.imshow(decoded_imgs[i].reshape(28, 28))\n",
    "    plt.gray()\n",
    "    ax.get_xaxis().set_visible(False)\n",
    "    ax.get_yaxis().set_visible(False)\n",
    "plt.show()"
   ]
  }
 ],
 "metadata": {
  "accelerator": "GPU",
  "colab": {
   "collapsed_sections": [],
   "name": "AutoEncoder_5densemnist100_encodDim32.ipynb",
   "provenance": []
  },
  "kernelspec": {
   "display_name": "Python 3",
   "language": "python",
   "name": "python3"
  },
  "language_info": {
   "codemirror_mode": {
    "name": "ipython",
    "version": 3
   },
   "file_extension": ".py",
   "mimetype": "text/x-python",
   "name": "python",
   "nbconvert_exporter": "python",
   "pygments_lexer": "ipython3",
   "version": "3.5.3"
  }
 },
 "nbformat": 4,
 "nbformat_minor": 1
}
