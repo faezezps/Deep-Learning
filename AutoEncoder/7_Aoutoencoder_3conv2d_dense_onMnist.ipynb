{
 "cells": [
  {
   "cell_type": "code",
   "execution_count": 1,
   "metadata": {
    "colab": {
     "base_uri": "https://localhost:8080/",
     "height": 36
    },
    "colab_type": "code",
    "id": "WEioN_clAUE9",
    "outputId": "cffbe534-deca-4ffd-c471-3babe9d8c965"
   },
   "outputs": [
    {
     "name": "stderr",
     "output_type": "stream",
     "text": [
      "Using TensorFlow backend.\n"
     ]
    }
   ],
   "source": [
    "from keras.layers import Input, Dense, Conv1D, LSTM , Flatten, Reshape\n",
    "from keras.models import Model\n",
    "\n",
    "from keras.datasets import mnist, cifar100\n",
    "import numpy as np\n",
    "\n",
    "import matplotlib.pyplot as plt"
   ]
  },
  {
   "cell_type": "markdown",
   "metadata": {
    "colab_type": "text",
    "id": "aQ84z8DaCLrU"
   },
   "source": [
    "# Data"
   ]
  },
  {
   "cell_type": "code",
   "execution_count": 2,
   "metadata": {
    "colab": {
     "base_uri": "https://localhost:8080/",
     "height": 54
    },
    "colab_type": "code",
    "id": "Ej6x322yCKFF",
    "outputId": "a496b6b3-808c-4490-fa4e-5c74dd98a5d4"
   },
   "outputs": [
    {
     "name": "stdout",
     "output_type": "stream",
     "text": [
      "(60000, 28, 28)\n",
      "(10000, 28, 28)\n"
     ]
    }
   ],
   "source": [
    "(x_train, _), (x_test, _) = mnist.load_data()\n",
    "x_train = x_train.astype('float32') / 255.\n",
    "x_test = x_test.astype('float32') / 255.\n",
    "\n",
    "#x_train = x_train.reshape((len(x_train), np.prod(x_train.shape[1:])))\n",
    "#x_test = x_test.reshape((len(x_test), np.prod(x_test.shape[1:])))\n",
    "\n",
    "print(x_train.shape)\n",
    "print(x_test.shape)"
   ]
  },
  {
   "cell_type": "markdown",
   "metadata": {
    "colab_type": "text",
    "id": "IFAlSqhvCVfQ"
   },
   "source": [
    "# Model"
   ]
  },
  {
   "cell_type": "code",
   "execution_count": 3,
   "metadata": {
    "colab": {},
    "colab_type": "code",
    "id": "GdyhTbF8ANET"
   },
   "outputs": [],
   "source": [
    "# size of encoded representations\n",
    "encoding_dim = 64\n",
    "\n",
    "# this is our input placeholder\n",
    "input_img = Input(shape=(28,28))\n",
    "\n",
    "# encoded representation of the input\n",
    "encoded = Conv1D(120, 3)(input_img)\n",
    "encoded = Conv1D(120,5)(encoded)\n",
    "encoded = Conv1D(120,7)(encoded)\n",
    "encoded = Flatten()(encoded)\n",
    "encoded = Dense(encoding_dim, activation='relu')(encoded)\n",
    "\n",
    "# map input to its encoded representation\n",
    "encoder = Model(input_img, encoded)\n",
    "\n",
    "\n",
    "# input to the decoder\n",
    "encoded_input = Input(shape=(encoding_dim,))\n",
    "\n",
    "# reconstruction of the input\n",
    "decoded = Dense(256, activation='softmax')(encoded_input)\n",
    "decoded = Dense(784, activation='sigmoid')(decoded)\n",
    "\n",
    "# decoder model\n",
    "decoder = Model(encoded_input, decoded)\n",
    "\n",
    "# map an input to its reconstruction\n",
    "out = decoder(encoder(input_img))\n",
    "out = Reshape((28,28))(out)\n",
    "\n",
    "autoencoder = Model(input_img,out)"
   ]
  },
  {
   "cell_type": "code",
   "execution_count": 4,
   "metadata": {
    "colab": {
     "base_uri": "https://localhost:8080/",
     "height": 390
    },
    "colab_type": "code",
    "id": "3E1dN6jsM5ar",
    "outputId": "64aee191-84fb-4b2b-b6ad-8d805b816a05"
   },
   "outputs": [
    {
     "name": "stdout",
     "output_type": "stream",
     "text": [
      "Model: \"model_1\"\n",
      "_________________________________________________________________\n",
      "Layer (type)                 Output Shape              Param #   \n",
      "=================================================================\n",
      "input_1 (InputLayer)         (None, 28, 28)            0         \n",
      "_________________________________________________________________\n",
      "conv1d_1 (Conv1D)            (None, 26, 120)           10200     \n",
      "_________________________________________________________________\n",
      "conv1d_2 (Conv1D)            (None, 22, 120)           72120     \n",
      "_________________________________________________________________\n",
      "conv1d_3 (Conv1D)            (None, 16, 120)           100920    \n",
      "_________________________________________________________________\n",
      "flatten_1 (Flatten)          (None, 1920)              0         \n",
      "_________________________________________________________________\n",
      "dense_1 (Dense)              (None, 64)                122944    \n",
      "=================================================================\n",
      "Total params: 306,184\n",
      "Trainable params: 306,184\n",
      "Non-trainable params: 0\n",
      "_________________________________________________________________\n"
     ]
    }
   ],
   "source": [
    "encoder.summary()"
   ]
  },
  {
   "cell_type": "code",
   "execution_count": 5,
   "metadata": {
    "colab": {
     "base_uri": "https://localhost:8080/",
     "height": 278
    },
    "colab_type": "code",
    "id": "dnHj8KiRM5fT",
    "outputId": "5eff0042-0f9d-4fb8-d396-861b56c7d543"
   },
   "outputs": [
    {
     "name": "stdout",
     "output_type": "stream",
     "text": [
      "Model: \"model_2\"\n",
      "_________________________________________________________________\n",
      "Layer (type)                 Output Shape              Param #   \n",
      "=================================================================\n",
      "input_2 (InputLayer)         (None, 64)                0         \n",
      "_________________________________________________________________\n",
      "dense_2 (Dense)              (None, 256)               16640     \n",
      "_________________________________________________________________\n",
      "dense_3 (Dense)              (None, 784)               201488    \n",
      "=================================================================\n",
      "Total params: 218,128\n",
      "Trainable params: 218,128\n",
      "Non-trainable params: 0\n",
      "_________________________________________________________________\n"
     ]
    }
   ],
   "source": [
    "decoder.summary()"
   ]
  },
  {
   "cell_type": "code",
   "execution_count": 6,
   "metadata": {
    "colab": {
     "base_uri": "https://localhost:8080/",
     "height": 315
    },
    "colab_type": "code",
    "id": "vvFa8u1xCcFr",
    "outputId": "cbe07c84-721b-4074-c4d0-db2dd66f2e3b"
   },
   "outputs": [
    {
     "name": "stdout",
     "output_type": "stream",
     "text": [
      "Model: \"model_3\"\n",
      "_________________________________________________________________\n",
      "Layer (type)                 Output Shape              Param #   \n",
      "=================================================================\n",
      "input_1 (InputLayer)         (None, 28, 28)            0         \n",
      "_________________________________________________________________\n",
      "model_1 (Model)              (None, 64)                306184    \n",
      "_________________________________________________________________\n",
      "model_2 (Model)              (None, 784)               218128    \n",
      "_________________________________________________________________\n",
      "reshape_1 (Reshape)          (None, 28, 28)            0         \n",
      "=================================================================\n",
      "Total params: 524,312\n",
      "Trainable params: 524,312\n",
      "Non-trainable params: 0\n",
      "_________________________________________________________________\n"
     ]
    }
   ],
   "source": [
    "autoencoder.summary()"
   ]
  },
  {
   "cell_type": "markdown",
   "metadata": {
    "colab_type": "text",
    "id": "kABRRtjjCn9A"
   },
   "source": [
    "# Train"
   ]
  },
  {
   "cell_type": "code",
   "execution_count": 7,
   "metadata": {
    "colab": {
     "base_uri": "https://localhost:8080/",
     "height": 1000
    },
    "colab_type": "code",
    "id": "DPu4yd5-CGYB",
    "outputId": "6ec2385d-5707-4b2f-fbdf-809c7d9fb12a"
   },
   "outputs": [
    {
     "name": "stdout",
     "output_type": "stream",
     "text": [
      "Train on 60000 samples, validate on 10000 samples\n",
      "Epoch 1/50\n",
      "60000/60000 [==============================] - 5s 80us/step - loss: 0.6159 - val_loss: 0.5491\n",
      "Epoch 2/50\n",
      "60000/60000 [==============================] - 3s 52us/step - loss: 0.5012 - val_loss: 0.4603\n",
      "Epoch 3/50\n",
      "60000/60000 [==============================] - 3s 52us/step - loss: 0.4296 - val_loss: 0.4035\n",
      "Epoch 4/50\n",
      "60000/60000 [==============================] - 3s 53us/step - loss: 0.3831 - val_loss: 0.3659\n",
      "Epoch 5/50\n",
      "60000/60000 [==============================] - 3s 56us/step - loss: 0.3521 - val_loss: 0.3404\n",
      "Epoch 6/50\n",
      "60000/60000 [==============================] - 3s 55us/step - loss: 0.3307 - val_loss: 0.3225\n",
      "Epoch 7/50\n",
      "60000/60000 [==============================] - 3s 54us/step - loss: 0.3155 - val_loss: 0.3096\n",
      "Epoch 8/50\n",
      "60000/60000 [==============================] - 3s 52us/step - loss: 0.3045 - val_loss: 0.3000\n",
      "Epoch 9/50\n",
      "60000/60000 [==============================] - 3s 53us/step - loss: 0.2962 - val_loss: 0.2928\n",
      "Epoch 10/50\n",
      "60000/60000 [==============================] - 3s 52us/step - loss: 0.2899 - val_loss: 0.2873\n",
      "Epoch 11/50\n",
      "60000/60000 [==============================] - 3s 52us/step - loss: 0.2851 - val_loss: 0.2830\n",
      "Epoch 12/50\n",
      "60000/60000 [==============================] - 3s 52us/step - loss: 0.2812 - val_loss: 0.2795\n",
      "Epoch 13/50\n",
      "60000/60000 [==============================] - 3s 52us/step - loss: 0.2782 - val_loss: 0.2768\n",
      "Epoch 14/50\n",
      "60000/60000 [==============================] - 3s 52us/step - loss: 0.2757 - val_loss: 0.2745\n",
      "Epoch 15/50\n",
      "60000/60000 [==============================] - 3s 52us/step - loss: 0.2737 - val_loss: 0.2727\n",
      "Epoch 16/50\n",
      "60000/60000 [==============================] - 3s 52us/step - loss: 0.2721 - val_loss: 0.2712\n",
      "Epoch 17/50\n",
      "60000/60000 [==============================] - 3s 52us/step - loss: 0.2707 - val_loss: 0.2699\n",
      "Epoch 18/50\n",
      "60000/60000 [==============================] - 3s 53us/step - loss: 0.2696 - val_loss: 0.2689\n",
      "Epoch 19/50\n",
      "60000/60000 [==============================] - 3s 52us/step - loss: 0.2686 - val_loss: 0.2680\n",
      "Epoch 20/50\n",
      "60000/60000 [==============================] - 3s 52us/step - loss: 0.2678 - val_loss: 0.2672\n",
      "Epoch 21/50\n",
      "60000/60000 [==============================] - 3s 53us/step - loss: 0.2671 - val_loss: 0.2666\n",
      "Epoch 22/50\n",
      "60000/60000 [==============================] - 3s 52us/step - loss: 0.2665 - val_loss: 0.2660\n",
      "Epoch 23/50\n",
      "60000/60000 [==============================] - 3s 52us/step - loss: 0.2660 - val_loss: 0.2656\n",
      "Epoch 24/50\n",
      "60000/60000 [==============================] - 3s 53us/step - loss: 0.2656 - val_loss: 0.2652\n",
      "Epoch 25/50\n",
      "60000/60000 [==============================] - 3s 52us/step - loss: 0.2652 - val_loss: 0.2648\n",
      "Epoch 26/50\n",
      "60000/60000 [==============================] - 3s 53us/step - loss: 0.2649 - val_loss: 0.2645\n",
      "Epoch 27/50\n",
      "60000/60000 [==============================] - 3s 52us/step - loss: 0.2646 - val_loss: 0.2643\n",
      "Epoch 28/50\n",
      "60000/60000 [==============================] - 3s 52us/step - loss: 0.2644 - val_loss: 0.2640\n",
      "Epoch 29/50\n",
      "60000/60000 [==============================] - 3s 53us/step - loss: 0.2642 - val_loss: 0.2638\n",
      "Epoch 30/50\n",
      "60000/60000 [==============================] - 3s 52us/step - loss: 0.2640 - val_loss: 0.2637\n",
      "Epoch 31/50\n",
      "60000/60000 [==============================] - 3s 52us/step - loss: 0.2639 - val_loss: 0.2635\n",
      "Epoch 32/50\n",
      "60000/60000 [==============================] - 3s 52us/step - loss: 0.2637 - val_loss: 0.2634\n",
      "Epoch 33/50\n",
      "60000/60000 [==============================] - 3s 53us/step - loss: 0.2636 - val_loss: 0.2633\n",
      "Epoch 34/50\n",
      "60000/60000 [==============================] - 3s 53us/step - loss: 0.2635 - val_loss: 0.2632\n",
      "Epoch 35/50\n",
      "60000/60000 [==============================] - 3s 53us/step - loss: 0.2634 - val_loss: 0.2631\n",
      "Epoch 36/50\n",
      "60000/60000 [==============================] - 3s 52us/step - loss: 0.2633 - val_loss: 0.2630\n",
      "Epoch 37/50\n",
      "60000/60000 [==============================] - 3s 52us/step - loss: 0.2633 - val_loss: 0.2630\n",
      "Epoch 38/50\n",
      "60000/60000 [==============================] - 3s 53us/step - loss: 0.2632 - val_loss: 0.2629\n",
      "Epoch 39/50\n",
      "60000/60000 [==============================] - 3s 53us/step - loss: 0.2632 - val_loss: 0.2629\n",
      "Epoch 40/50\n",
      "60000/60000 [==============================] - 3s 53us/step - loss: 0.2631 - val_loss: 0.2628\n",
      "Epoch 41/50\n",
      "60000/60000 [==============================] - 3s 52us/step - loss: 0.2631 - val_loss: 0.2628\n",
      "Epoch 42/50\n",
      "60000/60000 [==============================] - 3s 52us/step - loss: 0.2630 - val_loss: 0.2627\n",
      "Epoch 43/50\n",
      "60000/60000 [==============================] - 3s 53us/step - loss: 0.2630 - val_loss: 0.2627\n",
      "Epoch 44/50\n",
      "60000/60000 [==============================] - 3s 52us/step - loss: 0.2630 - val_loss: 0.2627\n",
      "Epoch 45/50\n",
      "60000/60000 [==============================] - 3s 52us/step - loss: 0.2630 - val_loss: 0.2627\n",
      "Epoch 46/50\n",
      "60000/60000 [==============================] - 3s 52us/step - loss: 0.2629 - val_loss: 0.2626\n",
      "Epoch 47/50\n",
      "60000/60000 [==============================] - 3s 53us/step - loss: 0.2629 - val_loss: 0.2626\n",
      "Epoch 48/50\n",
      "60000/60000 [==============================] - 3s 52us/step - loss: 0.2629 - val_loss: 0.2626\n",
      "Epoch 49/50\n",
      "60000/60000 [==============================] - 3s 53us/step - loss: 0.2629 - val_loss: 0.2626\n",
      "Epoch 50/50\n",
      "60000/60000 [==============================] - 3s 53us/step - loss: 0.2629 - val_loss: 0.2626\n"
     ]
    },
    {
     "data": {
      "text/plain": [
       "<keras.callbacks.callbacks.History at 0x7f99c4c38400>"
      ]
     },
     "execution_count": 7,
     "metadata": {
      "tags": []
     },
     "output_type": "execute_result"
    }
   ],
   "source": [
    "autoencoder.compile(optimizer='adam', loss='binary_crossentropy')\n",
    "\n",
    "autoencoder.fit(x_train, x_train,\n",
    "                epochs=50,\n",
    "                batch_size=256,\n",
    "                shuffle=True,\n",
    "                validation_data=(x_test, x_test))"
   ]
  },
  {
   "cell_type": "markdown",
   "metadata": {
    "colab_type": "text",
    "id": "OyHHRkN6Crwa"
   },
   "source": [
    "# Visualize"
   ]
  },
  {
   "cell_type": "code",
   "execution_count": 8,
   "metadata": {
    "colab": {
     "base_uri": "https://localhost:8080/",
     "height": 216
    },
    "colab_type": "code",
    "id": "0GHqETxRCqDO",
    "outputId": "4bca85cc-52c0-48d0-cc5f-52f692c0c62e"
   },
   "outputs": [
    {
     "data": {
      "image/png": "[encoded data removed]",
      "text/plain": [
       "<Figure size 1440x288 with 30 Axes>"
      ]
     },
     "metadata": {
      "needs_background": "light",
      "tags": []
     },
     "output_type": "display_data"
    }
   ],
   "source": [
    "encoded_imgs = encoder.predict(x_test)\n",
    "decoded_imgs = decoder.predict(encoded_imgs)\n",
    "\n",
    "n = 15 \n",
    "plt.figure(figsize=(20, 4))\n",
    "for i in range(n):\n",
    "    # display original\n",
    "    ax = plt.subplot(2, n, i + 1)\n",
    "    plt.imshow(x_test[i].reshape(28, 28))\n",
    "    plt.gray()\n",
    "    ax.get_xaxis().set_visible(False)\n",
    "    ax.get_yaxis().set_visible(False)\n",
    "\n",
    "    # display reconstruction\n",
    "    ax = plt.subplot(2, n, i + 1 + n)\n",
    "    plt.imshow(decoded_imgs[i].reshape(28, 28))\n",
    "    plt.gray()\n",
    "    ax.get_xaxis().set_visible(False)\n",
    "    ax.get_yaxis().set_visible(False)\n",
    "plt.show()"
   ]
  }
 ],
 "metadata": {
  "accelerator": "GPU",
  "colab": {
   "collapsed_sections": [],
   "name": "Aoutoencoder_3conv2d_dense_mnist_cnn.ipynb",
   "provenance": []
  },
  "kernelspec": {
   "display_name": "Python 3",
   "language": "python",
   "name": "python3"
  },
  "language_info": {
   "codemirror_mode": {
    "name": "ipython",
    "version": 3
   },
   "file_extension": ".py",
   "mimetype": "text/x-python",
   "name": "python",
   "nbconvert_exporter": "python",
   "pygments_lexer": "ipython3",
   "version": "3.5.3"
  }
 },
 "nbformat": 4,
 "nbformat_minor": 1
}
