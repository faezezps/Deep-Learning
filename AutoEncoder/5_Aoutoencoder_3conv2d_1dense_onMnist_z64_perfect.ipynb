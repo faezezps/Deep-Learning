{
 "cells": [
  {
   "cell_type": "code",
   "execution_count": 1,
   "metadata": {
    "colab": {
     "base_uri": "https://localhost:8080/",
     "height": 36
    },
    "colab_type": "code",
    "id": "WEioN_clAUE9",
    "outputId": "9f4a1fe6-c54a-4027-a3a0-ed51d64b0e5e"
   },
   "outputs": [
    {
     "name": "stderr",
     "output_type": "stream",
     "text": [
      "Using TensorFlow backend.\n"
     ]
    }
   ],
   "source": [
    "from keras.layers import Input, Dense, Conv1D, LSTM , Flatten, Reshape\n",
    "from keras.models import Model\n",
    "\n",
    "from keras.datasets import mnist, cifar100\n",
    "import numpy as np\n",
    "\n",
    "import matplotlib.pyplot as plt"
   ]
  },
  {
   "cell_type": "markdown",
   "metadata": {
    "colab_type": "text",
    "id": "aQ84z8DaCLrU"
   },
   "source": [
    "# Data"
   ]
  },
  {
   "cell_type": "code",
   "execution_count": 2,
   "metadata": {
    "colab": {
     "base_uri": "https://localhost:8080/",
     "height": 54
    },
    "colab_type": "code",
    "id": "Ej6x322yCKFF",
    "outputId": "e91af04d-2f9e-4ff8-a90f-a96909e5d9a3"
   },
   "outputs": [
    {
     "name": "stdout",
     "output_type": "stream",
     "text": [
      "(60000, 28, 28)\n",
      "(10000, 28, 28)\n"
     ]
    }
   ],
   "source": [
    "(x_train, _), (x_test, _) = mnist.load_data()\n",
    "x_train = x_train.astype('float32') / 255.\n",
    "x_test = x_test.astype('float32') / 255.\n",
    "\n",
    "#x_train = x_train.reshape((len(x_train), np.prod(x_train.shape[1:])))\n",
    "#x_test = x_test.reshape((len(x_test), np.prod(x_test.shape[1:])))\n",
    "\n",
    "print(x_train.shape)\n",
    "print(x_test.shape)"
   ]
  },
  {
   "cell_type": "markdown",
   "metadata": {
    "colab_type": "text",
    "id": "IFAlSqhvCVfQ"
   },
   "source": [
    "# Model"
   ]
  },
  {
   "cell_type": "code",
   "execution_count": 3,
   "metadata": {
    "colab": {},
    "colab_type": "code",
    "id": "GdyhTbF8ANET"
   },
   "outputs": [],
   "source": [
    "# size of encoded representations\n",
    "encoding_dim = 64\n",
    "\n",
    "# this is our input placeholder\n",
    "input_img = Input(shape=(28,28))\n",
    "\n",
    "# encoded representation of the input\n",
    "encoded = Conv1D(64, 3)(input_img)\n",
    "encoded = Conv1D(32,5)(encoded)\n",
    "encoded = Flatten()(encoded)\n",
    "encoded = Dense(encoding_dim, activation='relu')(encoded)\n",
    "\n",
    "# map input to its encoded representation\n",
    "encoder = Model(input_img, encoded)\n",
    "\n",
    "\n",
    "# input to the decoder\n",
    "encoded_input = Input(shape=(encoding_dim,))\n",
    "\n",
    "# reconstruction of the input\n",
    "decoded = Dense(784, activation='softmax')(encoded_input)\n",
    "\n",
    "\n",
    "# decoder model\n",
    "decoder = Model(encoded_input, decoded)\n",
    "\n",
    "# map an input to its reconstruction\n",
    "out = decoder(encoder(input_img))\n",
    "out = Reshape((28,28))(out)\n",
    "\n",
    "autoencoder = Model(input_img,out)"
   ]
  },
  {
   "cell_type": "code",
   "execution_count": 4,
   "metadata": {
    "colab": {
     "base_uri": "https://localhost:8080/",
     "height": 352
    },
    "colab_type": "code",
    "id": "3E1dN6jsM5ar",
    "outputId": "77d55f52-649b-419c-efa2-508daacae9ca"
   },
   "outputs": [
    {
     "name": "stdout",
     "output_type": "stream",
     "text": [
      "Model: \"model_1\"\n",
      "_________________________________________________________________\n",
      "Layer (type)                 Output Shape              Param #   \n",
      "=================================================================\n",
      "input_1 (InputLayer)         (None, 28, 28)            0         \n",
      "_________________________________________________________________\n",
      "conv1d_1 (Conv1D)            (None, 26, 64)            5440      \n",
      "_________________________________________________________________\n",
      "conv1d_2 (Conv1D)            (None, 22, 32)            10272     \n",
      "_________________________________________________________________\n",
      "flatten_1 (Flatten)          (None, 704)               0         \n",
      "_________________________________________________________________\n",
      "dense_1 (Dense)              (None, 64)                45120     \n",
      "=================================================================\n",
      "Total params: 60,832\n",
      "Trainable params: 60,832\n",
      "Non-trainable params: 0\n",
      "_________________________________________________________________\n"
     ]
    }
   ],
   "source": [
    "encoder.summary()"
   ]
  },
  {
   "cell_type": "code",
   "execution_count": 5,
   "metadata": {
    "colab": {
     "base_uri": "https://localhost:8080/",
     "height": 241
    },
    "colab_type": "code",
    "id": "dnHj8KiRM5fT",
    "outputId": "2277fab5-410e-4a51-d569-7f161aadd288"
   },
   "outputs": [
    {
     "name": "stdout",
     "output_type": "stream",
     "text": [
      "Model: \"model_2\"\n",
      "_________________________________________________________________\n",
      "Layer (type)                 Output Shape              Param #   \n",
      "=================================================================\n",
      "input_2 (InputLayer)         (None, 64)                0         \n",
      "_________________________________________________________________\n",
      "dense_2 (Dense)              (None, 784)               50960     \n",
      "=================================================================\n",
      "Total params: 50,960\n",
      "Trainable params: 50,960\n",
      "Non-trainable params: 0\n",
      "_________________________________________________________________\n"
     ]
    }
   ],
   "source": [
    "decoder.summary()"
   ]
  },
  {
   "cell_type": "code",
   "execution_count": 6,
   "metadata": {
    "colab": {
     "base_uri": "https://localhost:8080/",
     "height": 315
    },
    "colab_type": "code",
    "id": "vvFa8u1xCcFr",
    "outputId": "d886d7e8-d902-4f6e-a947-8421d721a028"
   },
   "outputs": [
    {
     "name": "stdout",
     "output_type": "stream",
     "text": [
      "Model: \"model_3\"\n",
      "_________________________________________________________________\n",
      "Layer (type)                 Output Shape              Param #   \n",
      "=================================================================\n",
      "input_1 (InputLayer)         (None, 28, 28)            0         \n",
      "_________________________________________________________________\n",
      "model_1 (Model)              (None, 64)                60832     \n",
      "_________________________________________________________________\n",
      "model_2 (Model)              (None, 784)               50960     \n",
      "_________________________________________________________________\n",
      "reshape_1 (Reshape)          (None, 28, 28)            0         \n",
      "=================================================================\n",
      "Total params: 111,792\n",
      "Trainable params: 111,792\n",
      "Non-trainable params: 0\n",
      "_________________________________________________________________\n"
     ]
    }
   ],
   "source": [
    "autoencoder.summary()"
   ]
  },
  {
   "cell_type": "markdown",
   "metadata": {
    "colab_type": "text",
    "id": "kABRRtjjCn9A"
   },
   "source": [
    "# Train"
   ]
  },
  {
   "cell_type": "code",
   "execution_count": 7,
   "metadata": {
    "colab": {
     "base_uri": "https://localhost:8080/",
     "height": 1000
    },
    "colab_type": "code",
    "id": "DPu4yd5-CGYB",
    "outputId": "0b458806-fb56-413f-88fa-e878c0c7f8d8"
   },
   "outputs": [
    {
     "name": "stdout",
     "output_type": "stream",
     "text": [
      "Train on 60000 samples, validate on 10000 samples\n",
      "Epoch 1/50\n",
      "60000/60000 [==============================] - 3s 54us/step - loss: 0.7135 - val_loss: 0.6906\n",
      "Epoch 2/50\n",
      "60000/60000 [==============================] - 2s 32us/step - loss: 0.6759 - val_loss: 0.6826\n",
      "Epoch 3/50\n",
      "60000/60000 [==============================] - 2s 32us/step - loss: 0.6712 - val_loss: 0.6799\n",
      "Epoch 4/50\n",
      "60000/60000 [==============================] - 2s 32us/step - loss: 0.6689 - val_loss: 0.6781\n",
      "Epoch 5/50\n",
      "60000/60000 [==============================] - 2s 33us/step - loss: 0.6675 - val_loss: 0.6772\n",
      "Epoch 6/50\n",
      "60000/60000 [==============================] - 2s 32us/step - loss: 0.6665 - val_loss: 0.6764\n",
      "Epoch 7/50\n",
      "60000/60000 [==============================] - 2s 33us/step - loss: 0.6658 - val_loss: 0.6758\n",
      "Epoch 8/50\n",
      "60000/60000 [==============================] - 2s 32us/step - loss: 0.6653 - val_loss: 0.6753\n",
      "Epoch 9/50\n",
      "60000/60000 [==============================] - 2s 33us/step - loss: 0.6649 - val_loss: 0.6749\n",
      "Epoch 10/50\n",
      "60000/60000 [==============================] - 2s 32us/step - loss: 0.6646 - val_loss: 0.6747\n",
      "Epoch 11/50\n",
      "60000/60000 [==============================] - 2s 33us/step - loss: 0.6644 - val_loss: 0.6745\n",
      "Epoch 12/50\n",
      "60000/60000 [==============================] - 2s 32us/step - loss: 0.6642 - val_loss: 0.6743\n",
      "Epoch 13/50\n",
      "60000/60000 [==============================] - 2s 32us/step - loss: 0.6640 - val_loss: 0.6743\n",
      "Epoch 14/50\n",
      "60000/60000 [==============================] - 2s 32us/step - loss: 0.6639 - val_loss: 0.6742\n",
      "Epoch 15/50\n",
      "60000/60000 [==============================] - 2s 32us/step - loss: 0.6637 - val_loss: 0.6741\n",
      "Epoch 16/50\n",
      "60000/60000 [==============================] - 2s 32us/step - loss: 0.6636 - val_loss: 0.6739\n",
      "Epoch 17/50\n",
      "60000/60000 [==============================] - 2s 33us/step - loss: 0.6635 - val_loss: 0.6737\n",
      "Epoch 18/50\n",
      "60000/60000 [==============================] - 2s 33us/step - loss: 0.6634 - val_loss: 0.6737\n",
      "Epoch 19/50\n",
      "60000/60000 [==============================] - 2s 33us/step - loss: 0.6634 - val_loss: 0.6737\n",
      "Epoch 20/50\n",
      "60000/60000 [==============================] - 2s 32us/step - loss: 0.6633 - val_loss: 0.6737\n",
      "Epoch 21/50\n",
      "60000/60000 [==============================] - 2s 32us/step - loss: 0.6632 - val_loss: 0.6735\n",
      "Epoch 22/50\n",
      "60000/60000 [==============================] - 2s 32us/step - loss: 0.6632 - val_loss: 0.6736\n",
      "Epoch 23/50\n",
      "60000/60000 [==============================] - 2s 32us/step - loss: 0.6631 - val_loss: 0.6734\n",
      "Epoch 24/50\n",
      "60000/60000 [==============================] - 2s 32us/step - loss: 0.6630 - val_loss: 0.6734\n",
      "Epoch 25/50\n",
      "60000/60000 [==============================] - 2s 33us/step - loss: 0.6630 - val_loss: 0.6733\n",
      "Epoch 26/50\n",
      "60000/60000 [==============================] - 2s 32us/step - loss: 0.6629 - val_loss: 0.6733\n",
      "Epoch 27/50\n",
      "60000/60000 [==============================] - 2s 33us/step - loss: 0.6629 - val_loss: 0.6732\n",
      "Epoch 28/50\n",
      "60000/60000 [==============================] - 2s 32us/step - loss: 0.6628 - val_loss: 0.6731\n",
      "Epoch 29/50\n",
      "60000/60000 [==============================] - 2s 33us/step - loss: 0.6628 - val_loss: 0.6731\n",
      "Epoch 30/50\n",
      "60000/60000 [==============================] - 2s 32us/step - loss: 0.6628 - val_loss: 0.6732\n",
      "Epoch 31/50\n",
      "60000/60000 [==============================] - 2s 33us/step - loss: 0.6627 - val_loss: 0.6731\n",
      "Epoch 32/50\n",
      "60000/60000 [==============================] - 2s 32us/step - loss: 0.6627 - val_loss: 0.6730\n",
      "Epoch 33/50\n",
      "60000/60000 [==============================] - 2s 32us/step - loss: 0.6626 - val_loss: 0.6730\n",
      "Epoch 34/50\n",
      "60000/60000 [==============================] - 2s 32us/step - loss: 0.6626 - val_loss: 0.6730\n",
      "Epoch 35/50\n",
      "60000/60000 [==============================] - 2s 32us/step - loss: 0.6625 - val_loss: 0.6730\n",
      "Epoch 36/50\n",
      "60000/60000 [==============================] - 2s 32us/step - loss: 0.6625 - val_loss: 0.6729\n",
      "Epoch 37/50\n",
      "60000/60000 [==============================] - 2s 32us/step - loss: 0.6625 - val_loss: 0.6730\n",
      "Epoch 38/50\n",
      "60000/60000 [==============================] - 2s 32us/step - loss: 0.6625 - val_loss: 0.6728\n",
      "Epoch 39/50\n",
      "60000/60000 [==============================] - 2s 32us/step - loss: 0.6624 - val_loss: 0.6728\n",
      "Epoch 40/50\n",
      "60000/60000 [==============================] - 2s 33us/step - loss: 0.6624 - val_loss: 0.6728\n",
      "Epoch 41/50\n",
      "60000/60000 [==============================] - 2s 33us/step - loss: 0.6624 - val_loss: 0.6728\n",
      "Epoch 42/50\n",
      "60000/60000 [==============================] - 2s 32us/step - loss: 0.6624 - val_loss: 0.6727\n",
      "Epoch 43/50\n",
      "60000/60000 [==============================] - 2s 33us/step - loss: 0.6623 - val_loss: 0.6727\n",
      "Epoch 44/50\n",
      "60000/60000 [==============================] - 2s 32us/step - loss: 0.6623 - val_loss: 0.6727\n",
      "Epoch 45/50\n",
      "60000/60000 [==============================] - 2s 32us/step - loss: 0.6623 - val_loss: 0.6727\n",
      "Epoch 46/50\n",
      "60000/60000 [==============================] - 2s 32us/step - loss: 0.6623 - val_loss: 0.6728\n",
      "Epoch 47/50\n",
      "60000/60000 [==============================] - 2s 33us/step - loss: 0.6623 - val_loss: 0.6728\n",
      "Epoch 48/50\n",
      "60000/60000 [==============================] - 2s 32us/step - loss: 0.6622 - val_loss: 0.6727\n",
      "Epoch 49/50\n",
      "60000/60000 [==============================] - 2s 33us/step - loss: 0.6622 - val_loss: 0.6728\n",
      "Epoch 50/50\n",
      "60000/60000 [==============================] - 2s 33us/step - loss: 0.6622 - val_loss: 0.6726\n"
     ]
    },
    {
     "data": {
      "text/plain": [
       "<keras.callbacks.callbacks.History at 0x7f26ad5fa208>"
      ]
     },
     "execution_count": 7,
     "metadata": {
      "tags": []
     },
     "output_type": "execute_result"
    }
   ],
   "source": [
    "autoencoder.compile(optimizer='adam', loss='binary_crossentropy')\n",
    "\n",
    "autoencoder.fit(x_train, x_train,\n",
    "                epochs=50,\n",
    "                batch_size=256,\n",
    "                shuffle=True,\n",
    "                validation_data=(x_test, x_test))"
   ]
  },
  {
   "cell_type": "markdown",
   "metadata": {
    "colab_type": "text",
    "id": "OyHHRkN6Crwa"
   },
   "source": [
    "# Visualize"
   ]
  },
  {
   "cell_type": "code",
   "execution_count": 8,
   "metadata": {
    "colab": {
     "base_uri": "https://localhost:8080/",
     "height": 216
    },
    "colab_type": "code",
    "id": "0GHqETxRCqDO",
    "outputId": "ed45f82e-c112-4537-e224-fdf71f1f390a"
   },
   "outputs": [
    {
     "data": {
      "image/png": "[encoded data removed]",
      "text/plain": [
       "<Figure size 1440x288 with 30 Axes>"
      ]
     },
     "metadata": {
      "needs_background": "light",
      "tags": []
     },
     "output_type": "display_data"
    }
   ],
   "source": [
    "encoded_imgs = encoder.predict(x_test)\n",
    "decoded_imgs = decoder.predict(encoded_imgs)\n",
    "\n",
    "n = 15 \n",
    "plt.figure(figsize=(20, 4))\n",
    "for i in range(n):\n",
    "    # display original\n",
    "    ax = plt.subplot(2, n, i + 1)\n",
    "    plt.imshow(x_test[i].reshape(28, 28))\n",
    "    plt.gray()\n",
    "    ax.get_xaxis().set_visible(False)\n",
    "    ax.get_yaxis().set_visible(False)\n",
    "\n",
    "    # display reconstruction\n",
    "    ax = plt.subplot(2, n, i + 1 + n)\n",
    "    plt.imshow(decoded_imgs[i].reshape(28, 28))\n",
    "    plt.gray()\n",
    "    ax.get_xaxis().set_visible(False)\n",
    "    ax.get_yaxis().set_visible(False)\n",
    "plt.show()"
   ]
  }
 ],
 "metadata": {
  "accelerator": "GPU",
  "colab": {
   "collapsed_sections": [],
   "name": "Aoutoencoder_3conv2d_1dense_mnist_z64_perfect.ipynb",
   "provenance": []
  },
  "kernelspec": {
   "display_name": "Python 3",
   "language": "python",
   "name": "python3"
  },
  "language_info": {
   "codemirror_mode": {
    "name": "ipython",
    "version": 3
   },
   "file_extension": ".py",
   "mimetype": "text/x-python",
   "name": "python",
   "nbconvert_exporter": "python",
   "pygments_lexer": "ipython3",
   "version": "3.5.3"
  }
 },
 "nbformat": 4,
 "nbformat_minor": 1
}
