{
 "cells": [
  {
   "cell_type": "code",
   "execution_count": 1,
   "metadata": {
    "colab": {
     "base_uri": "https://localhost:8080/",
     "height": 35
    },
    "colab_type": "code",
    "id": "c02R0xPPmhqO",
    "outputId": "3814b38c-f8e8-4e9d-ae33-21a1a1be6456"
   },
   "outputs": [
    {
     "name": "stderr",
     "output_type": "stream",
     "text": [
      "Using TensorFlow backend.\n"
     ]
    }
   ],
   "source": [
    "import keras\n",
    "from keras.datasets import cifar10\n",
    "from keras.layers import Conv2D, MaxPooling2D\n",
    "from keras.utils import np_utils\n",
    "import os\n",
    "from keras.layers import Flatten, Dense\n",
    "from keras.optimizers import SGD\n",
    "from keras.layers import Input\n",
    "from keras.models import Model\n",
    "\n",
    "from keras.layers.normalization import BatchNormalization\n",
    "from keras.layers import Dropout\n",
    "\n",
    "from keras.layers import GlobalAveragePooling2D"
   ]
  },
  {
   "cell_type": "markdown",
   "metadata": {
    "colab_type": "text",
    "id": "EbDH8g5Imhqy"
   },
   "source": [
    "Data"
   ]
  },
  {
   "cell_type": "code",
   "execution_count": 0,
   "metadata": {
    "colab": {},
    "colab_type": "code",
    "id": "UTpc287xmhq0"
   },
   "outputs": [],
   "source": [
    "# airplanes, cars, birds, cats, deer, dogs, frogs, horses, ships, and trucks\n",
    "(X_train, y_train), (X_test, y_test) = cifar10.load_data()\n",
    "\n",
    "X_train = X_train.astype('float32')\n",
    "X_test = X_test.astype('float32')\n",
    "\n",
    "#normalization\n",
    "X_train = X_train / 255.0\n",
    "X_test = X_test / 255.0\n",
    "\n",
    "y_train = np_utils.to_categorical(y_train)\n",
    "y_test = np_utils.to_categorical(y_test)"
   ]
  },
  {
   "cell_type": "markdown",
   "metadata": {
    "colab_type": "text",
    "id": "P0XVgexVmhrH"
   },
   "source": [
    "Network structure or graph"
   ]
  },
  {
   "cell_type": "code",
   "execution_count": 0,
   "metadata": {
    "colab": {},
    "colab_type": "code",
    "id": "qRkl4qmOmhrJ"
   },
   "outputs": [],
   "source": [
    "#input layer\n",
    "input_img = Input(shape = (32, 32, 3))"
   ]
  },
  {
   "cell_type": "code",
   "execution_count": 0,
   "metadata": {
    "colab": {},
    "colab_type": "code",
    "id": "OLfxpyf-mhra"
   },
   "outputs": [],
   "source": [
    "# no batch normalization + global max pooling\n",
    "\n",
    "tower_1 = Conv2D(64, (3,3), padding='same', activation='relu')(input_img)\n",
    "\n",
    "tower_1 = Conv2D(64, (5,5), padding='same', activation='relu')(tower_1)\n",
    "tower_1 = Dropout(0.5)(tower_1)\n",
    "\n",
    "tower_1 = Conv2D(64, (5,5), padding='same', activation='relu')(tower_1)\n",
    "tower_1 = Dropout(0.5)(tower_1)\n",
    "\n",
    "tower_1 = Conv2D(64, (5,5), padding='same', activation='relu')(tower_1)\n",
    "tower_1 = Dropout(0.5)(tower_1)\n",
    "\n",
    "tower_1 = MaxPooling2D((5,5), strides=(1,1), padding='same')(tower_1)\n",
    "tower_1 = Dropout(0.5)(tower_1)\n",
    "\n",
    "tower_1 = Conv2D(64, (3,3), padding='same', activation='relu')(tower_1)\n",
    "tower_1 = Dropout(0.5)(tower_1)\n",
    "\n",
    "output = GlobalAveragePooling2D()(tower_1)\n",
    "#output = Flatten()(tower_1)\n",
    "\n",
    "out = Dense(10, activation='softmax')(output)"
   ]
  },
  {
   "cell_type": "code",
   "execution_count": 5,
   "metadata": {
    "colab": {
     "base_uri": "https://localhost:8080/",
     "height": 681
    },
    "colab_type": "code",
    "id": "rcuh4rrLmhrk",
    "outputId": "88b5a637-e6be-43db-c742-1572fed0a5a9"
   },
   "outputs": [
    {
     "name": "stdout",
     "output_type": "stream",
     "text": [
      "Model: \"model_1\"\n",
      "_________________________________________________________________\n",
      "Layer (type)                 Output Shape              Param #   \n",
      "=================================================================\n",
      "input_1 (InputLayer)         (None, 32, 32, 3)         0         \n",
      "_________________________________________________________________\n",
      "conv2d_1 (Conv2D)            (None, 32, 32, 64)        1792      \n",
      "_________________________________________________________________\n",
      "conv2d_2 (Conv2D)            (None, 32, 32, 64)        102464    \n",
      "_________________________________________________________________\n",
      "dropout_1 (Dropout)          (None, 32, 32, 64)        0         \n",
      "_________________________________________________________________\n",
      "conv2d_3 (Conv2D)            (None, 32, 32, 64)        102464    \n",
      "_________________________________________________________________\n",
      "dropout_2 (Dropout)          (None, 32, 32, 64)        0         \n",
      "_________________________________________________________________\n",
      "conv2d_4 (Conv2D)            (None, 32, 32, 64)        102464    \n",
      "_________________________________________________________________\n",
      "dropout_3 (Dropout)          (None, 32, 32, 64)        0         \n",
      "_________________________________________________________________\n",
      "max_pooling2d_1 (MaxPooling2 (None, 32, 32, 64)        0         \n",
      "_________________________________________________________________\n",
      "dropout_4 (Dropout)          (None, 32, 32, 64)        0         \n",
      "_________________________________________________________________\n",
      "conv2d_5 (Conv2D)            (None, 32, 32, 64)        36928     \n",
      "_________________________________________________________________\n",
      "dropout_5 (Dropout)          (None, 32, 32, 64)        0         \n",
      "_________________________________________________________________\n",
      "global_average_pooling2d_1 ( (None, 64)                0         \n",
      "_________________________________________________________________\n",
      "dense_1 (Dense)              (None, 10)                650       \n",
      "=================================================================\n",
      "Total params: 346,762\n",
      "Trainable params: 346,762\n",
      "Non-trainable params: 0\n",
      "_________________________________________________________________\n",
      "None\n"
     ]
    }
   ],
   "source": [
    "model = Model(inputs = input_img, outputs = out)\n",
    "print(model.summary())"
   ]
  },
  {
   "cell_type": "code",
   "execution_count": 6,
   "metadata": {
    "colab": {
     "base_uri": "https://localhost:8080/",
     "height": 950
    },
    "colab_type": "code",
    "id": "AiQQhuTJmhry",
    "outputId": "e3af7501-9b87-4674-f7c9-a752e95f2499"
   },
   "outputs": [
    {
     "name": "stdout",
     "output_type": "stream",
     "text": [
      "Train on 50000 samples, validate on 10000 samples\n",
      "Epoch 1/25\n",
      "50000/50000 [==============================] - 35s 708us/step - loss: 1.9850 - accuracy: 0.2311 - val_loss: 1.8522 - val_accuracy: 0.3036\n",
      "Epoch 2/25\n",
      "50000/50000 [==============================] - 33s 665us/step - loss: 1.6450 - accuracy: 0.3744 - val_loss: 1.7285 - val_accuracy: 0.3716\n",
      "Epoch 3/25\n",
      "50000/50000 [==============================] - 34s 672us/step - loss: 1.4532 - accuracy: 0.4635 - val_loss: 1.5073 - val_accuracy: 0.4879\n",
      "Epoch 4/25\n",
      "50000/50000 [==============================] - 34s 670us/step - loss: 1.3168 - accuracy: 0.5187 - val_loss: 1.3968 - val_accuracy: 0.5330\n",
      "Epoch 5/25\n",
      "50000/50000 [==============================] - 34s 671us/step - loss: 1.2186 - accuracy: 0.5566 - val_loss: 1.3771 - val_accuracy: 0.5401\n",
      "Epoch 6/25\n",
      "50000/50000 [==============================] - 34s 672us/step - loss: 1.1421 - accuracy: 0.5862 - val_loss: 1.2750 - val_accuracy: 0.6077\n",
      "Epoch 7/25\n",
      "50000/50000 [==============================] - 34s 671us/step - loss: 1.0748 - accuracy: 0.6123 - val_loss: 1.1970 - val_accuracy: 0.6106\n",
      "Epoch 8/25\n",
      "50000/50000 [==============================] - 34s 672us/step - loss: 1.0233 - accuracy: 0.6291 - val_loss: 1.2057 - val_accuracy: 0.6248\n",
      "Epoch 9/25\n",
      "50000/50000 [==============================] - 34s 672us/step - loss: 0.9891 - accuracy: 0.6464 - val_loss: 1.1452 - val_accuracy: 0.6413\n",
      "Epoch 10/25\n",
      "50000/50000 [==============================] - 34s 672us/step - loss: 0.9533 - accuracy: 0.6589 - val_loss: 1.0836 - val_accuracy: 0.6699\n",
      "Epoch 11/25\n",
      "50000/50000 [==============================] - 34s 672us/step - loss: 0.9234 - accuracy: 0.6701 - val_loss: 1.0736 - val_accuracy: 0.6534\n",
      "Epoch 12/25\n",
      "50000/50000 [==============================] - 34s 672us/step - loss: 0.8980 - accuracy: 0.6770 - val_loss: 1.0608 - val_accuracy: 0.6716\n",
      "Epoch 13/25\n",
      "50000/50000 [==============================] - 34s 673us/step - loss: 0.8802 - accuracy: 0.6862 - val_loss: 1.0305 - val_accuracy: 0.6868\n",
      "Epoch 14/25\n",
      "50000/50000 [==============================] - 34s 673us/step - loss: 0.8562 - accuracy: 0.6949 - val_loss: 1.0381 - val_accuracy: 0.7066\n",
      "Epoch 15/25\n",
      "50000/50000 [==============================] - 34s 672us/step - loss: 0.8362 - accuracy: 0.7024 - val_loss: 0.9939 - val_accuracy: 0.6892\n",
      "Epoch 16/25\n",
      "50000/50000 [==============================] - 34s 673us/step - loss: 0.8230 - accuracy: 0.7061 - val_loss: 0.9908 - val_accuracy: 0.7032\n",
      "Epoch 17/25\n",
      "50000/50000 [==============================] - 34s 673us/step - loss: 0.8101 - accuracy: 0.7100 - val_loss: 0.9788 - val_accuracy: 0.6969\n",
      "Epoch 18/25\n",
      "50000/50000 [==============================] - 34s 673us/step - loss: 0.7913 - accuracy: 0.7190 - val_loss: 0.9665 - val_accuracy: 0.6926\n",
      "Epoch 19/25\n",
      "50000/50000 [==============================] - 34s 672us/step - loss: 0.7808 - accuracy: 0.7233 - val_loss: 0.9395 - val_accuracy: 0.7213\n",
      "Epoch 20/25\n",
      "50000/50000 [==============================] - 34s 673us/step - loss: 0.7681 - accuracy: 0.7275 - val_loss: 0.9110 - val_accuracy: 0.7243\n",
      "Epoch 21/25\n",
      "50000/50000 [==============================] - 34s 673us/step - loss: 0.7568 - accuracy: 0.7318 - val_loss: 0.9150 - val_accuracy: 0.7353\n",
      "Epoch 22/25\n",
      "50000/50000 [==============================] - 34s 673us/step - loss: 0.7460 - accuracy: 0.7355 - val_loss: 0.8870 - val_accuracy: 0.7347\n",
      "Epoch 23/25\n",
      "50000/50000 [==============================] - 34s 672us/step - loss: 0.7357 - accuracy: 0.7397 - val_loss: 0.8662 - val_accuracy: 0.7421\n",
      "Epoch 24/25\n",
      "50000/50000 [==============================] - 34s 672us/step - loss: 0.7277 - accuracy: 0.7426 - val_loss: 0.8976 - val_accuracy: 0.7317\n",
      "Epoch 25/25\n",
      "50000/50000 [==============================] - 34s 674us/step - loss: 0.7197 - accuracy: 0.7469 - val_loss: 0.8732 - val_accuracy: 0.7325\n",
      "Accuracy: 73.25%\n"
     ]
    }
   ],
   "source": [
    "epochs = 25\n",
    "lrate = 0.01\n",
    "decay = lrate/epochs\n",
    "sgd = SGD(lr=lrate, momentum=0.9, decay=decay, nesterov=False)\n",
    "model.compile(loss='categorical_crossentropy', optimizer=sgd, metrics=['accuracy'])\n",
    "model.fit(X_train, y_train, validation_data=(X_test, y_test), epochs=epochs, batch_size=32)\n",
    "\n",
    "scores = model.evaluate(X_test, y_test, verbose=0)\n",
    "print(\"Accuracy: %.2f%%\" % (scores[1]*100))"
   ]
  },
  {
   "cell_type": "code",
   "execution_count": 0,
   "metadata": {
    "colab": {},
    "colab_type": "code",
    "id": "6eqBl8NvIDsh"
   },
   "outputs": [],
   "source": []
  }
 ],
 "metadata": {
  "accelerator": "GPU",
  "colab": {
   "collapsed_sections": [],
   "name": "Deep_code_1_my_updates_7_nobatch_globalpooling_25epoch_73.25.ipynb",
   "provenance": []
  },
  "kernelspec": {
   "display_name": "Python 3",
   "language": "python",
   "name": "python3"
  },
  "language_info": {
   "codemirror_mode": {
    "name": "ipython",
    "version": 3
   },
   "file_extension": ".py",
   "mimetype": "text/x-python",
   "name": "python",
   "nbconvert_exporter": "python",
   "pygments_lexer": "ipython3",
   "version": "3.5.3"
  }
 },
 "nbformat": 4,
 "nbformat_minor": 1
}
