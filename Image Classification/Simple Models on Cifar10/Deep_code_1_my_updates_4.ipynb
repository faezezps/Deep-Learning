{
 "cells": [
  {
   "cell_type": "code",
   "execution_count": 0,
   "metadata": {
    "colab": {
     "base_uri": "https://localhost:8080/",
     "height": 35
    },
    "colab_type": "code",
    "id": "fCrLdNvFtA6_",
    "outputId": "4e4bedb0-9156-4175-e7a1-aae1fadecaf3"
   },
   "outputs": [
    {
     "name": "stderr",
     "output_type": "stream",
     "text": [
      "Using TensorFlow backend.\n"
     ]
    }
   ],
   "source": [
    "import keras\n",
    "from keras.datasets import cifar10\n",
    "from keras.layers import Conv2D, MaxPooling2D\n",
    "from keras.utils import np_utils\n",
    "import os\n",
    "from keras.layers import Flatten, Dense\n",
    "from keras.optimizers import SGD\n",
    "from keras.layers import Input\n",
    "from keras.models import Model\n",
    "\n",
    "from keras.layers.normalization import BatchNormalization\n",
    "from keras.layers import Dropout"
   ]
  },
  {
   "cell_type": "markdown",
   "metadata": {
    "colab_type": "text",
    "id": "gVy2WNGVtA7N"
   },
   "source": [
    "Data"
   ]
  },
  {
   "cell_type": "code",
   "execution_count": 0,
   "metadata": {
    "colab": {
     "base_uri": "https://localhost:8080/",
     "height": 53
    },
    "colab_type": "code",
    "id": "XUc5g9sbtA7P",
    "outputId": "32d6643c-eaa8-428b-c7cc-7ca764d096af"
   },
   "outputs": [
    {
     "name": "stdout",
     "output_type": "stream",
     "text": [
      "Downloading data from https://www.cs.toronto.edu/~kriz/cifar-10-python.tar.gz\n",
      "170500096/170498071 [==============================] - 12s 0us/step\n"
     ]
    }
   ],
   "source": [
    "(X_train, y_train), (X_test, y_test) = cifar10.load_data()\n",
    "\n",
    "X_train = X_train.astype('float32')\n",
    "X_test = X_test.astype('float32')\n",
    "\n",
    "#normalization\n",
    "X_train = X_train / 255.0\n",
    "X_test = X_test / 255.0\n",
    "\n",
    "y_train = np_utils.to_categorical(y_train)\n",
    "y_test = np_utils.to_categorical(y_test)"
   ]
  },
  {
   "cell_type": "markdown",
   "metadata": {
    "colab_type": "text",
    "id": "XoY3WxsAtA7b"
   },
   "source": [
    "Network structure or graph"
   ]
  },
  {
   "cell_type": "code",
   "execution_count": 0,
   "metadata": {
    "colab": {},
    "colab_type": "code",
    "id": "mDGrXLeDtA7d"
   },
   "outputs": [],
   "source": [
    "#input layer\n",
    "input_img = Input(shape = (32, 32, 3))"
   ]
  },
  {
   "cell_type": "code",
   "execution_count": 0,
   "metadata": {
    "colab": {},
    "colab_type": "code",
    "id": "IMfkdSe8tA7m"
   },
   "outputs": [],
   "source": [
    "tower_1 = Conv2D(64, (3,3), padding='same', activation='relu')(input_img)\n",
    "\n",
    "tower_1 = Conv2D(64, (5,5), padding='same', activation='relu')(tower_1)\n",
    "tower_1 =BatchNormalization()(tower_1)\n",
    "tower_1 = Dropout(0.5)(tower_1)\n",
    "tower_1 = Conv2D(64, (5,5), padding='same', activation='relu')(tower_1)\n",
    "tower_1 =BatchNormalization()(tower_1)\n",
    "tower_1 = Dropout(0.5)(tower_1)\n",
    "tower_1 = Conv2D(64, (5,5), padding='same', activation='relu')(tower_1)\n",
    "tower_1 =BatchNormalization()(tower_1)\n",
    "tower_1 = Dropout(0.5)(tower_1)\n",
    "tower_1 = MaxPooling2D((5,5), strides=(1,1), padding='same')(tower_1)\n",
    "tower_1 =BatchNormalization()(tower_1)\n",
    "tower_1 = Dropout(0.5)(tower_1)\n",
    "tower_1 = Conv2D(64, (3,3), padding='same', activation='relu')(tower_1)\n",
    "tower_1 =BatchNormalization()(tower_1)\n",
    "tower_1 = Dropout(0.5)(tower_1)\n",
    "\n",
    "\n",
    "output = Flatten()(tower_1)\n",
    "\n",
    "out = Dense(10, activation='softmax')(output)"
   ]
  },
  {
   "cell_type": "code",
   "execution_count": 0,
   "metadata": {
    "colab": {
     "base_uri": "https://localhost:8080/",
     "height": 860
    },
    "colab_type": "code",
    "id": "UPi5xWE-tA7v",
    "outputId": "d4f2d9b6-4619-4f9f-d57d-5d38c6d28424"
   },
   "outputs": [
    {
     "name": "stdout",
     "output_type": "stream",
     "text": [
      "Model: \"model_1\"\n",
      "_________________________________________________________________\n",
      "Layer (type)                 Output Shape              Param #   \n",
      "=================================================================\n",
      "input_1 (InputLayer)         (None, 32, 32, 3)         0         \n",
      "_________________________________________________________________\n",
      "conv2d_1 (Conv2D)            (None, 32, 32, 64)        1792      \n",
      "_________________________________________________________________\n",
      "conv2d_2 (Conv2D)            (None, 32, 32, 64)        102464    \n",
      "_________________________________________________________________\n",
      "batch_normalization_1 (Batch (None, 32, 32, 64)        256       \n",
      "_________________________________________________________________\n",
      "dropout_1 (Dropout)          (None, 32, 32, 64)        0         \n",
      "_________________________________________________________________\n",
      "conv2d_3 (Conv2D)            (None, 32, 32, 64)        102464    \n",
      "_________________________________________________________________\n",
      "batch_normalization_2 (Batch (None, 32, 32, 64)        256       \n",
      "_________________________________________________________________\n",
      "dropout_2 (Dropout)          (None, 32, 32, 64)        0         \n",
      "_________________________________________________________________\n",
      "conv2d_4 (Conv2D)            (None, 32, 32, 64)        102464    \n",
      "_________________________________________________________________\n",
      "batch_normalization_3 (Batch (None, 32, 32, 64)        256       \n",
      "_________________________________________________________________\n",
      "dropout_3 (Dropout)          (None, 32, 32, 64)        0         \n",
      "_________________________________________________________________\n",
      "max_pooling2d_1 (MaxPooling2 (None, 32, 32, 64)        0         \n",
      "_________________________________________________________________\n",
      "batch_normalization_4 (Batch (None, 32, 32, 64)        256       \n",
      "_________________________________________________________________\n",
      "dropout_4 (Dropout)          (None, 32, 32, 64)        0         \n",
      "_________________________________________________________________\n",
      "conv2d_5 (Conv2D)            (None, 32, 32, 64)        36928     \n",
      "_________________________________________________________________\n",
      "batch_normalization_5 (Batch (None, 32, 32, 64)        256       \n",
      "_________________________________________________________________\n",
      "dropout_5 (Dropout)          (None, 32, 32, 64)        0         \n",
      "_________________________________________________________________\n",
      "flatten_1 (Flatten)          (None, 65536)             0         \n",
      "_________________________________________________________________\n",
      "dense_1 (Dense)              (None, 10)                655370    \n",
      "=================================================================\n",
      "Total params: 1,002,762\n",
      "Trainable params: 1,002,122\n",
      "Non-trainable params: 640\n",
      "_________________________________________________________________\n",
      "None\n"
     ]
    }
   ],
   "source": [
    "model = Model(inputs = input_img, outputs = out)\n",
    "print(model.summary())"
   ]
  },
  {
   "cell_type": "code",
   "execution_count": 0,
   "metadata": {
    "colab": {
     "base_uri": "https://localhost:8080/",
     "height": 950
    },
    "colab_type": "code",
    "id": "lf-iOvw2tA73",
    "outputId": "070e940e-b0e6-42bc-92b7-17b9c8b1b638"
   },
   "outputs": [
    {
     "name": "stdout",
     "output_type": "stream",
     "text": [
      "Train on 50000 samples, validate on 10000 samples\n",
      "Epoch 1/25\n",
      "50000/50000 [==============================] - 45s 891us/step - loss: 2.6834 - accuracy: 0.3088 - val_loss: 1.7822 - val_accuracy: 0.3708\n",
      "Epoch 2/25\n",
      "50000/50000 [==============================] - 37s 744us/step - loss: 1.6488 - accuracy: 0.4252 - val_loss: 1.7378 - val_accuracy: 0.4094\n",
      "Epoch 3/25\n",
      "50000/50000 [==============================] - 38s 752us/step - loss: 1.4774 - accuracy: 0.4793 - val_loss: 1.8974 - val_accuracy: 0.3657\n",
      "Epoch 4/25\n",
      "50000/50000 [==============================] - 37s 748us/step - loss: 1.3730 - accuracy: 0.5118 - val_loss: 1.6758 - val_accuracy: 0.4413\n",
      "Epoch 5/25\n",
      "50000/50000 [==============================] - 37s 748us/step - loss: 1.3008 - accuracy: 0.5380 - val_loss: 1.5435 - val_accuracy: 0.4757\n",
      "Epoch 6/25\n",
      "50000/50000 [==============================] - 38s 751us/step - loss: 1.2471 - accuracy: 0.5544 - val_loss: 1.8034 - val_accuracy: 0.4049\n",
      "Epoch 7/25\n",
      "50000/50000 [==============================] - 38s 751us/step - loss: 1.2026 - accuracy: 0.5731 - val_loss: 1.3805 - val_accuracy: 0.5188\n",
      "Epoch 8/25\n",
      "50000/50000 [==============================] - 37s 750us/step - loss: 1.1696 - accuracy: 0.5850 - val_loss: 1.4089 - val_accuracy: 0.5174\n",
      "Epoch 9/25\n",
      "50000/50000 [==============================] - 37s 749us/step - loss: 1.1428 - accuracy: 0.5969 - val_loss: 1.5001 - val_accuracy: 0.5102\n",
      "Epoch 10/25\n",
      "50000/50000 [==============================] - 37s 744us/step - loss: 1.1188 - accuracy: 0.6034 - val_loss: 1.3400 - val_accuracy: 0.5431\n",
      "Epoch 11/25\n",
      "50000/50000 [==============================] - 37s 746us/step - loss: 1.0932 - accuracy: 0.6157 - val_loss: 1.3475 - val_accuracy: 0.5423\n",
      "Epoch 12/25\n",
      "50000/50000 [==============================] - 37s 746us/step - loss: 1.0681 - accuracy: 0.6220 - val_loss: 1.3893 - val_accuracy: 0.5385\n",
      "Epoch 13/25\n",
      "50000/50000 [==============================] - 37s 747us/step - loss: 1.0458 - accuracy: 0.6331 - val_loss: 1.2339 - val_accuracy: 0.5765\n",
      "Epoch 14/25\n",
      "50000/50000 [==============================] - 37s 745us/step - loss: 1.0315 - accuracy: 0.6365 - val_loss: 1.2685 - val_accuracy: 0.5651\n",
      "Epoch 15/25\n",
      "50000/50000 [==============================] - 37s 749us/step - loss: 1.0127 - accuracy: 0.6455 - val_loss: 1.4011 - val_accuracy: 0.5406\n",
      "Epoch 16/25\n",
      "50000/50000 [==============================] - 37s 747us/step - loss: 1.0004 - accuracy: 0.6472 - val_loss: 1.2972 - val_accuracy: 0.5627\n",
      "Epoch 17/25\n",
      "50000/50000 [==============================] - 37s 748us/step - loss: 0.9856 - accuracy: 0.6528 - val_loss: 1.3673 - val_accuracy: 0.5375\n",
      "Epoch 18/25\n",
      "50000/50000 [==============================] - 37s 749us/step - loss: 0.9715 - accuracy: 0.6589 - val_loss: 1.3900 - val_accuracy: 0.5407\n",
      "Epoch 19/25\n",
      "50000/50000 [==============================] - 37s 749us/step - loss: 0.9584 - accuracy: 0.6613 - val_loss: 1.4198 - val_accuracy: 0.5219\n",
      "Epoch 20/25\n",
      "50000/50000 [==============================] - 37s 745us/step - loss: 0.9487 - accuracy: 0.6679 - val_loss: 1.5143 - val_accuracy: 0.4973\n",
      "Epoch 21/25\n",
      "50000/50000 [==============================] - 37s 747us/step - loss: 0.9372 - accuracy: 0.6692 - val_loss: 1.5115 - val_accuracy: 0.4885\n",
      "Epoch 22/25\n",
      "50000/50000 [==============================] - 37s 747us/step - loss: 0.9297 - accuracy: 0.6735 - val_loss: 1.6251 - val_accuracy: 0.4694\n",
      "Epoch 23/25\n",
      "50000/50000 [==============================] - 37s 744us/step - loss: 0.9202 - accuracy: 0.6764 - val_loss: 1.4140 - val_accuracy: 0.5259\n",
      "Epoch 24/25\n",
      "50000/50000 [==============================] - 37s 750us/step - loss: 0.9169 - accuracy: 0.6768 - val_loss: 1.5540 - val_accuracy: 0.4875\n",
      "Epoch 25/25\n",
      "50000/50000 [==============================] - 37s 745us/step - loss: 0.9056 - accuracy: 0.6806 - val_loss: 1.4930 - val_accuracy: 0.5044\n",
      "Accuracy: 50.44%\n"
     ]
    }
   ],
   "source": [
    "epochs = 25\n",
    "lrate = 0.01\n",
    "decay = lrate/epochs\n",
    "sgd = SGD(lr=lrate, momentum=0.9, decay=decay, nesterov=False)\n",
    "model.compile(loss='categorical_crossentropy', optimizer=sgd, metrics=['accuracy'])\n",
    "model.fit(X_train, y_train, validation_data=(X_test, y_test), epochs=epochs, batch_size=32)\n",
    "\n",
    "scores = model.evaluate(X_test, y_test, verbose=0)\n",
    "print(\"Accuracy: %.2f%%\" % (scores[1]*100))"
   ]
  },
  {
   "cell_type": "code",
   "execution_count": 0,
   "metadata": {
    "colab": {},
    "colab_type": "code",
    "id": "a72G-TDQtA8G"
   },
   "outputs": [],
   "source": []
  },
  {
   "cell_type": "code",
   "execution_count": 0,
   "metadata": {
    "colab": {},
    "colab_type": "code",
    "id": "mZY7NzQI8fgE"
   },
   "outputs": [],
   "source": []
  },
  {
   "cell_type": "code",
   "execution_count": 0,
   "metadata": {
    "colab": {},
    "colab_type": "code",
    "id": "lda7hVnZ8feG"
   },
   "outputs": [],
   "source": []
  }
 ],
 "metadata": {
  "accelerator": "GPU",
  "colab": {
   "collapsed_sections": [],
   "name": "Deep_code_1_my_updates_4_50.44%.ipynb",
   "provenance": []
  },
  "kernelspec": {
   "display_name": "nlp",
   "language": "python",
   "name": "nlp"
  },
  "language_info": {
   "codemirror_mode": {
    "name": "ipython",
    "version": 3
   },
   "file_extension": ".py",
   "mimetype": "text/x-python",
   "name": "python",
   "nbconvert_exporter": "python",
   "pygments_lexer": "ipython3",
   "version": "3.7.4"
  }
 },
 "nbformat": 4,
 "nbformat_minor": 1
}
