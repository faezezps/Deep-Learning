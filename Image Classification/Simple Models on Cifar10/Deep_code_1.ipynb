{
 "cells": [
  {
   "cell_type": "code",
   "execution_count": 1,
   "metadata": {
    "colab": {
     "base_uri": "https://localhost:8080/",
     "height": 35
    },
    "colab_type": "code",
    "id": "iLCaq0dSjT4e",
    "outputId": "9775a791-05cb-4ae1-8e35-ebb35728135f"
   },
   "outputs": [
    {
     "name": "stderr",
     "output_type": "stream",
     "text": [
      "Using TensorFlow backend.\n"
     ]
    }
   ],
   "source": [
    "import keras\n",
    "from keras.datasets import cifar10\n",
    "from keras.layers import Conv2D, MaxPooling2D\n",
    "from keras.utils import np_utils\n",
    "import os\n",
    "from keras.layers import Flatten, Dense\n",
    "from keras.optimizers import SGD\n",
    "from keras.layers import Input\n",
    "from keras.models import Model"
   ]
  },
  {
   "cell_type": "markdown",
   "metadata": {
    "colab_type": "text",
    "id": "YPm6KKUSjT4y"
   },
   "source": [
    "Data"
   ]
  },
  {
   "cell_type": "code",
   "execution_count": 2,
   "metadata": {
    "colab": {
     "base_uri": "https://localhost:8080/",
     "height": 53
    },
    "colab_type": "code",
    "id": "RLiiom-WjT4z",
    "outputId": "0975804d-2c08-4afa-a9ab-a89e794a2645"
   },
   "outputs": [
    {
     "name": "stdout",
     "output_type": "stream",
     "text": [
      "Downloading data from https://www.cs.toronto.edu/~kriz/cifar-10-python.tar.gz\n",
      "170500096/170498071 [==============================] - 11s 0us/step\n"
     ]
    }
   ],
   "source": [
    "# 10 means it has 10 classes\n",
    "# airplanes, cars, birds, cats, deer, dogs, frogs, horses, ships, and trucks\n",
    "(X_train, y_train), (X_test, y_test) = cifar10.load_data()\n",
    "\n",
    "\n",
    "X_train = X_train.astype('float32')\n",
    "X_test = X_test.astype('float32')\n",
    "\n",
    "#normalization\n",
    "X_train = X_train / 255.0\n",
    "X_test = X_test / 255.0\n",
    "\n",
    "y_train = np_utils.to_categorical(y_train)\n",
    "y_test = np_utils.to_categorical(y_test)"
   ]
  },
  {
   "cell_type": "markdown",
   "metadata": {
    "colab_type": "text",
    "id": "9PivUhEJjT5C"
   },
   "source": [
    "Network structure or graph"
   ]
  },
  {
   "cell_type": "code",
   "execution_count": 0,
   "metadata": {
    "colab": {},
    "colab_type": "code",
    "id": "HTz3wR1djT5F"
   },
   "outputs": [],
   "source": [
    "#input layer\n",
    "input_img = Input(shape = (32, 32, 3))"
   ]
  },
  {
   "cell_type": "code",
   "execution_count": 0,
   "metadata": {
    "colab": {},
    "colab_type": "code",
    "id": "VuCKMH7ijT5O"
   },
   "outputs": [],
   "source": [
    "tower_1 = Conv2D(64, (1,1), padding='same', activation='relu')(input_img)\n",
    "tower_1 = Conv2D(64, (3,3), padding='same', activation='relu')(tower_1)\n",
    "tower_1 = Conv2D(64, (1,1), padding='same', activation='relu')(tower_1)\n",
    "tower_1 = Conv2D(64, (5,5), padding='same', activation='relu')(tower_1)\n",
    "tower_1 = MaxPooling2D((3,3), strides=(1,1), padding='same')(tower_1)\n",
    "tower_1 = Conv2D(64, (1,1), padding='same', activation='relu')(tower_1)"
   ]
  },
  {
   "cell_type": "code",
   "execution_count": 5,
   "metadata": {
    "colab": {
     "base_uri": "https://localhost:8080/",
     "height": 501
    },
    "colab_type": "code",
    "id": "M0qrw0HFjT5Y",
    "outputId": "8e9a184d-d483-4b05-bfa1-0c73b609a1ee"
   },
   "outputs": [
    {
     "name": "stdout",
     "output_type": "stream",
     "text": [
      "Model: \"model_1\"\n",
      "_________________________________________________________________\n",
      "Layer (type)                 Output Shape              Param #   \n",
      "=================================================================\n",
      "input_1 (InputLayer)         (None, 32, 32, 3)         0         \n",
      "_________________________________________________________________\n",
      "conv2d_1 (Conv2D)            (None, 32, 32, 64)        256       \n",
      "_________________________________________________________________\n",
      "conv2d_2 (Conv2D)            (None, 32, 32, 64)        36928     \n",
      "_________________________________________________________________\n",
      "conv2d_3 (Conv2D)            (None, 32, 32, 64)        4160      \n",
      "_________________________________________________________________\n",
      "conv2d_4 (Conv2D)            (None, 32, 32, 64)        102464    \n",
      "_________________________________________________________________\n",
      "max_pooling2d_1 (MaxPooling2 (None, 32, 32, 64)        0         \n",
      "_________________________________________________________________\n",
      "conv2d_5 (Conv2D)            (None, 32, 32, 64)        4160      \n",
      "_________________________________________________________________\n",
      "flatten_1 (Flatten)          (None, 65536)             0         \n",
      "_________________________________________________________________\n",
      "dense_1 (Dense)              (None, 10)                655370    \n",
      "=================================================================\n",
      "Total params: 803,338\n",
      "Trainable params: 803,338\n",
      "Non-trainable params: 0\n",
      "_________________________________________________________________\n",
      "None\n"
     ]
    }
   ],
   "source": [
    "output = Flatten()(tower_1)\n",
    "out    = Dense(10, activation='softmax')(output)\n",
    "\n",
    "# khuruji har laye va \n",
    "# har filter, meghdare bayas ham dare ke behesh ezafe mishe\n",
    "# chon 64ta filtere, 64ta bayas darim, vas hamun parametrayi ke tu satre avale, bejaye 192(1 * 1 *3 *64) mishe 192+64\n",
    "#pooling hich meghdare ghabeele yadgiri nadare\n",
    "#dense be tanhayi koli parametr dare tarif mikone\n",
    "\n",
    "# tarife model besurate sarih explicitly\n",
    "model = Model(inputs = input_img, outputs = out)\n",
    "print(model.summary())"
   ]
  },
  {
   "cell_type": "code",
   "execution_count": 6,
   "metadata": {
    "colab": {
     "base_uri": "https://localhost:8080/",
     "height": 950
    },
    "colab_type": "code",
    "id": "NZF-5J8KjT5j",
    "outputId": "a8e23e71-2e85-415f-a4b4-4b18558b288f"
   },
   "outputs": [
    {
     "name": "stdout",
     "output_type": "stream",
     "text": [
      "Train on 50000 samples, validate on 10000 samples\n",
      "Epoch 1/25\n",
      "50000/50000 [==============================] - 50s 1ms/step - loss: 1.6768 - accuracy: 0.3964 - val_loss: 1.2563 - val_accuracy: 0.5531\n",
      "Epoch 2/25\n",
      "50000/50000 [==============================] - 44s 882us/step - loss: 1.1096 - accuracy: 0.6107 - val_loss: 1.0098 - val_accuracy: 0.6514\n",
      "Epoch 3/25\n",
      "50000/50000 [==============================] - 44s 885us/step - loss: 0.8669 - accuracy: 0.6982 - val_loss: 0.9186 - val_accuracy: 0.6842\n",
      "Epoch 4/25\n",
      "50000/50000 [==============================] - 44s 882us/step - loss: 0.7151 - accuracy: 0.7518 - val_loss: 0.8796 - val_accuracy: 0.7032\n",
      "Epoch 5/25\n",
      "50000/50000 [==============================] - 44s 883us/step - loss: 0.5915 - accuracy: 0.7956 - val_loss: 0.8871 - val_accuracy: 0.7096\n",
      "Epoch 6/25\n",
      "50000/50000 [==============================] - 44s 887us/step - loss: 0.4817 - accuracy: 0.8345 - val_loss: 0.9802 - val_accuracy: 0.6843\n",
      "Epoch 7/25\n",
      "50000/50000 [==============================] - 44s 883us/step - loss: 0.3736 - accuracy: 0.8719 - val_loss: 1.0252 - val_accuracy: 0.6948\n",
      "Epoch 8/25\n",
      "50000/50000 [==============================] - 44s 882us/step - loss: 0.2749 - accuracy: 0.9071 - val_loss: 1.2217 - val_accuracy: 0.6839\n",
      "Epoch 9/25\n",
      "50000/50000 [==============================] - 44s 883us/step - loss: 0.1915 - accuracy: 0.9365 - val_loss: 1.3625 - val_accuracy: 0.6901\n",
      "Epoch 10/25\n",
      "50000/50000 [==============================] - 44s 879us/step - loss: 0.1207 - accuracy: 0.9607 - val_loss: 1.5578 - val_accuracy: 0.6852\n",
      "Epoch 11/25\n",
      "50000/50000 [==============================] - 44s 879us/step - loss: 0.0733 - accuracy: 0.9781 - val_loss: 1.7779 - val_accuracy: 0.6853\n",
      "Epoch 12/25\n",
      "50000/50000 [==============================] - 44s 881us/step - loss: 0.0409 - accuracy: 0.9890 - val_loss: 2.0106 - val_accuracy: 0.6809\n",
      "Epoch 13/25\n",
      "50000/50000 [==============================] - 44s 888us/step - loss: 0.0184 - accuracy: 0.9964 - val_loss: 2.2117 - val_accuracy: 0.6815\n",
      "Epoch 14/25\n",
      "50000/50000 [==============================] - 44s 884us/step - loss: 0.0071 - accuracy: 0.9994 - val_loss: 2.3988 - val_accuracy: 0.6887\n",
      "Epoch 15/25\n",
      "50000/50000 [==============================] - 44s 884us/step - loss: 0.0031 - accuracy: 0.9999 - val_loss: 2.5525 - val_accuracy: 0.6895\n",
      "Epoch 16/25\n",
      "50000/50000 [==============================] - 44s 877us/step - loss: 0.0019 - accuracy: 1.0000 - val_loss: 2.6486 - val_accuracy: 0.6888\n",
      "Epoch 17/25\n",
      "50000/50000 [==============================] - 44s 881us/step - loss: 0.0014 - accuracy: 1.0000 - val_loss: 2.7248 - val_accuracy: 0.6885\n",
      "Epoch 18/25\n",
      "50000/50000 [==============================] - 44s 872us/step - loss: 0.0012 - accuracy: 1.0000 - val_loss: 2.7861 - val_accuracy: 0.6901\n",
      "Epoch 19/25\n",
      "50000/50000 [==============================] - 44s 871us/step - loss: 9.9133e-04 - accuracy: 1.0000 - val_loss: 2.8397 - val_accuracy: 0.6885\n",
      "Epoch 20/25\n",
      "50000/50000 [==============================] - 43s 870us/step - loss: 8.7229e-04 - accuracy: 1.0000 - val_loss: 2.8828 - val_accuracy: 0.6886\n",
      "Epoch 21/25\n",
      "50000/50000 [==============================] - 44s 874us/step - loss: 7.8596e-04 - accuracy: 1.0000 - val_loss: 2.9183 - val_accuracy: 0.6879\n",
      "Epoch 22/25\n",
      "50000/50000 [==============================] - 43s 869us/step - loss: 7.1906e-04 - accuracy: 1.0000 - val_loss: 2.9560 - val_accuracy: 0.6887\n",
      "Epoch 23/25\n",
      "50000/50000 [==============================] - 43s 868us/step - loss: 6.6259e-04 - accuracy: 1.0000 - val_loss: 2.9865 - val_accuracy: 0.6882\n",
      "Epoch 24/25\n",
      "50000/50000 [==============================] - 44s 871us/step - loss: 6.1695e-04 - accuracy: 1.0000 - val_loss: 3.0134 - val_accuracy: 0.6884\n",
      "Epoch 25/25\n",
      "50000/50000 [==============================] - 43s 867us/step - loss: 5.7634e-04 - accuracy: 1.0000 - val_loss: 3.0429 - val_accuracy: 0.6875\n",
      "Accuracy: 68.75%\n"
     ]
    }
   ],
   "source": [
    "epochs = 25\n",
    "lrate = 0.01\n",
    "decay = lrate/epochs\n",
    "sgd = SGD(lr=lrate, momentum=0.9, decay=decay, nesterov=False)\n",
    "model.compile(loss='categorical_crossentropy', optimizer=sgd, metrics=['accuracy'])\n",
    "model.fit(X_train, y_train, validation_data=(X_test, y_test), epochs=epochs, batch_size=32)\n",
    "\n",
    "scores = model.evaluate(X_test, y_test, verbose=0)\n",
    "print(\"Accuracy: %.2f%%\" % (scores[1]*100))"
   ]
  },
  {
   "cell_type": "code",
   "execution_count": 0,
   "metadata": {
    "colab": {},
    "colab_type": "code",
    "id": "s0WNrIFhjT55"
   },
   "outputs": [],
   "source": []
  }
 ],
 "metadata": {
  "accelerator": "GPU",
  "colab": {
   "collapsed_sections": [],
   "name": "Deep_code_1.ipynb",
   "provenance": []
  },
  "kernelspec": {
   "display_name": "nlp",
   "language": "python",
   "name": "nlp"
  },
  "language_info": {
   "codemirror_mode": {
    "name": "ipython",
    "version": 3
   },
   "file_extension": ".py",
   "mimetype": "text/x-python",
   "name": "python",
   "nbconvert_exporter": "python",
   "pygments_lexer": "ipython3",
   "version": "3.7.4"
  }
 },
 "nbformat": 4,
 "nbformat_minor": 1
}
