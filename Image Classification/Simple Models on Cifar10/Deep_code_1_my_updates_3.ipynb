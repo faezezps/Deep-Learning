{
 "cells": [
  {
   "cell_type": "code",
   "execution_count": 0,
   "metadata": {
    "colab": {
     "base_uri": "https://localhost:8080/",
     "height": 35
    },
    "colab_type": "code",
    "id": "c02R0xPPmhqO",
    "outputId": "f77a093e-3b46-456f-fea0-4a9cbe5f7fb6"
   },
   "outputs": [
    {
     "name": "stderr",
     "output_type": "stream",
     "text": [
      "Using TensorFlow backend.\n"
     ]
    }
   ],
   "source": [
    "import keras\n",
    "from keras.datasets import cifar10\n",
    "from keras.layers import Conv2D, MaxPooling2D\n",
    "from keras.utils import np_utils\n",
    "import os\n",
    "from keras.layers import Flatten, Dense\n",
    "from keras.optimizers import SGD\n",
    "from keras.layers import Input\n",
    "from keras.models import Model\n",
    "\n",
    "from keras.layers.normalization import BatchNormalization\n",
    "from keras.layers import Dropout"
   ]
  },
  {
   "cell_type": "markdown",
   "metadata": {
    "colab_type": "text",
    "id": "EbDH8g5Imhqy"
   },
   "source": [
    "Data"
   ]
  },
  {
   "cell_type": "code",
   "execution_count": 0,
   "metadata": {
    "colab": {
     "base_uri": "https://localhost:8080/",
     "height": 53
    },
    "colab_type": "code",
    "id": "UTpc287xmhq0",
    "outputId": "2b3b1986-baec-4ea4-a499-a1c96a9a4452"
   },
   "outputs": [
    {
     "name": "stdout",
     "output_type": "stream",
     "text": [
      "Downloading data from https://www.cs.toronto.edu/~kriz/cifar-10-python.tar.gz\n",
      "170500096/170498071 [==============================] - 2s 0us/step\n"
     ]
    }
   ],
   "source": [
    "# airplanes, cars, birds, cats, deer, dogs, frogs, horses, ships, and trucks\n",
    "(X_train, y_train), (X_test, y_test) = cifar10.load_data()\n",
    "\n",
    "X_train = X_train.astype('float32')\n",
    "X_test = X_test.astype('float32')\n",
    "\n",
    "#normalization\n",
    "X_train = X_train / 255.0\n",
    "X_test = X_test / 255.0\n",
    "\n",
    "y_train = np_utils.to_categorical(y_train)\n",
    "y_test = np_utils.to_categorical(y_test)"
   ]
  },
  {
   "cell_type": "markdown",
   "metadata": {
    "colab_type": "text",
    "id": "P0XVgexVmhrH"
   },
   "source": [
    "Network structure or graph"
   ]
  },
  {
   "cell_type": "code",
   "execution_count": 0,
   "metadata": {
    "colab": {},
    "colab_type": "code",
    "id": "qRkl4qmOmhrJ"
   },
   "outputs": [],
   "source": [
    "#input layer\n",
    "input_img = Input(shape = (32, 32, 3))"
   ]
  },
  {
   "cell_type": "code",
   "execution_count": 0,
   "metadata": {
    "colab": {},
    "colab_type": "code",
    "id": "OLfxpyf-mhra"
   },
   "outputs": [],
   "source": [
    "tower_1 = Conv2D(64, (3,3), padding='same', activation='relu')(input_img)\n",
    "\n",
    "tower_1 = Conv2D(64, (5,5), padding='same', activation='relu')(tower_1)\n",
    "tower_1 =BatchNormalization()(tower_1)\n",
    "tower_1 = Dropout(0.5)(tower_1)\n",
    "tower_1 = MaxPooling2D((5,5), strides=(1,1), padding='same')(tower_1)\n",
    "tower_1 =BatchNormalization()(tower_1)\n",
    "tower_1 = Dropout(0.5)(tower_1)\n",
    "tower_1 = Conv2D(64, (3,3), padding='same', activation='relu')(tower_1)\n",
    "tower_1 =BatchNormalization()(tower_1)\n",
    "tower_1 = Dropout(0.5)(tower_1)\n",
    "\n",
    "output = Flatten()(tower_1)\n",
    "\n",
    "out = Dense(10, activation='softmax')(output)"
   ]
  },
  {
   "cell_type": "code",
   "execution_count": 0,
   "metadata": {
    "colab": {
     "base_uri": "https://localhost:8080/",
     "height": 645
    },
    "colab_type": "code",
    "id": "rcuh4rrLmhrk",
    "outputId": "4ba6fb2d-359b-4379-fb56-39f5752fe2bd"
   },
   "outputs": [
    {
     "name": "stdout",
     "output_type": "stream",
     "text": [
      "Model: \"model_1\"\n",
      "_________________________________________________________________\n",
      "Layer (type)                 Output Shape              Param #   \n",
      "=================================================================\n",
      "input_1 (InputLayer)         (None, 32, 32, 3)         0         \n",
      "_________________________________________________________________\n",
      "conv2d_1 (Conv2D)            (None, 32, 32, 64)        1792      \n",
      "_________________________________________________________________\n",
      "conv2d_2 (Conv2D)            (None, 32, 32, 64)        102464    \n",
      "_________________________________________________________________\n",
      "batch_normalization_1 (Batch (None, 32, 32, 64)        256       \n",
      "_________________________________________________________________\n",
      "dropout_1 (Dropout)          (None, 32, 32, 64)        0         \n",
      "_________________________________________________________________\n",
      "max_pooling2d_1 (MaxPooling2 (None, 32, 32, 64)        0         \n",
      "_________________________________________________________________\n",
      "batch_normalization_2 (Batch (None, 32, 32, 64)        256       \n",
      "_________________________________________________________________\n",
      "dropout_2 (Dropout)          (None, 32, 32, 64)        0         \n",
      "_________________________________________________________________\n",
      "conv2d_3 (Conv2D)            (None, 32, 32, 64)        36928     \n",
      "_________________________________________________________________\n",
      "batch_normalization_3 (Batch (None, 32, 32, 64)        256       \n",
      "_________________________________________________________________\n",
      "dropout_3 (Dropout)          (None, 32, 32, 64)        0         \n",
      "_________________________________________________________________\n",
      "flatten_1 (Flatten)          (None, 65536)             0         \n",
      "_________________________________________________________________\n",
      "dense_1 (Dense)              (None, 10)                655370    \n",
      "=================================================================\n",
      "Total params: 797,322\n",
      "Trainable params: 796,938\n",
      "Non-trainable params: 384\n",
      "_________________________________________________________________\n",
      "None\n"
     ]
    }
   ],
   "source": [
    "model = Model(inputs = input_img, outputs = out)\n",
    "print(model.summary())"
   ]
  },
  {
   "cell_type": "code",
   "execution_count": 0,
   "metadata": {
    "colab": {
     "base_uri": "https://localhost:8080/",
     "height": 950
    },
    "colab_type": "code",
    "id": "AiQQhuTJmhry",
    "outputId": "d7a1cb74-3e01-4c72-9152-d7e6e83cbd23"
   },
   "outputs": [
    {
     "name": "stdout",
     "output_type": "stream",
     "text": [
      "Train on 50000 samples, validate on 10000 samples\n",
      "Epoch 1/25\n",
      "50000/50000 [==============================] - 28s 562us/step - loss: 2.6695 - accuracy: 0.3255 - val_loss: 2.7207 - val_accuracy: 0.2383\n",
      "Epoch 2/25\n",
      "50000/50000 [==============================] - 22s 430us/step - loss: 1.5596 - accuracy: 0.4521 - val_loss: 2.0805 - val_accuracy: 0.3057\n",
      "Epoch 3/25\n",
      "50000/50000 [==============================] - 22s 431us/step - loss: 1.3943 - accuracy: 0.5085 - val_loss: 2.2946 - val_accuracy: 0.3057\n",
      "Epoch 4/25\n",
      "50000/50000 [==============================] - 21s 430us/step - loss: 1.3056 - accuracy: 0.5393 - val_loss: 1.8803 - val_accuracy: 0.3796\n",
      "Epoch 5/25\n",
      "50000/50000 [==============================] - 21s 428us/step - loss: 1.2477 - accuracy: 0.5615 - val_loss: 1.8437 - val_accuracy: 0.4028\n",
      "Epoch 6/25\n",
      "50000/50000 [==============================] - 21s 429us/step - loss: 1.2015 - accuracy: 0.5772 - val_loss: 1.8302 - val_accuracy: 0.3866\n",
      "Epoch 7/25\n",
      "50000/50000 [==============================] - 21s 428us/step - loss: 1.1637 - accuracy: 0.5896 - val_loss: 1.5074 - val_accuracy: 0.4668\n",
      "Epoch 8/25\n",
      "50000/50000 [==============================] - 21s 430us/step - loss: 1.1312 - accuracy: 0.6019 - val_loss: 1.4622 - val_accuracy: 0.4805\n",
      "Epoch 9/25\n",
      "50000/50000 [==============================] - 21s 428us/step - loss: 1.0947 - accuracy: 0.6145 - val_loss: 1.4813 - val_accuracy: 0.4812\n",
      "Epoch 10/25\n",
      "50000/50000 [==============================] - 22s 433us/step - loss: 1.0738 - accuracy: 0.6215 - val_loss: 1.7251 - val_accuracy: 0.4368\n",
      "Epoch 11/25\n",
      "50000/50000 [==============================] - 21s 430us/step - loss: 1.0514 - accuracy: 0.6298 - val_loss: 1.4849 - val_accuracy: 0.4862\n",
      "Epoch 12/25\n",
      "50000/50000 [==============================] - 21s 430us/step - loss: 1.0280 - accuracy: 0.6395 - val_loss: 1.5391 - val_accuracy: 0.4790\n",
      "Epoch 13/25\n",
      "50000/50000 [==============================] - 21s 429us/step - loss: 1.0121 - accuracy: 0.6440 - val_loss: 1.3712 - val_accuracy: 0.5182\n",
      "Epoch 14/25\n",
      "50000/50000 [==============================] - 21s 428us/step - loss: 0.9942 - accuracy: 0.6514 - val_loss: 1.3385 - val_accuracy: 0.5265\n",
      "Epoch 15/25\n",
      "50000/50000 [==============================] - 21s 429us/step - loss: 0.9834 - accuracy: 0.6556 - val_loss: 1.3901 - val_accuracy: 0.5184\n",
      "Epoch 16/25\n",
      "50000/50000 [==============================] - 21s 428us/step - loss: 0.9691 - accuracy: 0.6615 - val_loss: 1.4900 - val_accuracy: 0.4782\n",
      "Epoch 17/25\n",
      "50000/50000 [==============================] - 21s 429us/step - loss: 0.9603 - accuracy: 0.6647 - val_loss: 1.3767 - val_accuracy: 0.5307\n",
      "Epoch 18/25\n",
      "50000/50000 [==============================] - 21s 428us/step - loss: 0.9491 - accuracy: 0.6674 - val_loss: 1.4387 - val_accuracy: 0.5023\n",
      "Epoch 19/25\n",
      "50000/50000 [==============================] - 21s 428us/step - loss: 0.9396 - accuracy: 0.6705 - val_loss: 1.4596 - val_accuracy: 0.4984\n",
      "Epoch 20/25\n",
      "50000/50000 [==============================] - 21s 427us/step - loss: 0.9273 - accuracy: 0.6762 - val_loss: 1.4235 - val_accuracy: 0.5048\n",
      "Epoch 21/25\n",
      "50000/50000 [==============================] - 21s 427us/step - loss: 0.9197 - accuracy: 0.6788 - val_loss: 1.3623 - val_accuracy: 0.5354\n",
      "Epoch 22/25\n",
      "50000/50000 [==============================] - 21s 428us/step - loss: 0.9151 - accuracy: 0.6807 - val_loss: 1.4058 - val_accuracy: 0.5021\n",
      "Epoch 23/25\n",
      "50000/50000 [==============================] - 21s 429us/step - loss: 0.9094 - accuracy: 0.6817 - val_loss: 1.5079 - val_accuracy: 0.4699\n",
      "Epoch 24/25\n",
      "50000/50000 [==============================] - 21s 427us/step - loss: 0.8993 - accuracy: 0.6851 - val_loss: 1.4390 - val_accuracy: 0.4958\n",
      "Epoch 25/25\n",
      "50000/50000 [==============================] - 22s 433us/step - loss: 0.8952 - accuracy: 0.6874 - val_loss: 1.4920 - val_accuracy: 0.4954\n",
      "Accuracy: 49.54%\n"
     ]
    }
   ],
   "source": [
    "epochs = 25\n",
    "lrate = 0.01\n",
    "decay = lrate/epochs\n",
    "sgd = SGD(lr=lrate, momentum=0.9, decay=decay, nesterov=False)\n",
    "model.compile(loss='categorical_crossentropy', optimizer=sgd, metrics=['accuracy'])\n",
    "model.fit(X_train, y_train, validation_data=(X_test, y_test), epochs=epochs, batch_size=32)\n",
    "\n",
    "scores = model.evaluate(X_test, y_test, verbose=0)\n",
    "print(\"Accuracy: %.2f%%\" % (scores[1]*100))"
   ]
  },
  {
   "cell_type": "code",
   "execution_count": 0,
   "metadata": {
    "colab": {},
    "colab_type": "code",
    "id": "6eqBl8NvIDsh"
   },
   "outputs": [],
   "source": []
  }
 ],
 "metadata": {
  "accelerator": "GPU",
  "colab": {
   "collapsed_sections": [],
   "name": "Deep_code_1_my_updates_4.ipynb",
   "provenance": []
  },
  "kernelspec": {
   "display_name": "Python 3",
   "language": "python",
   "name": "python3"
  },
  "language_info": {
   "codemirror_mode": {
    "name": "ipython",
    "version": 3
   },
   "file_extension": ".py",
   "mimetype": "text/x-python",
   "name": "python",
   "nbconvert_exporter": "python",
   "pygments_lexer": "ipython3",
   "version": "3.5.3"
  }
 },
 "nbformat": 4,
 "nbformat_minor": 1
}
