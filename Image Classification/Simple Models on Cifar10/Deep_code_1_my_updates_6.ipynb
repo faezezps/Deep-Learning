{
 "cells": [
  {
   "cell_type": "code",
   "execution_count": 1,
   "metadata": {
    "colab": {
     "base_uri": "https://localhost:8080/",
     "height": 35
    },
    "colab_type": "code",
    "id": "c02R0xPPmhqO",
    "outputId": "fe6ad80c-52f9-4f8d-9d4d-a4387fef6624"
   },
   "outputs": [
    {
     "name": "stderr",
     "output_type": "stream",
     "text": [
      "Using TensorFlow backend.\n"
     ]
    }
   ],
   "source": [
    "import keras\n",
    "from keras.datasets import cifar10\n",
    "from keras.layers import Conv2D, MaxPooling2D\n",
    "from keras.utils import np_utils\n",
    "import os\n",
    "from keras.layers import Flatten, Dense\n",
    "from keras.optimizers import SGD\n",
    "from keras.layers import Input\n",
    "from keras.models import Model\n",
    "\n",
    "from keras.layers.normalization import BatchNormalization\n",
    "from keras.layers import Dropout\n",
    "\n",
    "from keras.layers import GlobalAveragePooling2D"
   ]
  },
  {
   "cell_type": "markdown",
   "metadata": {
    "colab_type": "text",
    "id": "EbDH8g5Imhqy"
   },
   "source": [
    "Data"
   ]
  },
  {
   "cell_type": "code",
   "execution_count": 2,
   "metadata": {
    "colab": {
     "base_uri": "https://localhost:8080/",
     "height": 53
    },
    "colab_type": "code",
    "id": "UTpc287xmhq0",
    "outputId": "95c126a0-4726-4b15-a413-9a3a7334b273"
   },
   "outputs": [
    {
     "name": "stdout",
     "output_type": "stream",
     "text": [
      "Downloading data from https://www.cs.toronto.edu/~kriz/cifar-10-python.tar.gz\n",
      "170500096/170498071 [==============================] - 13s 0us/step\n"
     ]
    }
   ],
   "source": [
    "# airplanes, cars, birds, cats, deer, dogs, frogs, horses, ships, and trucks\n",
    "(X_train, y_train), (X_test, y_test) = cifar10.load_data()\n",
    "\n",
    "X_train = X_train.astype('float32')\n",
    "X_test = X_test.astype('float32')\n",
    "\n",
    "#normalization\n",
    "X_train = X_train / 255.0\n",
    "X_test = X_test / 255.0\n",
    "\n",
    "y_train = np_utils.to_categorical(y_train)\n",
    "y_test = np_utils.to_categorical(y_test)"
   ]
  },
  {
   "cell_type": "markdown",
   "metadata": {
    "colab_type": "text",
    "id": "P0XVgexVmhrH"
   },
   "source": [
    "Network structure or graph"
   ]
  },
  {
   "cell_type": "code",
   "execution_count": 0,
   "metadata": {
    "colab": {},
    "colab_type": "code",
    "id": "qRkl4qmOmhrJ"
   },
   "outputs": [],
   "source": [
    "#input layer\n",
    "input_img = Input(shape = (32, 32, 3))"
   ]
  },
  {
   "cell_type": "code",
   "execution_count": 0,
   "metadata": {
    "colab": {},
    "colab_type": "code",
    "id": "OLfxpyf-mhra"
   },
   "outputs": [],
   "source": [
    "tower_1 = Conv2D(64, (3,3), padding='same', activation='relu')(input_img)\n",
    "\n",
    "tower_1 = Conv2D(64, (5,5), padding='same', activation='relu')(tower_1)\n",
    "tower_1 =BatchNormalization()(tower_1)\n",
    "tower_1 = Dropout(0.5)(tower_1)\n",
    "tower_1 = Conv2D(64, (5,5), padding='same', activation='relu')(tower_1)\n",
    "tower_1 =BatchNormalization()(tower_1)\n",
    "tower_1 = Dropout(0.5)(tower_1)\n",
    "tower_1 = Conv2D(64, (5,5), padding='same', activation='relu')(tower_1)\n",
    "tower_1 =BatchNormalization()(tower_1)\n",
    "tower_1 = Dropout(0.5)(tower_1)\n",
    "tower_1 = MaxPooling2D((5,5), strides=(1,1), padding='same')(tower_1)\n",
    "tower_1 =BatchNormalization()(tower_1)\n",
    "tower_1 = Dropout(0.5)(tower_1)\n",
    "tower_1 = Conv2D(64, (3,3), padding='same', activation='relu')(tower_1)\n",
    "tower_1 =BatchNormalization()(tower_1)\n",
    "tower_1 = Dropout(0.5)(tower_1)\n",
    "\n",
    "output = GlobalAveragePooling2D()(tower_1)\n",
    "#output = Flatten()(tower_1)\n",
    "\n",
    "out = Dense(10, activation='softmax')(output)"
   ]
  },
  {
   "cell_type": "code",
   "execution_count": 7,
   "metadata": {
    "colab": {
     "base_uri": "https://localhost:8080/",
     "height": 860
    },
    "colab_type": "code",
    "id": "rcuh4rrLmhrk",
    "outputId": "e26dd569-b2e0-4a02-acde-31151505cc20"
   },
   "outputs": [
    {
     "name": "stdout",
     "output_type": "stream",
     "text": [
      "Model: \"model_1\"\n",
      "_________________________________________________________________\n",
      "Layer (type)                 Output Shape              Param #   \n",
      "=================================================================\n",
      "input_1 (InputLayer)         (None, 32, 32, 3)         0         \n",
      "_________________________________________________________________\n",
      "conv2d_7 (Conv2D)            (None, 32, 32, 64)        1792      \n",
      "_________________________________________________________________\n",
      "conv2d_8 (Conv2D)            (None, 32, 32, 64)        102464    \n",
      "_________________________________________________________________\n",
      "batch_normalization_7 (Batch (None, 32, 32, 64)        256       \n",
      "_________________________________________________________________\n",
      "dropout_7 (Dropout)          (None, 32, 32, 64)        0         \n",
      "_________________________________________________________________\n",
      "conv2d_9 (Conv2D)            (None, 32, 32, 64)        102464    \n",
      "_________________________________________________________________\n",
      "batch_normalization_8 (Batch (None, 32, 32, 64)        256       \n",
      "_________________________________________________________________\n",
      "dropout_8 (Dropout)          (None, 32, 32, 64)        0         \n",
      "_________________________________________________________________\n",
      "conv2d_10 (Conv2D)           (None, 32, 32, 64)        102464    \n",
      "_________________________________________________________________\n",
      "batch_normalization_9 (Batch (None, 32, 32, 64)        256       \n",
      "_________________________________________________________________\n",
      "dropout_9 (Dropout)          (None, 32, 32, 64)        0         \n",
      "_________________________________________________________________\n",
      "max_pooling2d_3 (MaxPooling2 (None, 32, 32, 64)        0         \n",
      "_________________________________________________________________\n",
      "batch_normalization_10 (Batc (None, 32, 32, 64)        256       \n",
      "_________________________________________________________________\n",
      "dropout_10 (Dropout)         (None, 32, 32, 64)        0         \n",
      "_________________________________________________________________\n",
      "conv2d_11 (Conv2D)           (None, 32, 32, 64)        36928     \n",
      "_________________________________________________________________\n",
      "batch_normalization_11 (Batc (None, 32, 32, 64)        256       \n",
      "_________________________________________________________________\n",
      "dropout_11 (Dropout)         (None, 32, 32, 64)        0         \n",
      "_________________________________________________________________\n",
      "global_average_pooling2d_3 ( (None, 64)                0         \n",
      "_________________________________________________________________\n",
      "dense_2 (Dense)              (None, 10)                650       \n",
      "=================================================================\n",
      "Total params: 348,042\n",
      "Trainable params: 347,402\n",
      "Non-trainable params: 640\n",
      "_________________________________________________________________\n",
      "None\n"
     ]
    }
   ],
   "source": [
    "model = Model(inputs = input_img, outputs = out)\n",
    "print(model.summary())"
   ]
  },
  {
   "cell_type": "code",
   "execution_count": 8,
   "metadata": {
    "colab": {
     "base_uri": "https://localhost:8080/",
     "height": 950
    },
    "colab_type": "code",
    "id": "AiQQhuTJmhry",
    "outputId": "5d1d7989-5f9e-485e-e4d6-b4f4a13d640a"
   },
   "outputs": [
    {
     "name": "stdout",
     "output_type": "stream",
     "text": [
      "Train on 50000 samples, validate on 10000 samples\n",
      "Epoch 1/25\n",
      "50000/50000 [==============================] - 60s 1ms/step - loss: 1.5466 - accuracy: 0.4355 - val_loss: 3.6016 - val_accuracy: 0.2081\n",
      "Epoch 2/25\n",
      "50000/50000 [==============================] - 53s 1ms/step - loss: 1.2376 - accuracy: 0.5587 - val_loss: 4.4725 - val_accuracy: 0.2445\n",
      "Epoch 3/25\n",
      "50000/50000 [==============================] - 52s 1ms/step - loss: 1.1007 - accuracy: 0.6087 - val_loss: 4.8251 - val_accuracy: 0.2721\n",
      "Epoch 4/25\n",
      "50000/50000 [==============================] - 52s 1ms/step - loss: 1.0118 - accuracy: 0.6432 - val_loss: 4.8504 - val_accuracy: 0.2524\n",
      "Epoch 5/25\n",
      "50000/50000 [==============================] - 52s 1ms/step - loss: 0.9513 - accuracy: 0.6641 - val_loss: 5.7033 - val_accuracy: 0.2190\n",
      "Epoch 6/25\n",
      "50000/50000 [==============================] - 52s 1ms/step - loss: 0.9108 - accuracy: 0.6785 - val_loss: 5.2219 - val_accuracy: 0.2282\n",
      "Epoch 7/25\n",
      "50000/50000 [==============================] - 52s 1ms/step - loss: 0.8731 - accuracy: 0.6925 - val_loss: 5.5431 - val_accuracy: 0.2208\n",
      "Epoch 8/25\n",
      "50000/50000 [==============================] - 52s 1ms/step - loss: 0.8483 - accuracy: 0.7016 - val_loss: 5.6560 - val_accuracy: 0.2168\n",
      "Epoch 9/25\n",
      "50000/50000 [==============================] - 52s 1ms/step - loss: 0.8227 - accuracy: 0.7103 - val_loss: 5.7737 - val_accuracy: 0.2198\n",
      "Epoch 10/25\n",
      "50000/50000 [==============================] - 52s 1ms/step - loss: 0.8014 - accuracy: 0.7193 - val_loss: 5.5810 - val_accuracy: 0.2317\n",
      "Epoch 11/25\n",
      "50000/50000 [==============================] - 52s 1ms/step - loss: 0.7854 - accuracy: 0.7258 - val_loss: 5.6554 - val_accuracy: 0.2219\n",
      "Epoch 12/25\n",
      "50000/50000 [==============================] - 52s 1ms/step - loss: 0.7741 - accuracy: 0.7289 - val_loss: 5.9767 - val_accuracy: 0.2181\n",
      "Epoch 13/25\n",
      "50000/50000 [==============================] - 52s 1ms/step - loss: 0.7572 - accuracy: 0.7349 - val_loss: 5.4395 - val_accuracy: 0.2358\n",
      "Epoch 14/25\n",
      "50000/50000 [==============================] - 52s 1ms/step - loss: 0.7477 - accuracy: 0.7376 - val_loss: 6.8988 - val_accuracy: 0.1928\n",
      "Epoch 15/25\n",
      "50000/50000 [==============================] - 52s 1ms/step - loss: 0.7328 - accuracy: 0.7439 - val_loss: 5.8193 - val_accuracy: 0.2304\n",
      "Epoch 16/25\n",
      "50000/50000 [==============================] - 52s 1ms/step - loss: 0.7232 - accuracy: 0.7459 - val_loss: 6.2474 - val_accuracy: 0.2211\n",
      "Epoch 17/25\n",
      "50000/50000 [==============================] - 52s 1ms/step - loss: 0.7127 - accuracy: 0.7501 - val_loss: 6.2308 - val_accuracy: 0.2057\n",
      "Epoch 18/25\n",
      "50000/50000 [==============================] - 52s 1ms/step - loss: 0.7055 - accuracy: 0.7553 - val_loss: 5.9231 - val_accuracy: 0.2300\n",
      "Epoch 19/25\n",
      "50000/50000 [==============================] - 52s 1ms/step - loss: 0.6954 - accuracy: 0.7573 - val_loss: 6.2963 - val_accuracy: 0.2305\n",
      "Epoch 20/25\n",
      "50000/50000 [==============================] - 52s 1ms/step - loss: 0.6875 - accuracy: 0.7599 - val_loss: 6.1683 - val_accuracy: 0.2218\n",
      "Epoch 21/25\n",
      "50000/50000 [==============================] - 52s 1ms/step - loss: 0.6829 - accuracy: 0.7616 - val_loss: 6.8228 - val_accuracy: 0.2064\n",
      "Epoch 22/25\n",
      "50000/50000 [==============================] - 52s 1ms/step - loss: 0.6758 - accuracy: 0.7656 - val_loss: 6.5278 - val_accuracy: 0.2146\n",
      "Epoch 23/25\n",
      "50000/50000 [==============================] - 52s 1ms/step - loss: 0.6701 - accuracy: 0.7663 - val_loss: 6.3713 - val_accuracy: 0.2288\n",
      "Epoch 24/25\n",
      "50000/50000 [==============================] - 52s 1ms/step - loss: 0.6669 - accuracy: 0.7653 - val_loss: 6.4395 - val_accuracy: 0.2317\n",
      "Epoch 25/25\n",
      "50000/50000 [==============================] - 52s 1ms/step - loss: 0.6586 - accuracy: 0.7707 - val_loss: 6.2898 - val_accuracy: 0.2355\n",
      "Accuracy: 23.55%\n"
     ]
    }
   ],
   "source": [
    "epochs = 25\n",
    "lrate = 0.01\n",
    "decay = lrate/epochs\n",
    "sgd = SGD(lr=lrate, momentum=0.9, decay=decay, nesterov=False)\n",
    "model.compile(loss='categorical_crossentropy', optimizer=sgd, metrics=['accuracy'])\n",
    "model.fit(X_train, y_train, validation_data=(X_test, y_test), epochs=epochs, batch_size=32)\n",
    "\n",
    "scores = model.evaluate(X_test, y_test, verbose=0)\n",
    "print(\"Accuracy: %.2f%%\" % (scores[1]*100))"
   ]
  },
  {
   "cell_type": "code",
   "execution_count": 0,
   "metadata": {
    "colab": {},
    "colab_type": "code",
    "id": "6eqBl8NvIDsh"
   },
   "outputs": [],
   "source": []
  }
 ],
 "metadata": {
  "accelerator": "GPU",
  "colab": {
   "collapsed_sections": [],
   "name": "Deep_code_1_my_updates_6_23.55%.ipynb",
   "provenance": []
  },
  "kernelspec": {
   "display_name": "Python 3",
   "language": "python",
   "name": "python3"
  },
  "language_info": {
   "codemirror_mode": {
    "name": "ipython",
    "version": 3
   },
   "file_extension": ".py",
   "mimetype": "text/x-python",
   "name": "python",
   "nbconvert_exporter": "python",
   "pygments_lexer": "ipython3",
   "version": "3.5.3"
  }
 },
 "nbformat": 4,
 "nbformat_minor": 1
}
