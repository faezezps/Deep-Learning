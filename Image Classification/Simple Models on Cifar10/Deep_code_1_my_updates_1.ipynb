{
  "nbformat": 4,
  "nbformat_minor": 0,
  "metadata": {
    "kernelspec": {
      "display_name": "nlp",
      "language": "python",
      "name": "nlp"
    },
    "language_info": {
      "codemirror_mode": {
        "name": "ipython",
        "version": 3
      },
      "file_extension": ".py",
      "mimetype": "text/x-python",
      "name": "python",
      "nbconvert_exporter": "python",
      "pygments_lexer": "ipython3",
      "version": "3.7.4"
    },
    "colab": {
      "name": "Deep_code_1_my_updates_1.ipynb",
      "provenance": [],
      "collapsed_sections": []
    },
    "accelerator": "GPU"
  },
  "cells": [
    {
      "cell_type": "code",
      "metadata": {
        "id": "BqrkZRjDlGu0",
        "colab_type": "code",
        "colab": {
          "base_uri": "https://localhost:8080/",
          "height": 35
        },
        "outputId": "d1b45b84-ae42-4bc3-a5b2-ad3ce5bf70c6"
      },
      "source": [
        "import keras\n",
        "from keras.datasets import cifar10\n",
        "from keras.layers import Conv2D, MaxPooling2D\n",
        "from keras.utils import np_utils\n",
        "import os\n",
        "from keras.layers import Flatten, Dense\n",
        "from keras.optimizers import SGD\n",
        "from keras.layers import Input\n",
        "from keras.models import Model"
      ],
      "execution_count": 1,
      "outputs": [
        {
          "output_type": "stream",
          "text": [
            "Using TensorFlow backend.\n"
          ],
          "name": "stderr"
        }
      ]
    },
    {
      "cell_type": "markdown",
      "metadata": {
        "id": "aO4IbpBslGvJ",
        "colab_type": "text"
      },
      "source": [
        "Data"
      ]
    },
    {
      "cell_type": "code",
      "metadata": {
        "id": "GP_UZVU4lGvM",
        "colab_type": "code",
        "colab": {
          "base_uri": "https://localhost:8080/",
          "height": 53
        },
        "outputId": "4c47d46e-e253-41e8-d923-8f05a6a14e59"
      },
      "source": [
        "# airplanes, cars, birds, cats, deer, dogs, frogs, horses, ships, and trucks\n",
        "(X_train, y_train), (X_test, y_test) = cifar10.load_data()\n",
        "\n",
        "X_train = X_train.astype('float32')\n",
        "X_test = X_test.astype('float32')\n",
        "\n",
        "#normalization\n",
        "X_train = X_train / 255.0\n",
        "X_test = X_test / 255.0\n",
        "\n",
        "y_train = np_utils.to_categorical(y_train)\n",
        "y_test = np_utils.to_categorical(y_test)"
      ],
      "execution_count": 2,
      "outputs": [
        {
          "output_type": "stream",
          "text": [
            "Downloading data from https://www.cs.toronto.edu/~kriz/cifar-10-python.tar.gz\n",
            "170500096/170498071 [==============================] - 11s 0us/step\n"
          ],
          "name": "stdout"
        }
      ]
    },
    {
      "cell_type": "markdown",
      "metadata": {
        "id": "bvDEpZk0lGvb",
        "colab_type": "text"
      },
      "source": [
        "Network structure or graph"
      ]
    },
    {
      "cell_type": "code",
      "metadata": {
        "id": "-PaUrVRllGvd",
        "colab_type": "code",
        "colab": {}
      },
      "source": [
        "#input layer\n",
        "input_img = Input(shape = (32, 32, 3))"
      ],
      "execution_count": 0,
      "outputs": []
    },
    {
      "cell_type": "code",
      "metadata": {
        "id": "FfSZLyzblGvm",
        "colab_type": "code",
        "colab": {}
      },
      "source": [
        "#Changes :decrease number of filters and change the size of the filters\n",
        "\n",
        "tower_1 = Conv2D(32, (1,1), padding= 'same', activation='relu')(input_img)\n",
        "tower_1 = Conv2D(32, (2,2), padding='same', activation='relu')(tower_1)\n",
        "tower_1 = Conv2D(32, (4,4), padding='same', activation='relu')(tower_1)\n",
        "tower_1 = Conv2D(32, (5,5), padding='same', activation='relu')(tower_1)\n",
        "tower_1 = MaxPooling2D((6,6), strides=(1,1), padding='same')(tower_1)\n",
        "tower_1 = Conv2D(64, (3,3), padding='same', activation='relu')(tower_1)\n",
        "\n",
        "output = Flatten()(tower_1)\n",
        "out    = Dense(10, activation='softmax')(output)"
      ],
      "execution_count": 0,
      "outputs": []
    },
    {
      "cell_type": "code",
      "metadata": {
        "id": "BkiIWNpBlGvy",
        "colab_type": "code",
        "colab": {
          "base_uri": "https://localhost:8080/",
          "height": 501
        },
        "outputId": "3c80a3df-15cc-449f-9ecd-bcd57aec9134"
      },
      "source": [
        "model = Model(inputs = input_img, outputs = out)\n",
        "print(model.summary())"
      ],
      "execution_count": 5,
      "outputs": [
        {
          "output_type": "stream",
          "text": [
            "Model: \"model_1\"\n",
            "_________________________________________________________________\n",
            "Layer (type)                 Output Shape              Param #   \n",
            "=================================================================\n",
            "input_1 (InputLayer)         (None, 32, 32, 3)         0         \n",
            "_________________________________________________________________\n",
            "conv2d_1 (Conv2D)            (None, 32, 32, 32)        128       \n",
            "_________________________________________________________________\n",
            "conv2d_2 (Conv2D)            (None, 32, 32, 32)        4128      \n",
            "_________________________________________________________________\n",
            "conv2d_3 (Conv2D)            (None, 32, 32, 32)        16416     \n",
            "_________________________________________________________________\n",
            "conv2d_4 (Conv2D)            (None, 32, 32, 32)        25632     \n",
            "_________________________________________________________________\n",
            "max_pooling2d_1 (MaxPooling2 (None, 32, 32, 32)        0         \n",
            "_________________________________________________________________\n",
            "conv2d_5 (Conv2D)            (None, 32, 32, 64)        18496     \n",
            "_________________________________________________________________\n",
            "flatten_1 (Flatten)          (None, 65536)             0         \n",
            "_________________________________________________________________\n",
            "dense_1 (Dense)              (None, 10)                655370    \n",
            "=================================================================\n",
            "Total params: 720,170\n",
            "Trainable params: 720,170\n",
            "Non-trainable params: 0\n",
            "_________________________________________________________________\n",
            "None\n"
          ],
          "name": "stdout"
        }
      ]
    },
    {
      "cell_type": "code",
      "metadata": {
        "id": "_pcU3XJ_lGv6",
        "colab_type": "code",
        "colab": {
          "base_uri": "https://localhost:8080/",
          "height": 950
        },
        "outputId": "b64ff8ff-2e75-4a95-9cb5-c1021f077901"
      },
      "source": [
        "epochs = 25\n",
        "lrate = 0.01\n",
        "decay = lrate/epochs\n",
        "sgd = SGD(lr=lrate, momentum=0.9, decay=decay, nesterov=False)\n",
        "model.compile(loss='categorical_crossentropy', optimizer=sgd, metrics=['accuracy'])\n",
        "model.fit(X_train, y_train, validation_data=(X_test, y_test), epochs=epochs, batch_size=32)\n",
        "\n",
        "scores = model.evaluate(X_test, y_test, verbose=0)\n",
        "print(\"Accuracy: %.2f%%\" % (scores[1]*100))"
      ],
      "execution_count": 6,
      "outputs": [
        {
          "output_type": "stream",
          "text": [
            "Train on 50000 samples, validate on 10000 samples\n",
            "Epoch 1/25\n",
            "50000/50000 [==============================] - 42s 843us/step - loss: 1.5993 - accuracy: 0.4226 - val_loss: 1.2825 - val_accuracy: 0.5426\n",
            "Epoch 2/25\n",
            "50000/50000 [==============================] - 36s 725us/step - loss: 1.1150 - accuracy: 0.6067 - val_loss: 0.9731 - val_accuracy: 0.6603\n",
            "Epoch 3/25\n",
            "50000/50000 [==============================] - 36s 723us/step - loss: 0.9159 - accuracy: 0.6824 - val_loss: 0.9155 - val_accuracy: 0.6855\n",
            "Epoch 4/25\n",
            "50000/50000 [==============================] - 36s 725us/step - loss: 0.7896 - accuracy: 0.7273 - val_loss: 0.8950 - val_accuracy: 0.6995\n",
            "Epoch 5/25\n",
            "50000/50000 [==============================] - 36s 724us/step - loss: 0.6893 - accuracy: 0.7612 - val_loss: 0.8635 - val_accuracy: 0.7099\n",
            "Epoch 6/25\n",
            "50000/50000 [==============================] - 36s 725us/step - loss: 0.6069 - accuracy: 0.7878 - val_loss: 0.8870 - val_accuracy: 0.7055\n",
            "Epoch 7/25\n",
            "50000/50000 [==============================] - 36s 722us/step - loss: 0.5302 - accuracy: 0.8169 - val_loss: 0.9200 - val_accuracy: 0.7064\n",
            "Epoch 8/25\n",
            "50000/50000 [==============================] - 37s 730us/step - loss: 0.4593 - accuracy: 0.8415 - val_loss: 0.9191 - val_accuracy: 0.7200\n",
            "Epoch 9/25\n",
            "50000/50000 [==============================] - 36s 722us/step - loss: 0.3929 - accuracy: 0.8634 - val_loss: 0.9905 - val_accuracy: 0.7120\n",
            "Epoch 10/25\n",
            "50000/50000 [==============================] - 36s 722us/step - loss: 0.3279 - accuracy: 0.8873 - val_loss: 1.0924 - val_accuracy: 0.7076\n",
            "Epoch 11/25\n",
            "50000/50000 [==============================] - 36s 722us/step - loss: 0.2713 - accuracy: 0.9070 - val_loss: 1.1185 - val_accuracy: 0.7108\n",
            "Epoch 12/25\n",
            "50000/50000 [==============================] - 36s 723us/step - loss: 0.2200 - accuracy: 0.9237 - val_loss: 1.2693 - val_accuracy: 0.6999\n",
            "Epoch 13/25\n",
            "50000/50000 [==============================] - 36s 721us/step - loss: 0.1704 - accuracy: 0.9426 - val_loss: 1.3380 - val_accuracy: 0.6981\n",
            "Epoch 14/25\n",
            "50000/50000 [==============================] - 36s 723us/step - loss: 0.1314 - accuracy: 0.9563 - val_loss: 1.5148 - val_accuracy: 0.6998\n",
            "Epoch 15/25\n",
            "50000/50000 [==============================] - 36s 722us/step - loss: 0.0938 - accuracy: 0.9701 - val_loss: 1.6258 - val_accuracy: 0.7007\n",
            "Epoch 16/25\n",
            "50000/50000 [==============================] - 36s 730us/step - loss: 0.0666 - accuracy: 0.9803 - val_loss: 1.8003 - val_accuracy: 0.7029\n",
            "Epoch 17/25\n",
            "50000/50000 [==============================] - 36s 723us/step - loss: 0.0445 - accuracy: 0.9873 - val_loss: 1.9563 - val_accuracy: 0.6973\n",
            "Epoch 18/25\n",
            "50000/50000 [==============================] - 36s 722us/step - loss: 0.0274 - accuracy: 0.9937 - val_loss: 2.0614 - val_accuracy: 0.7028\n",
            "Epoch 19/25\n",
            "50000/50000 [==============================] - 36s 721us/step - loss: 0.0141 - accuracy: 0.9982 - val_loss: 2.2477 - val_accuracy: 0.7027\n",
            "Epoch 20/25\n",
            "50000/50000 [==============================] - 36s 722us/step - loss: 0.0070 - accuracy: 0.9997 - val_loss: 2.3651 - val_accuracy: 0.7066\n",
            "Epoch 21/25\n",
            "50000/50000 [==============================] - 36s 722us/step - loss: 0.0040 - accuracy: 0.9999 - val_loss: 2.4966 - val_accuracy: 0.7046\n",
            "Epoch 22/25\n",
            "50000/50000 [==============================] - 36s 723us/step - loss: 0.0029 - accuracy: 1.0000 - val_loss: 2.5745 - val_accuracy: 0.7069\n",
            "Epoch 23/25\n",
            "50000/50000 [==============================] - 36s 723us/step - loss: 0.0023 - accuracy: 1.0000 - val_loss: 2.6461 - val_accuracy: 0.7063\n",
            "Epoch 24/25\n",
            "50000/50000 [==============================] - 36s 719us/step - loss: 0.0020 - accuracy: 1.0000 - val_loss: 2.7022 - val_accuracy: 0.7058\n",
            "Epoch 25/25\n",
            "50000/50000 [==============================] - 36s 729us/step - loss: 0.0017 - accuracy: 1.0000 - val_loss: 2.7549 - val_accuracy: 0.7065\n",
            "Accuracy: 70.65%\n"
          ],
          "name": "stdout"
        }
      ]
    },
    {
      "cell_type": "code",
      "metadata": {
        "id": "4v5opOY9lGwM",
        "colab_type": "code",
        "colab": {}
      },
      "source": [
        ""
      ],
      "execution_count": 0,
      "outputs": []
    }
  ]
}