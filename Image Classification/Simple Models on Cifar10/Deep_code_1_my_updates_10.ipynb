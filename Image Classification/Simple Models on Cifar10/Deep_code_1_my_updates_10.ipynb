{
 "cells": [
  {
   "cell_type": "code",
   "execution_count": 2,
   "metadata": {
    "colab": {
     "base_uri": "https://localhost:8080/",
     "height": 35
    },
    "colab_type": "code",
    "id": "fCrLdNvFtA6_",
    "outputId": "9345b276-80fb-47db-e4d9-b4cf06e95a4c"
   },
   "outputs": [
    {
     "name": "stderr",
     "output_type": "stream",
     "text": [
      "Using TensorFlow backend.\n"
     ]
    }
   ],
   "source": [
    "import keras\n",
    "from keras.datasets import cifar10\n",
    "from keras.layers import Conv2D, MaxPooling2D\n",
    "from keras.utils import np_utils\n",
    "import os\n",
    "from keras.layers import Flatten, Dense\n",
    "from keras.optimizers import SGD\n",
    "from keras.layers import Input\n",
    "from keras.models import Model\n",
    "\n",
    "from keras.layers.normalization import BatchNormalization\n",
    "from keras.layers import Dropout\n",
    "\n",
    "from keras.layers import GlobalAveragePooling2D"
   ]
  },
  {
   "cell_type": "markdown",
   "metadata": {
    "colab_type": "text",
    "id": "gVy2WNGVtA7N"
   },
   "source": [
    "Data"
   ]
  },
  {
   "cell_type": "code",
   "execution_count": 0,
   "metadata": {
    "colab": {},
    "colab_type": "code",
    "id": "XUc5g9sbtA7P"
   },
   "outputs": [],
   "source": [
    "(X_train, y_train), (X_test, y_test) = cifar10.load_data()\n",
    "\n",
    "X_train = X_train.astype('float32')\n",
    "X_test = X_test.astype('float32')\n",
    "\n",
    "#normalization\n",
    "X_train = X_train / 255.0\n",
    "X_test = X_test / 255.0\n",
    "\n",
    "y_train = np_utils.to_categorical(y_train)\n",
    "y_test = np_utils.to_categorical(y_test)"
   ]
  },
  {
   "cell_type": "markdown",
   "metadata": {
    "colab_type": "text",
    "id": "XoY3WxsAtA7b"
   },
   "source": [
    "Network structure or graph"
   ]
  },
  {
   "cell_type": "code",
   "execution_count": 0,
   "metadata": {
    "colab": {},
    "colab_type": "code",
    "id": "mDGrXLeDtA7d"
   },
   "outputs": [],
   "source": [
    "#input layer\n",
    "input_img = Input(shape = (32, 32, 3))"
   ]
  },
  {
   "cell_type": "code",
   "execution_count": 0,
   "metadata": {
    "colab": {},
    "colab_type": "code",
    "id": "IMfkdSe8tA7m"
   },
   "outputs": [],
   "source": [
    "tower_1 = Conv2D(32, (3,3), padding= 'same', activation='relu')(input_img)\n",
    "\n",
    "# without batch normalization + without global pooling\n",
    "\n",
    "tower_1 = Conv2D(64, (5,5), padding='same', activation='relu')(tower_1)\n",
    "tower_1 = Dropout(0.5)(tower_1)\n",
    "\n",
    "tower_1 = Conv2D(64, (5,5), padding='same', activation='relu')(tower_1)\n",
    "tower_1 = Dropout(0.5)(tower_1)\n",
    "\n",
    "tower_1 = Conv2D(64, (5,5), padding='same', activation='relu')(tower_1)\n",
    "tower_1 = Dropout(0.5)(tower_1)\n",
    "\n",
    "tower_1 = MaxPooling2D((6,6), strides=(1,1), padding='same')(tower_1)\n",
    "tower_1 = Dropout(0.5)(tower_1)\n",
    "\n",
    "tower_1 = Conv2D(64, (3,3), padding='same', activation='relu')(tower_1)\n",
    "tower_1 = Dropout(0.5)(tower_1)\n",
    "\n",
    "output = GlobalAveragePooling2D()(tower_1)\n",
    "#output = Flatten()(tower_1)\n",
    "\n",
    "out = Dense(10, activation='softmax')(output)"
   ]
  },
  {
   "cell_type": "code",
   "execution_count": 6,
   "metadata": {
    "colab": {
     "base_uri": "https://localhost:8080/",
     "height": 681
    },
    "colab_type": "code",
    "id": "UPi5xWE-tA7v",
    "outputId": "b83a0b05-1d0a-4ea3-d36a-1964042d8ac8"
   },
   "outputs": [
    {
     "name": "stdout",
     "output_type": "stream",
     "text": [
      "Model: \"model_1\"\n",
      "_________________________________________________________________\n",
      "Layer (type)                 Output Shape              Param #   \n",
      "=================================================================\n",
      "input_1 (InputLayer)         (None, 32, 32, 3)         0         \n",
      "_________________________________________________________________\n",
      "conv2d_1 (Conv2D)            (None, 32, 32, 32)        896       \n",
      "_________________________________________________________________\n",
      "conv2d_2 (Conv2D)            (None, 32, 32, 64)        51264     \n",
      "_________________________________________________________________\n",
      "dropout_1 (Dropout)          (None, 32, 32, 64)        0         \n",
      "_________________________________________________________________\n",
      "conv2d_3 (Conv2D)            (None, 32, 32, 64)        102464    \n",
      "_________________________________________________________________\n",
      "dropout_2 (Dropout)          (None, 32, 32, 64)        0         \n",
      "_________________________________________________________________\n",
      "conv2d_4 (Conv2D)            (None, 32, 32, 64)        102464    \n",
      "_________________________________________________________________\n",
      "dropout_3 (Dropout)          (None, 32, 32, 64)        0         \n",
      "_________________________________________________________________\n",
      "max_pooling2d_1 (MaxPooling2 (None, 32, 32, 64)        0         \n",
      "_________________________________________________________________\n",
      "dropout_4 (Dropout)          (None, 32, 32, 64)        0         \n",
      "_________________________________________________________________\n",
      "conv2d_5 (Conv2D)            (None, 32, 32, 64)        36928     \n",
      "_________________________________________________________________\n",
      "dropout_5 (Dropout)          (None, 32, 32, 64)        0         \n",
      "_________________________________________________________________\n",
      "global_average_pooling2d_1 ( (None, 64)                0         \n",
      "_________________________________________________________________\n",
      "dense_1 (Dense)              (None, 10)                650       \n",
      "=================================================================\n",
      "Total params: 294,666\n",
      "Trainable params: 294,666\n",
      "Non-trainable params: 0\n",
      "_________________________________________________________________\n",
      "None\n"
     ]
    }
   ],
   "source": [
    "model = Model(inputs = input_img, outputs = out)\n",
    "print(model.summary())"
   ]
  },
  {
   "cell_type": "code",
   "execution_count": 7,
   "metadata": {
    "colab": {
     "base_uri": "https://localhost:8080/",
     "height": 1000
    },
    "colab_type": "code",
    "id": "lf-iOvw2tA73",
    "outputId": "5daed70c-56c3-45e5-b59c-6ce1138652d9"
   },
   "outputs": [
    {
     "name": "stdout",
     "output_type": "stream",
     "text": [
      "Train on 50000 samples, validate on 10000 samples\n",
      "Epoch 1/100\n",
      "50000/50000 [==============================] - 83s 2ms/step - loss: 1.9656 - accuracy: 0.2419 - val_loss: 2.0758 - val_accuracy: 0.2001\n",
      "Epoch 2/100\n",
      "50000/50000 [==============================] - 82s 2ms/step - loss: 1.6146 - accuracy: 0.3893 - val_loss: 1.6189 - val_accuracy: 0.4134\n",
      "Epoch 3/100\n",
      "50000/50000 [==============================] - 81s 2ms/step - loss: 1.4077 - accuracy: 0.4815 - val_loss: 1.5161 - val_accuracy: 0.4701\n",
      "Epoch 4/100\n",
      "50000/50000 [==============================] - 81s 2ms/step - loss: 1.2495 - accuracy: 0.5438 - val_loss: 1.3556 - val_accuracy: 0.5685\n",
      "Epoch 5/100\n",
      "50000/50000 [==============================] - 81s 2ms/step - loss: 1.1356 - accuracy: 0.5911 - val_loss: 1.1876 - val_accuracy: 0.6330\n",
      "Epoch 6/100\n",
      "50000/50000 [==============================] - 81s 2ms/step - loss: 1.0538 - accuracy: 0.6228 - val_loss: 1.1548 - val_accuracy: 0.6243\n",
      "Epoch 7/100\n",
      "50000/50000 [==============================] - 81s 2ms/step - loss: 0.9935 - accuracy: 0.6452 - val_loss: 1.0904 - val_accuracy: 0.6475\n",
      "Epoch 8/100\n",
      "50000/50000 [==============================] - 81s 2ms/step - loss: 0.9541 - accuracy: 0.6581 - val_loss: 1.0651 - val_accuracy: 0.6769\n",
      "Epoch 9/100\n",
      "50000/50000 [==============================] - 81s 2ms/step - loss: 0.9081 - accuracy: 0.6798 - val_loss: 1.0100 - val_accuracy: 0.6761\n",
      "Epoch 10/100\n",
      "50000/50000 [==============================] - 81s 2ms/step - loss: 0.8678 - accuracy: 0.6915 - val_loss: 0.9949 - val_accuracy: 0.7025\n",
      "Epoch 11/100\n",
      "50000/50000 [==============================] - 81s 2ms/step - loss: 0.8364 - accuracy: 0.7051 - val_loss: 0.9411 - val_accuracy: 0.7077\n",
      "Epoch 12/100\n",
      "50000/50000 [==============================] - 81s 2ms/step - loss: 0.8175 - accuracy: 0.7108 - val_loss: 0.9869 - val_accuracy: 0.6954\n",
      "Epoch 13/100\n",
      "50000/50000 [==============================] - 81s 2ms/step - loss: 0.7850 - accuracy: 0.7230 - val_loss: 0.9193 - val_accuracy: 0.7149\n",
      "Epoch 14/100\n",
      "50000/50000 [==============================] - 82s 2ms/step - loss: 0.7682 - accuracy: 0.7272 - val_loss: 0.8835 - val_accuracy: 0.7378\n",
      "Epoch 15/100\n",
      "50000/50000 [==============================] - 81s 2ms/step - loss: 0.7447 - accuracy: 0.7388 - val_loss: 0.8727 - val_accuracy: 0.7428\n",
      "Epoch 16/100\n",
      "50000/50000 [==============================] - 82s 2ms/step - loss: 0.7240 - accuracy: 0.7454 - val_loss: 0.8336 - val_accuracy: 0.7517\n",
      "Epoch 17/100\n",
      "50000/50000 [==============================] - 82s 2ms/step - loss: 0.7106 - accuracy: 0.7488 - val_loss: 0.8336 - val_accuracy: 0.7439\n",
      "Epoch 18/100\n",
      "50000/50000 [==============================] - 82s 2ms/step - loss: 0.6915 - accuracy: 0.7555 - val_loss: 0.8370 - val_accuracy: 0.7538\n",
      "Epoch 19/100\n",
      "50000/50000 [==============================] - 82s 2ms/step - loss: 0.6788 - accuracy: 0.7616 - val_loss: 0.8324 - val_accuracy: 0.7442\n",
      "Epoch 20/100\n",
      "50000/50000 [==============================] - 82s 2ms/step - loss: 0.6680 - accuracy: 0.7635 - val_loss: 0.8149 - val_accuracy: 0.7551\n",
      "Epoch 21/100\n",
      "50000/50000 [==============================] - 82s 2ms/step - loss: 0.6573 - accuracy: 0.7687 - val_loss: 0.7999 - val_accuracy: 0.7575\n",
      "Epoch 22/100\n",
      "50000/50000 [==============================] - 82s 2ms/step - loss: 0.6423 - accuracy: 0.7748 - val_loss: 0.7659 - val_accuracy: 0.7652\n",
      "Epoch 23/100\n",
      "50000/50000 [==============================] - 82s 2ms/step - loss: 0.6361 - accuracy: 0.7762 - val_loss: 0.7592 - val_accuracy: 0.7721\n",
      "Epoch 24/100\n",
      "50000/50000 [==============================] - 82s 2ms/step - loss: 0.6232 - accuracy: 0.7803 - val_loss: 0.7640 - val_accuracy: 0.7736\n",
      "Epoch 25/100\n",
      "50000/50000 [==============================] - 82s 2ms/step - loss: 0.6102 - accuracy: 0.7860 - val_loss: 0.7652 - val_accuracy: 0.7631\n",
      "Epoch 26/100\n",
      "50000/50000 [==============================] - 83s 2ms/step - loss: 0.6035 - accuracy: 0.7885 - val_loss: 0.7723 - val_accuracy: 0.7670\n",
      "Epoch 27/100\n",
      "50000/50000 [==============================] - 82s 2ms/step - loss: 0.5926 - accuracy: 0.7914 - val_loss: 0.7820 - val_accuracy: 0.7589\n",
      "Epoch 28/100\n",
      "50000/50000 [==============================] - 83s 2ms/step - loss: 0.5881 - accuracy: 0.7928 - val_loss: 0.7410 - val_accuracy: 0.7829\n",
      "Epoch 29/100\n",
      "50000/50000 [==============================] - 83s 2ms/step - loss: 0.5783 - accuracy: 0.7949 - val_loss: 0.7265 - val_accuracy: 0.7906\n",
      "Epoch 30/100\n",
      "50000/50000 [==============================] - 83s 2ms/step - loss: 0.5712 - accuracy: 0.7979 - val_loss: 0.7456 - val_accuracy: 0.7763\n",
      "Epoch 31/100\n",
      "50000/50000 [==============================] - 82s 2ms/step - loss: 0.5633 - accuracy: 0.8016 - val_loss: 0.7235 - val_accuracy: 0.7823\n",
      "Epoch 32/100\n",
      "50000/50000 [==============================] - 83s 2ms/step - loss: 0.5584 - accuracy: 0.8037 - val_loss: 0.7238 - val_accuracy: 0.7854\n",
      "Epoch 33/100\n",
      "50000/50000 [==============================] - 82s 2ms/step - loss: 0.5497 - accuracy: 0.8059 - val_loss: 0.7252 - val_accuracy: 0.7858\n",
      "Epoch 34/100\n",
      "50000/50000 [==============================] - 83s 2ms/step - loss: 0.5456 - accuracy: 0.8080 - val_loss: 0.6866 - val_accuracy: 0.7923\n",
      "Epoch 35/100\n",
      "50000/50000 [==============================] - 83s 2ms/step - loss: 0.5398 - accuracy: 0.8112 - val_loss: 0.6722 - val_accuracy: 0.7992\n",
      "Epoch 36/100\n",
      "50000/50000 [==============================] - 83s 2ms/step - loss: 0.5357 - accuracy: 0.8116 - val_loss: 0.6852 - val_accuracy: 0.7976\n",
      "Epoch 37/100\n",
      "50000/50000 [==============================] - 83s 2ms/step - loss: 0.5291 - accuracy: 0.8148 - val_loss: 0.6787 - val_accuracy: 0.8036\n",
      "Epoch 38/100\n",
      "50000/50000 [==============================] - 83s 2ms/step - loss: 0.5256 - accuracy: 0.8133 - val_loss: 0.6608 - val_accuracy: 0.8018\n",
      "Epoch 39/100\n",
      "50000/50000 [==============================] - 82s 2ms/step - loss: 0.5182 - accuracy: 0.8179 - val_loss: 0.6733 - val_accuracy: 0.7934\n",
      "Epoch 40/100\n",
      "50000/50000 [==============================] - 83s 2ms/step - loss: 0.5116 - accuracy: 0.8200 - val_loss: 0.6569 - val_accuracy: 0.7985\n",
      "Epoch 41/100\n",
      "50000/50000 [==============================] - 82s 2ms/step - loss: 0.5143 - accuracy: 0.8175 - val_loss: 0.6748 - val_accuracy: 0.8009\n",
      "Epoch 42/100\n",
      "50000/50000 [==============================] - 82s 2ms/step - loss: 0.5095 - accuracy: 0.8216 - val_loss: 0.6707 - val_accuracy: 0.7952\n",
      "Epoch 43/100\n",
      "50000/50000 [==============================] - 81s 2ms/step - loss: 0.5022 - accuracy: 0.8221 - val_loss: 0.6677 - val_accuracy: 0.8028\n",
      "Epoch 44/100\n",
      "50000/50000 [==============================] - 82s 2ms/step - loss: 0.4981 - accuracy: 0.8250 - val_loss: 0.6525 - val_accuracy: 0.8086\n",
      "Epoch 45/100\n",
      "50000/50000 [==============================] - 82s 2ms/step - loss: 0.4958 - accuracy: 0.8260 - val_loss: 0.6785 - val_accuracy: 0.7906\n",
      "Epoch 46/100\n",
      "50000/50000 [==============================] - 82s 2ms/step - loss: 0.4901 - accuracy: 0.8280 - val_loss: 0.6485 - val_accuracy: 0.7976\n",
      "Epoch 47/100\n",
      "50000/50000 [==============================] - 82s 2ms/step - loss: 0.4866 - accuracy: 0.8286 - val_loss: 0.6328 - val_accuracy: 0.8093\n",
      "Epoch 48/100\n",
      "50000/50000 [==============================] - 82s 2ms/step - loss: 0.4807 - accuracy: 0.8311 - val_loss: 0.6543 - val_accuracy: 0.8052\n",
      "Epoch 49/100\n",
      "50000/50000 [==============================] - 81s 2ms/step - loss: 0.4790 - accuracy: 0.8320 - val_loss: 0.6344 - val_accuracy: 0.8128\n",
      "Epoch 50/100\n",
      "50000/50000 [==============================] - 81s 2ms/step - loss: 0.4782 - accuracy: 0.8332 - val_loss: 0.6544 - val_accuracy: 0.8029\n",
      "Epoch 51/100\n",
      "50000/50000 [==============================] - 81s 2ms/step - loss: 0.4730 - accuracy: 0.8354 - val_loss: 0.6371 - val_accuracy: 0.8086\n",
      "Epoch 52/100\n",
      "50000/50000 [==============================] - 82s 2ms/step - loss: 0.4647 - accuracy: 0.8356 - val_loss: 0.6220 - val_accuracy: 0.8124\n",
      "Epoch 53/100\n",
      "50000/50000 [==============================] - 81s 2ms/step - loss: 0.4682 - accuracy: 0.8342 - val_loss: 0.6321 - val_accuracy: 0.8097\n",
      "Epoch 54/100\n",
      "50000/50000 [==============================] - 81s 2ms/step - loss: 0.4626 - accuracy: 0.8370 - val_loss: 0.6235 - val_accuracy: 0.8125\n",
      "Epoch 55/100\n",
      "50000/50000 [==============================] - 81s 2ms/step - loss: 0.4604 - accuracy: 0.8377 - val_loss: 0.6277 - val_accuracy: 0.8171\n",
      "Epoch 56/100\n",
      "50000/50000 [==============================] - 81s 2ms/step - loss: 0.4555 - accuracy: 0.8411 - val_loss: 0.6225 - val_accuracy: 0.8099\n",
      "Epoch 57/100\n",
      "50000/50000 [==============================] - 81s 2ms/step - loss: 0.4507 - accuracy: 0.8410 - val_loss: 0.6110 - val_accuracy: 0.8121\n",
      "Epoch 58/100\n",
      "50000/50000 [==============================] - 81s 2ms/step - loss: 0.4489 - accuracy: 0.8419 - val_loss: 0.6065 - val_accuracy: 0.8171\n",
      "Epoch 59/100\n",
      "50000/50000 [==============================] - 81s 2ms/step - loss: 0.4492 - accuracy: 0.8410 - val_loss: 0.6112 - val_accuracy: 0.8145\n",
      "Epoch 60/100\n",
      "50000/50000 [==============================] - 81s 2ms/step - loss: 0.4444 - accuracy: 0.8429 - val_loss: 0.6046 - val_accuracy: 0.8135\n",
      "Epoch 61/100\n",
      "50000/50000 [==============================] - 81s 2ms/step - loss: 0.4419 - accuracy: 0.8438 - val_loss: 0.6134 - val_accuracy: 0.8090\n",
      "Epoch 62/100\n",
      "50000/50000 [==============================] - 81s 2ms/step - loss: 0.4422 - accuracy: 0.8447 - val_loss: 0.6079 - val_accuracy: 0.8153\n",
      "Epoch 63/100\n",
      "50000/50000 [==============================] - 81s 2ms/step - loss: 0.4365 - accuracy: 0.8465 - val_loss: 0.6193 - val_accuracy: 0.8115\n",
      "Epoch 64/100\n",
      "50000/50000 [==============================] - 81s 2ms/step - loss: 0.4399 - accuracy: 0.8455 - val_loss: 0.6181 - val_accuracy: 0.8068\n",
      "Epoch 65/100\n",
      "50000/50000 [==============================] - 82s 2ms/step - loss: 0.4369 - accuracy: 0.8447 - val_loss: 0.6145 - val_accuracy: 0.8104\n",
      "Epoch 66/100\n",
      "50000/50000 [==============================] - 81s 2ms/step - loss: 0.4280 - accuracy: 0.8496 - val_loss: 0.5930 - val_accuracy: 0.8195\n",
      "Epoch 67/100\n",
      "50000/50000 [==============================] - 82s 2ms/step - loss: 0.4309 - accuracy: 0.8472 - val_loss: 0.5977 - val_accuracy: 0.8215\n",
      "Epoch 68/100\n",
      "50000/50000 [==============================] - 82s 2ms/step - loss: 0.4268 - accuracy: 0.8505 - val_loss: 0.5984 - val_accuracy: 0.8238\n",
      "Epoch 69/100\n",
      "50000/50000 [==============================] - 82s 2ms/step - loss: 0.4287 - accuracy: 0.8500 - val_loss: 0.6034 - val_accuracy: 0.8099\n",
      "Epoch 70/100\n",
      "50000/50000 [==============================] - 82s 2ms/step - loss: 0.4213 - accuracy: 0.8502 - val_loss: 0.5956 - val_accuracy: 0.8165\n",
      "Epoch 71/100\n",
      "50000/50000 [==============================] - 82s 2ms/step - loss: 0.4255 - accuracy: 0.8488 - val_loss: 0.5935 - val_accuracy: 0.8162\n",
      "Epoch 72/100\n",
      "50000/50000 [==============================] - 82s 2ms/step - loss: 0.4207 - accuracy: 0.8530 - val_loss: 0.5960 - val_accuracy: 0.8143\n",
      "Epoch 73/100\n",
      "50000/50000 [==============================] - 82s 2ms/step - loss: 0.4173 - accuracy: 0.8524 - val_loss: 0.5894 - val_accuracy: 0.8184\n",
      "Epoch 74/100\n",
      "50000/50000 [==============================] - 82s 2ms/step - loss: 0.4155 - accuracy: 0.8535 - val_loss: 0.5952 - val_accuracy: 0.8137\n",
      "Epoch 75/100\n",
      "50000/50000 [==============================] - 82s 2ms/step - loss: 0.4150 - accuracy: 0.8529 - val_loss: 0.5940 - val_accuracy: 0.8207\n",
      "Epoch 76/100\n",
      "50000/50000 [==============================] - 82s 2ms/step - loss: 0.4147 - accuracy: 0.8544 - val_loss: 0.5975 - val_accuracy: 0.8140\n",
      "Epoch 77/100\n",
      "50000/50000 [==============================] - 82s 2ms/step - loss: 0.4081 - accuracy: 0.8569 - val_loss: 0.5860 - val_accuracy: 0.8213\n",
      "Epoch 78/100\n",
      "50000/50000 [==============================] - 81s 2ms/step - loss: 0.4071 - accuracy: 0.8570 - val_loss: 0.5672 - val_accuracy: 0.8270\n",
      "Epoch 79/100\n",
      "50000/50000 [==============================] - 82s 2ms/step - loss: 0.4057 - accuracy: 0.8569 - val_loss: 0.5736 - val_accuracy: 0.8232\n",
      "Epoch 80/100\n",
      "50000/50000 [==============================] - 82s 2ms/step - loss: 0.4054 - accuracy: 0.8548 - val_loss: 0.5852 - val_accuracy: 0.8165\n",
      "Epoch 81/100\n",
      "50000/50000 [==============================] - 82s 2ms/step - loss: 0.4071 - accuracy: 0.8559 - val_loss: 0.5853 - val_accuracy: 0.8195\n",
      "Epoch 82/100\n",
      "50000/50000 [==============================] - 82s 2ms/step - loss: 0.4001 - accuracy: 0.8569 - val_loss: 0.5707 - val_accuracy: 0.8246\n",
      "Epoch 83/100\n",
      "50000/50000 [==============================] - 82s 2ms/step - loss: 0.4081 - accuracy: 0.8557 - val_loss: 0.5875 - val_accuracy: 0.8166\n",
      "Epoch 84/100\n",
      "50000/50000 [==============================] - 81s 2ms/step - loss: 0.4042 - accuracy: 0.8574 - val_loss: 0.5793 - val_accuracy: 0.8271\n",
      "Epoch 85/100\n",
      "50000/50000 [==============================] - 82s 2ms/step - loss: 0.4009 - accuracy: 0.8584 - val_loss: 0.5723 - val_accuracy: 0.8284\n",
      "Epoch 86/100\n",
      "50000/50000 [==============================] - 82s 2ms/step - loss: 0.4000 - accuracy: 0.8584 - val_loss: 0.5745 - val_accuracy: 0.8242\n",
      "Epoch 87/100\n",
      "50000/50000 [==============================] - 81s 2ms/step - loss: 0.3979 - accuracy: 0.8586 - val_loss: 0.5803 - val_accuracy: 0.8179\n",
      "Epoch 88/100\n",
      "50000/50000 [==============================] - 81s 2ms/step - loss: 0.3911 - accuracy: 0.8627 - val_loss: 0.5816 - val_accuracy: 0.8195\n",
      "Epoch 89/100\n",
      "50000/50000 [==============================] - 81s 2ms/step - loss: 0.3935 - accuracy: 0.8613 - val_loss: 0.5800 - val_accuracy: 0.8166\n",
      "Epoch 90/100\n",
      "50000/50000 [==============================] - 81s 2ms/step - loss: 0.3941 - accuracy: 0.8618 - val_loss: 0.5769 - val_accuracy: 0.8201\n",
      "Epoch 91/100\n",
      "50000/50000 [==============================] - 81s 2ms/step - loss: 0.3889 - accuracy: 0.8627 - val_loss: 0.5580 - val_accuracy: 0.8238\n",
      "Epoch 92/100\n",
      "50000/50000 [==============================] - 82s 2ms/step - loss: 0.3859 - accuracy: 0.8638 - val_loss: 0.5614 - val_accuracy: 0.8227\n",
      "Epoch 93/100\n",
      "50000/50000 [==============================] - 82s 2ms/step - loss: 0.3846 - accuracy: 0.8639 - val_loss: 0.5686 - val_accuracy: 0.8218\n",
      "Epoch 94/100\n",
      "50000/50000 [==============================] - 82s 2ms/step - loss: 0.3859 - accuracy: 0.8624 - val_loss: 0.5676 - val_accuracy: 0.8218\n",
      "Epoch 95/100\n",
      "50000/50000 [==============================] - 82s 2ms/step - loss: 0.3855 - accuracy: 0.8626 - val_loss: 0.5797 - val_accuracy: 0.8201\n",
      "Epoch 96/100\n",
      "50000/50000 [==============================] - 82s 2ms/step - loss: 0.3871 - accuracy: 0.8633 - val_loss: 0.5600 - val_accuracy: 0.8224\n",
      "Epoch 97/100\n",
      "50000/50000 [==============================] - 82s 2ms/step - loss: 0.3860 - accuracy: 0.8628 - val_loss: 0.5881 - val_accuracy: 0.8101\n",
      "Epoch 98/100\n",
      "50000/50000 [==============================] - 82s 2ms/step - loss: 0.3806 - accuracy: 0.8648 - val_loss: 0.5614 - val_accuracy: 0.8202\n",
      "Epoch 99/100\n",
      "50000/50000 [==============================] - 82s 2ms/step - loss: 0.3809 - accuracy: 0.8648 - val_loss: 0.5568 - val_accuracy: 0.8268\n",
      "Epoch 100/100\n",
      "50000/50000 [==============================] - 81s 2ms/step - loss: 0.3775 - accuracy: 0.8659 - val_loss: 0.5614 - val_accuracy: 0.8220\n",
      "Accuracy: 82.20%\n"
     ]
    }
   ],
   "source": [
    "epochs = 100\n",
    "lrate = 0.01\n",
    "decay = lrate/epochs\n",
    "sgd = SGD(lr=lrate, momentum=0.9, decay=decay, nesterov=False)\n",
    "model.compile(loss='categorical_crossentropy', optimizer=sgd, metrics=['accuracy'])\n",
    "model.fit(X_train, y_train, validation_data=(X_test, y_test), epochs=epochs, batch_size=32)\n",
    "\n",
    "scores = model.evaluate(X_test, y_test, verbose=0)\n",
    "print(\"Accuracy: %.2f%%\" % (scores[1]*100))"
   ]
  },
  {
   "cell_type": "code",
   "execution_count": 0,
   "metadata": {
    "colab": {},
    "colab_type": "code",
    "id": "pVgf3eG1OFUm"
   },
   "outputs": [],
   "source": []
  },
  {
   "cell_type": "code",
   "execution_count": 0,
   "metadata": {
    "colab": {},
    "colab_type": "code",
    "id": "475GygP0OFep"
   },
   "outputs": [],
   "source": []
  }
 ],
 "metadata": {
  "accelerator": "GPU",
  "colab": {
   "collapsed_sections": [],
   "name": "Deep_code_1_my_updates_10_noBatchNormal_yesGlobalPad_100epoch_82.ipynb",
   "provenance": []
  },
  "kernelspec": {
   "display_name": "Python 3",
   "language": "python",
   "name": "python3"
  },
  "language_info": {
   "codemirror_mode": {
    "name": "ipython",
    "version": 3
   },
   "file_extension": ".py",
   "mimetype": "text/x-python",
   "name": "python",
   "nbconvert_exporter": "python",
   "pygments_lexer": "ipython3",
   "version": "3.5.3"
  }
 },
 "nbformat": 4,
 "nbformat_minor": 1
}
