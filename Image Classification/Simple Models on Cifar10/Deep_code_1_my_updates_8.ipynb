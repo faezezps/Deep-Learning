{
 "cells": [
  {
   "cell_type": "code",
   "execution_count": 1,
   "metadata": {
    "colab": {
     "base_uri": "https://localhost:8080/",
     "height": 35
    },
    "colab_type": "code",
    "id": "c02R0xPPmhqO",
    "outputId": "da628ebb-827b-459a-b67d-17af61aee208"
   },
   "outputs": [
    {
     "name": "stderr",
     "output_type": "stream",
     "text": [
      "Using TensorFlow backend.\n"
     ]
    }
   ],
   "source": [
    "import keras\n",
    "from keras.datasets import cifar10\n",
    "from keras.layers import Conv2D, MaxPooling2D\n",
    "from keras.utils import np_utils\n",
    "import os\n",
    "from keras.layers import Flatten, Dense\n",
    "from keras.optimizers import SGD\n",
    "from keras.layers import Input\n",
    "from keras.models import Model\n",
    "\n",
    "from keras.layers.normalization import BatchNormalization\n",
    "from keras.layers import Dropout\n",
    "\n",
    "from keras.layers import GlobalAveragePooling2D"
   ]
  },
  {
   "cell_type": "markdown",
   "metadata": {
    "colab_type": "text",
    "id": "EbDH8g5Imhqy"
   },
   "source": [
    "Data"
   ]
  },
  {
   "cell_type": "code",
   "execution_count": 0,
   "metadata": {
    "colab": {},
    "colab_type": "code",
    "id": "UTpc287xmhq0"
   },
   "outputs": [],
   "source": [
    "# airplanes, cars, birds, cats, deer, dogs, frogs, horses, ships, and trucks\n",
    "(X_train, y_train), (X_test, y_test) = cifar10.load_data()\n",
    "\n",
    "X_train = X_train.astype('float32')\n",
    "X_test = X_test.astype('float32')\n",
    "\n",
    "#normalization\n",
    "X_train = X_train / 255.0\n",
    "X_test = X_test / 255.0\n",
    "\n",
    "y_train = np_utils.to_categorical(y_train)\n",
    "y_test = np_utils.to_categorical(y_test)"
   ]
  },
  {
   "cell_type": "markdown",
   "metadata": {
    "colab_type": "text",
    "id": "P0XVgexVmhrH"
   },
   "source": [
    "Network structure or graph"
   ]
  },
  {
   "cell_type": "code",
   "execution_count": 0,
   "metadata": {
    "colab": {},
    "colab_type": "code",
    "id": "qRkl4qmOmhrJ"
   },
   "outputs": [],
   "source": [
    "#input layer\n",
    "input_img = Input(shape = (32, 32, 3))"
   ]
  },
  {
   "cell_type": "code",
   "execution_count": 0,
   "metadata": {
    "colab": {},
    "colab_type": "code",
    "id": "OLfxpyf-mhra"
   },
   "outputs": [],
   "source": [
    "# no batch normalization + global max pooling\n",
    "\n",
    "tower_1 = Conv2D(64, (3,3), padding='same', activation='relu')(input_img)\n",
    "\n",
    "tower_1 = Conv2D(64, (5,5), padding='same', activation='relu')(tower_1)\n",
    "tower_1 = Dropout(0.5)(tower_1)\n",
    "\n",
    "tower_1 = Conv2D(64, (5,5), padding='same', activation='relu')(tower_1)\n",
    "tower_1 = Dropout(0.5)(tower_1)\n",
    "\n",
    "tower_1 = Conv2D(64, (5,5), padding='same', activation='relu')(tower_1)\n",
    "tower_1 = Dropout(0.5)(tower_1)\n",
    "\n",
    "tower_1 = MaxPooling2D((5,5), strides=(1,1), padding='same')(tower_1)\n",
    "tower_1 = Dropout(0.5)(tower_1)\n",
    "\n",
    "tower_1 = Conv2D(64, (3,3), padding='same', activation='relu')(tower_1)\n",
    "tower_1 = Dropout(0.5)(tower_1)\n",
    "\n",
    "output = GlobalAveragePooling2D()(tower_1)\n",
    "#output = Flatten()(tower_1)\n",
    "\n",
    "out = Dense(10, activation='softmax')(output)"
   ]
  },
  {
   "cell_type": "code",
   "execution_count": 5,
   "metadata": {
    "colab": {
     "base_uri": "https://localhost:8080/",
     "height": 681
    },
    "colab_type": "code",
    "id": "rcuh4rrLmhrk",
    "outputId": "b47d0ed8-1da5-414e-9645-e8f57bc7e40a"
   },
   "outputs": [
    {
     "name": "stdout",
     "output_type": "stream",
     "text": [
      "Model: \"model_1\"\n",
      "_________________________________________________________________\n",
      "Layer (type)                 Output Shape              Param #   \n",
      "=================================================================\n",
      "input_1 (InputLayer)         (None, 32, 32, 3)         0         \n",
      "_________________________________________________________________\n",
      "conv2d_1 (Conv2D)            (None, 32, 32, 64)        1792      \n",
      "_________________________________________________________________\n",
      "conv2d_2 (Conv2D)            (None, 32, 32, 64)        102464    \n",
      "_________________________________________________________________\n",
      "dropout_1 (Dropout)          (None, 32, 32, 64)        0         \n",
      "_________________________________________________________________\n",
      "conv2d_3 (Conv2D)            (None, 32, 32, 64)        102464    \n",
      "_________________________________________________________________\n",
      "dropout_2 (Dropout)          (None, 32, 32, 64)        0         \n",
      "_________________________________________________________________\n",
      "conv2d_4 (Conv2D)            (None, 32, 32, 64)        102464    \n",
      "_________________________________________________________________\n",
      "dropout_3 (Dropout)          (None, 32, 32, 64)        0         \n",
      "_________________________________________________________________\n",
      "max_pooling2d_1 (MaxPooling2 (None, 32, 32, 64)        0         \n",
      "_________________________________________________________________\n",
      "dropout_4 (Dropout)          (None, 32, 32, 64)        0         \n",
      "_________________________________________________________________\n",
      "conv2d_5 (Conv2D)            (None, 32, 32, 64)        36928     \n",
      "_________________________________________________________________\n",
      "dropout_5 (Dropout)          (None, 32, 32, 64)        0         \n",
      "_________________________________________________________________\n",
      "global_average_pooling2d_1 ( (None, 64)                0         \n",
      "_________________________________________________________________\n",
      "dense_1 (Dense)              (None, 10)                650       \n",
      "=================================================================\n",
      "Total params: 346,762\n",
      "Trainable params: 346,762\n",
      "Non-trainable params: 0\n",
      "_________________________________________________________________\n",
      "None\n"
     ]
    }
   ],
   "source": [
    "model = Model(inputs = input_img, outputs = out)\n",
    "print(model.summary())"
   ]
  },
  {
   "cell_type": "code",
   "execution_count": 6,
   "metadata": {
    "colab": {
     "base_uri": "https://localhost:8080/",
     "height": 1000
    },
    "colab_type": "code",
    "id": "AiQQhuTJmhry",
    "outputId": "3772b522-fac9-4630-ea5c-aba61d60c445"
   },
   "outputs": [
    {
     "name": "stdout",
     "output_type": "stream",
     "text": [
      "Train on 50000 samples, validate on 10000 samples\n",
      "Epoch 1/40\n",
      "50000/50000 [==============================] - 36s 724us/step - loss: 1.9587 - accuracy: 0.2454 - val_loss: 1.8197 - val_accuracy: 0.3327\n",
      "Epoch 2/40\n",
      "50000/50000 [==============================] - 34s 673us/step - loss: 1.5981 - accuracy: 0.3993 - val_loss: 1.6240 - val_accuracy: 0.4222\n",
      "Epoch 3/40\n",
      "50000/50000 [==============================] - 34s 673us/step - loss: 1.4060 - accuracy: 0.4786 - val_loss: 1.4576 - val_accuracy: 0.4949\n",
      "Epoch 4/40\n",
      "50000/50000 [==============================] - 34s 673us/step - loss: 1.2715 - accuracy: 0.5381 - val_loss: 1.4044 - val_accuracy: 0.5372\n",
      "Epoch 5/40\n",
      "50000/50000 [==============================] - 34s 673us/step - loss: 1.1611 - accuracy: 0.5805 - val_loss: 1.2563 - val_accuracy: 0.5746\n",
      "Epoch 6/40\n",
      "50000/50000 [==============================] - 34s 673us/step - loss: 1.0897 - accuracy: 0.6056 - val_loss: 1.2194 - val_accuracy: 0.5957\n",
      "Epoch 7/40\n",
      "50000/50000 [==============================] - 34s 673us/step - loss: 1.0302 - accuracy: 0.6307 - val_loss: 1.1540 - val_accuracy: 0.6106\n",
      "Epoch 8/40\n",
      "50000/50000 [==============================] - 34s 673us/step - loss: 0.9752 - accuracy: 0.6525 - val_loss: 1.0796 - val_accuracy: 0.6491\n",
      "Epoch 9/40\n",
      "50000/50000 [==============================] - 34s 672us/step - loss: 0.9400 - accuracy: 0.6656 - val_loss: 1.0744 - val_accuracy: 0.6608\n",
      "Epoch 10/40\n",
      "50000/50000 [==============================] - 33s 670us/step - loss: 0.9061 - accuracy: 0.6767 - val_loss: 1.0787 - val_accuracy: 0.6384\n",
      "Epoch 11/40\n",
      "50000/50000 [==============================] - 33s 669us/step - loss: 0.8751 - accuracy: 0.6882 - val_loss: 1.0065 - val_accuracy: 0.6776\n",
      "Epoch 12/40\n",
      "50000/50000 [==============================] - 33s 667us/step - loss: 0.8544 - accuracy: 0.6956 - val_loss: 1.0221 - val_accuracy: 0.6770\n",
      "Epoch 13/40\n",
      "50000/50000 [==============================] - 33s 669us/step - loss: 0.8317 - accuracy: 0.7034 - val_loss: 0.9805 - val_accuracy: 0.6881\n",
      "Epoch 14/40\n",
      "50000/50000 [==============================] - 33s 666us/step - loss: 0.8075 - accuracy: 0.7124 - val_loss: 0.9739 - val_accuracy: 0.6860\n",
      "Epoch 15/40\n",
      "50000/50000 [==============================] - 33s 668us/step - loss: 0.7906 - accuracy: 0.7177 - val_loss: 0.9577 - val_accuracy: 0.6953\n",
      "Epoch 16/40\n",
      "50000/50000 [==============================] - 33s 666us/step - loss: 0.7715 - accuracy: 0.7251 - val_loss: 0.9259 - val_accuracy: 0.7190\n",
      "Epoch 17/40\n",
      "50000/50000 [==============================] - 33s 668us/step - loss: 0.7582 - accuracy: 0.7309 - val_loss: 0.9147 - val_accuracy: 0.7104\n",
      "Epoch 18/40\n",
      "50000/50000 [==============================] - 34s 674us/step - loss: 0.7406 - accuracy: 0.7361 - val_loss: 0.9039 - val_accuracy: 0.7212\n",
      "Epoch 19/40\n",
      "50000/50000 [==============================] - 34s 672us/step - loss: 0.7287 - accuracy: 0.7418 - val_loss: 0.8983 - val_accuracy: 0.7134\n",
      "Epoch 20/40\n",
      "50000/50000 [==============================] - 34s 673us/step - loss: 0.7191 - accuracy: 0.7447 - val_loss: 0.8918 - val_accuracy: 0.7273\n",
      "Epoch 21/40\n",
      "50000/50000 [==============================] - 34s 673us/step - loss: 0.7044 - accuracy: 0.7500 - val_loss: 0.8535 - val_accuracy: 0.7391\n",
      "Epoch 22/40\n",
      "50000/50000 [==============================] - 34s 673us/step - loss: 0.6940 - accuracy: 0.7544 - val_loss: 0.8429 - val_accuracy: 0.7365\n",
      "Epoch 23/40\n",
      "50000/50000 [==============================] - 34s 673us/step - loss: 0.6866 - accuracy: 0.7569 - val_loss: 0.8345 - val_accuracy: 0.7373\n",
      "Epoch 24/40\n",
      "50000/50000 [==============================] - 34s 674us/step - loss: 0.6753 - accuracy: 0.7597 - val_loss: 0.8676 - val_accuracy: 0.7381\n",
      "Epoch 25/40\n",
      "50000/50000 [==============================] - 34s 673us/step - loss: 0.6643 - accuracy: 0.7646 - val_loss: 0.8261 - val_accuracy: 0.7508\n",
      "Epoch 26/40\n",
      "50000/50000 [==============================] - 34s 673us/step - loss: 0.6566 - accuracy: 0.7678 - val_loss: 0.8089 - val_accuracy: 0.7466\n",
      "Epoch 27/40\n",
      "50000/50000 [==============================] - 34s 674us/step - loss: 0.6518 - accuracy: 0.7678 - val_loss: 0.7894 - val_accuracy: 0.7599\n",
      "Epoch 28/40\n",
      "50000/50000 [==============================] - 34s 673us/step - loss: 0.6431 - accuracy: 0.7724 - val_loss: 0.8125 - val_accuracy: 0.7507\n",
      "Epoch 29/40\n",
      "50000/50000 [==============================] - 34s 671us/step - loss: 0.6330 - accuracy: 0.7771 - val_loss: 0.7966 - val_accuracy: 0.7522\n",
      "Epoch 30/40\n",
      "50000/50000 [==============================] - 34s 671us/step - loss: 0.6326 - accuracy: 0.7760 - val_loss: 0.8083 - val_accuracy: 0.7554\n",
      "Epoch 31/40\n",
      "50000/50000 [==============================] - 33s 667us/step - loss: 0.6281 - accuracy: 0.7774 - val_loss: 0.7818 - val_accuracy: 0.7611\n",
      "Epoch 32/40\n",
      "50000/50000 [==============================] - 33s 665us/step - loss: 0.6169 - accuracy: 0.7810 - val_loss: 0.7831 - val_accuracy: 0.7667\n",
      "Epoch 33/40\n",
      "50000/50000 [==============================] - 33s 665us/step - loss: 0.6089 - accuracy: 0.7842 - val_loss: 0.7624 - val_accuracy: 0.7717\n",
      "Epoch 34/40\n",
      "50000/50000 [==============================] - 33s 669us/step - loss: 0.6058 - accuracy: 0.7853 - val_loss: 0.7858 - val_accuracy: 0.7583\n",
      "Epoch 35/40\n",
      "50000/50000 [==============================] - 33s 668us/step - loss: 0.6000 - accuracy: 0.7872 - val_loss: 0.7672 - val_accuracy: 0.7723\n",
      "Epoch 36/40\n",
      "50000/50000 [==============================] - 33s 669us/step - loss: 0.5941 - accuracy: 0.7900 - val_loss: 0.7515 - val_accuracy: 0.7711\n",
      "Epoch 37/40\n",
      "50000/50000 [==============================] - 34s 670us/step - loss: 0.5897 - accuracy: 0.7908 - val_loss: 0.7369 - val_accuracy: 0.7775\n",
      "Epoch 38/40\n",
      "50000/50000 [==============================] - 34s 671us/step - loss: 0.5844 - accuracy: 0.7925 - val_loss: 0.7593 - val_accuracy: 0.7688\n",
      "Epoch 39/40\n",
      "50000/50000 [==============================] - 34s 671us/step - loss: 0.5824 - accuracy: 0.7937 - val_loss: 0.7346 - val_accuracy: 0.7778\n",
      "Epoch 40/40\n",
      "50000/50000 [==============================] - 34s 672us/step - loss: 0.5780 - accuracy: 0.7940 - val_loss: 0.7830 - val_accuracy: 0.7553\n",
      "Accuracy: 75.53%\n"
     ]
    }
   ],
   "source": [
    "epochs = 40\n",
    "lrate = 0.01\n",
    "decay = lrate/epochs\n",
    "sgd = SGD(lr=lrate, momentum=0.9, decay=decay, nesterov=False)\n",
    "model.compile(loss='categorical_crossentropy', optimizer=sgd, metrics=['accuracy'])\n",
    "model.fit(X_train, y_train, validation_data=(X_test, y_test), epochs=epochs, batch_size=32)\n",
    "\n",
    "scores = model.evaluate(X_test, y_test, verbose=0)\n",
    "print(\"Accuracy: %.2f%%\" % (scores[1]*100))"
   ]
  },
  {
   "cell_type": "code",
   "execution_count": 0,
   "metadata": {
    "colab": {},
    "colab_type": "code",
    "id": "6eqBl8NvIDsh"
   },
   "outputs": [],
   "source": []
  }
 ],
 "metadata": {
  "accelerator": "GPU",
  "colab": {
   "collapsed_sections": [],
   "name": "Deep_code_1_my_updates_8_nobatch_globalpooling_40epoch_75.53.ipynb",
   "provenance": []
  },
  "kernelspec": {
   "display_name": "Python 3",
   "language": "python",
   "name": "python3"
  },
  "language_info": {
   "codemirror_mode": {
    "name": "ipython",
    "version": 3
   },
   "file_extension": ".py",
   "mimetype": "text/x-python",
   "name": "python",
   "nbconvert_exporter": "python",
   "pygments_lexer": "ipython3",
   "version": "3.5.3"
  }
 },
 "nbformat": 4,
 "nbformat_minor": 1
}
