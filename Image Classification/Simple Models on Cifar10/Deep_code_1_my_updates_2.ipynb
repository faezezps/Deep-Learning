{
 "cells": [
  {
   "cell_type": "code",
   "execution_count": 0,
   "metadata": {
    "colab": {
     "base_uri": "https://localhost:8080/",
     "height": 35
    },
    "colab_type": "code",
    "id": "c02R0xPPmhqO",
    "outputId": "c5551771-283a-45cc-ea70-87994dccd2f6"
   },
   "outputs": [
    {
     "name": "stderr",
     "output_type": "stream",
     "text": [
      "Using TensorFlow backend.\n"
     ]
    }
   ],
   "source": [
    "import keras\n",
    "from keras.datasets import cifar10\n",
    "from keras.layers import Conv2D, MaxPooling2D\n",
    "from keras.utils import np_utils\n",
    "import os\n",
    "from keras.layers import Flatten, Dense\n",
    "from keras.optimizers import SGD\n",
    "from keras.layers import Input\n",
    "from keras.models import Model"
   ]
  },
  {
   "cell_type": "markdown",
   "metadata": {
    "colab_type": "text",
    "id": "EbDH8g5Imhqy"
   },
   "source": [
    "Data"
   ]
  },
  {
   "cell_type": "code",
   "execution_count": 0,
   "metadata": {
    "colab": {
     "base_uri": "https://localhost:8080/",
     "height": 53
    },
    "colab_type": "code",
    "id": "UTpc287xmhq0",
    "outputId": "258620bc-4a92-4e0b-fd32-7e217323c0fd"
   },
   "outputs": [
    {
     "name": "stdout",
     "output_type": "stream",
     "text": [
      "Downloading data from https://www.cs.toronto.edu/~kriz/cifar-10-python.tar.gz\n",
      "170500096/170498071 [==============================] - 6s 0us/step\n"
     ]
    }
   ],
   "source": [
    "# airplanes, cars, birds, cats, deer, dogs, frogs, horses, ships, and trucks\n",
    "(X_train, y_train), (X_test, y_test) = cifar10.load_data()\n",
    "\n",
    "X_train = X_train.astype('float32')\n",
    "X_test = X_test.astype('float32')\n",
    "\n",
    "#normalization\n",
    "X_train = X_train / 255.0\n",
    "X_test = X_test / 255.0\n",
    "\n",
    "y_train = np_utils.to_categorical(y_train)\n",
    "y_test = np_utils.to_categorical(y_test)"
   ]
  },
  {
   "cell_type": "markdown",
   "metadata": {
    "colab_type": "text",
    "id": "P0XVgexVmhrH"
   },
   "source": [
    "Network structure or graph"
   ]
  },
  {
   "cell_type": "code",
   "execution_count": 0,
   "metadata": {
    "colab": {},
    "colab_type": "code",
    "id": "qRkl4qmOmhrJ"
   },
   "outputs": [],
   "source": [
    "#input layer\n",
    "input_img = Input(shape = (32, 32, 3))"
   ]
  },
  {
   "cell_type": "code",
   "execution_count": 0,
   "metadata": {
    "colab": {},
    "colab_type": "code",
    "id": "OLfxpyf-mhra"
   },
   "outputs": [],
   "source": [
    "tower_1 = Conv2D(120, (5,5), padding='valid', activation='relu')(input_img)\n",
    "tower_1 = Conv2D(120, (5,5), padding='valid', activation='relu')(tower_1)\n",
    "tower_1 = Conv2D(120, (5,5), padding='valid', activation='relu')(tower_1)\n",
    "tower_1 = Conv2D(120, (5,5), padding='valid', activation='relu')(tower_1)\n",
    "tower_1 = MaxPooling2D((5,5), strides=(1,1), padding='same')(tower_1)\n",
    "tower_1 = Conv2D(120, (5,5), padding='valid', activation='relu')(tower_1)\n",
    "\n",
    "output = Flatten()(tower_1)\n",
    "out = Dense(10, activation='softmax')(output)"
   ]
  },
  {
   "cell_type": "code",
   "execution_count": 0,
   "metadata": {
    "colab": {
     "base_uri": "https://localhost:8080/",
     "height": 501
    },
    "colab_type": "code",
    "id": "rcuh4rrLmhrk",
    "outputId": "d7f48352-46af-4816-b4e1-6c569100afb2"
   },
   "outputs": [
    {
     "name": "stdout",
     "output_type": "stream",
     "text": [
      "Model: \"model_2\"\n",
      "_________________________________________________________________\n",
      "Layer (type)                 Output Shape              Param #   \n",
      "=================================================================\n",
      "input_1 (InputLayer)         (None, 32, 32, 3)         0         \n",
      "_________________________________________________________________\n",
      "conv2d_6 (Conv2D)            (None, 28, 28, 120)       9120      \n",
      "_________________________________________________________________\n",
      "conv2d_7 (Conv2D)            (None, 24, 24, 120)       360120    \n",
      "_________________________________________________________________\n",
      "conv2d_8 (Conv2D)            (None, 20, 20, 120)       360120    \n",
      "_________________________________________________________________\n",
      "conv2d_9 (Conv2D)            (None, 16, 16, 120)       360120    \n",
      "_________________________________________________________________\n",
      "max_pooling2d_2 (MaxPooling2 (None, 16, 16, 120)       0         \n",
      "_________________________________________________________________\n",
      "conv2d_10 (Conv2D)           (None, 12, 12, 120)       360120    \n",
      "_________________________________________________________________\n",
      "flatten_2 (Flatten)          (None, 17280)             0         \n",
      "_________________________________________________________________\n",
      "dense_2 (Dense)              (None, 10)                172810    \n",
      "=================================================================\n",
      "Total params: 1,622,410\n",
      "Trainable params: 1,622,410\n",
      "Non-trainable params: 0\n",
      "_________________________________________________________________\n",
      "None\n"
     ]
    }
   ],
   "source": [
    "model = Model(inputs = input_img, outputs = out)\n",
    "print(model.summary())"
   ]
  },
  {
   "cell_type": "code",
   "execution_count": 0,
   "metadata": {
    "colab": {
     "base_uri": "https://localhost:8080/",
     "height": 950
    },
    "colab_type": "code",
    "id": "AiQQhuTJmhry",
    "outputId": "97529cad-ac32-4f5d-cb0d-067ee57c31c6"
   },
   "outputs": [
    {
     "name": "stdout",
     "output_type": "stream",
     "text": [
      "Train on 50000 samples, validate on 10000 samples\n",
      "Epoch 1/25\n",
      "50000/50000 [==============================] - 63s 1ms/step - loss: 1.9778 - accuracy: 0.2614 - val_loss: 1.6827 - val_accuracy: 0.3692\n",
      "Epoch 2/25\n",
      "50000/50000 [==============================] - 63s 1ms/step - loss: 1.5285 - accuracy: 0.4420 - val_loss: 1.4274 - val_accuracy: 0.4753\n",
      "Epoch 3/25\n",
      "50000/50000 [==============================] - 63s 1ms/step - loss: 1.3239 - accuracy: 0.5211 - val_loss: 1.2537 - val_accuracy: 0.5379\n",
      "Epoch 4/25\n",
      "50000/50000 [==============================] - 62s 1ms/step - loss: 1.1601 - accuracy: 0.5894 - val_loss: 1.1423 - val_accuracy: 0.5861\n",
      "Epoch 5/25\n",
      "50000/50000 [==============================] - 63s 1ms/step - loss: 1.0284 - accuracy: 0.6338 - val_loss: 1.0959 - val_accuracy: 0.6116\n",
      "Epoch 6/25\n",
      "50000/50000 [==============================] - 62s 1ms/step - loss: 0.9140 - accuracy: 0.6760 - val_loss: 1.0048 - val_accuracy: 0.6542\n",
      "Epoch 7/25\n",
      "50000/50000 [==============================] - 63s 1ms/step - loss: 0.8160 - accuracy: 0.7116 - val_loss: 0.9732 - val_accuracy: 0.6658\n",
      "Epoch 8/25\n",
      "50000/50000 [==============================] - 63s 1ms/step - loss: 0.7217 - accuracy: 0.7453 - val_loss: 0.9616 - val_accuracy: 0.6741\n",
      "Epoch 9/25\n",
      "50000/50000 [==============================] - 62s 1ms/step - loss: 0.6336 - accuracy: 0.7769 - val_loss: 0.9742 - val_accuracy: 0.6766\n",
      "Epoch 10/25\n",
      "50000/50000 [==============================] - 62s 1ms/step - loss: 0.5537 - accuracy: 0.8040 - val_loss: 0.9842 - val_accuracy: 0.6816\n",
      "Epoch 11/25\n",
      "50000/50000 [==============================] - 63s 1ms/step - loss: 0.4739 - accuracy: 0.8341 - val_loss: 1.0374 - val_accuracy: 0.6773\n",
      "Epoch 12/25\n",
      "50000/50000 [==============================] - 63s 1ms/step - loss: 0.3973 - accuracy: 0.8591 - val_loss: 1.1076 - val_accuracy: 0.6777\n",
      "Epoch 13/25\n",
      "50000/50000 [==============================] - 63s 1ms/step - loss: 0.3271 - accuracy: 0.8868 - val_loss: 1.2279 - val_accuracy: 0.6699\n",
      "Epoch 14/25\n",
      "50000/50000 [==============================] - 62s 1ms/step - loss: 0.2591 - accuracy: 0.9094 - val_loss: 1.2430 - val_accuracy: 0.6848\n",
      "Epoch 15/25\n",
      "50000/50000 [==============================] - 62s 1ms/step - loss: 0.2079 - accuracy: 0.9275 - val_loss: 1.3339 - val_accuracy: 0.6892\n",
      "Epoch 16/25\n",
      "50000/50000 [==============================] - 63s 1ms/step - loss: 0.1526 - accuracy: 0.9475 - val_loss: 1.4926 - val_accuracy: 0.6781\n",
      "Epoch 17/25\n",
      "50000/50000 [==============================] - 62s 1ms/step - loss: 0.1118 - accuracy: 0.9641 - val_loss: 1.6008 - val_accuracy: 0.6802\n",
      "Epoch 18/25\n",
      "50000/50000 [==============================] - 63s 1ms/step - loss: 0.0729 - accuracy: 0.9780 - val_loss: 1.7421 - val_accuracy: 0.6825\n",
      "Epoch 19/25\n",
      "50000/50000 [==============================] - 63s 1ms/step - loss: 0.0465 - accuracy: 0.9866 - val_loss: 1.8712 - val_accuracy: 0.6891\n",
      "Epoch 20/25\n",
      "50000/50000 [==============================] - 63s 1ms/step - loss: 0.0265 - accuracy: 0.9941 - val_loss: 2.0133 - val_accuracy: 0.6878\n",
      "Epoch 21/25\n",
      "50000/50000 [==============================] - 62s 1ms/step - loss: 0.0097 - accuracy: 0.9993 - val_loss: 2.1561 - val_accuracy: 0.6975\n",
      "Epoch 22/25\n",
      "50000/50000 [==============================] - 63s 1ms/step - loss: 0.0044 - accuracy: 0.9999 - val_loss: 2.2894 - val_accuracy: 0.6970\n",
      "Epoch 23/25\n",
      "50000/50000 [==============================] - 63s 1ms/step - loss: 0.0025 - accuracy: 1.0000 - val_loss: 2.3782 - val_accuracy: 0.6965\n",
      "Epoch 24/25\n",
      "50000/50000 [==============================] - 63s 1ms/step - loss: 0.0018 - accuracy: 1.0000 - val_loss: 2.4575 - val_accuracy: 0.6965\n",
      "Epoch 25/25\n",
      "50000/50000 [==============================] - 62s 1ms/step - loss: 0.0015 - accuracy: 1.0000 - val_loss: 2.5137 - val_accuracy: 0.6971\n",
      "Accuracy: 69.71%\n"
     ]
    }
   ],
   "source": [
    "epochs = 25\n",
    "lrate = 0.01\n",
    "decay = lrate/epochs\n",
    "sgd = SGD(lr=lrate, momentum=0.9, decay=decay, nesterov=False)\n",
    "model.compile(loss='categorical_crossentropy', optimizer=sgd, metrics=['accuracy'])\n",
    "model.fit(X_train, y_train, validation_data=(X_test, y_test), epochs=epochs, batch_size=32)\n",
    "\n",
    "scores = model.evaluate(X_test, y_test, verbose=0)\n",
    "print(\"Accuracy: %.2f%%\" % (scores[1]*100))"
   ]
  },
  {
   "cell_type": "code",
   "execution_count": 0,
   "metadata": {
    "colab": {},
    "colab_type": "code",
    "id": "Abgq1-IwmhsE"
   },
   "outputs": [],
   "source": []
  }
 ],
 "metadata": {
  "accelerator": "GPU",
  "colab": {
   "collapsed_sections": [],
   "name": "Deep_code_1_my_updates_2.ipynb",
   "provenance": []
  },
  "kernelspec": {
   "display_name": "Python 3",
   "language": "python",
   "name": "python3"
  },
  "language_info": {
   "codemirror_mode": {
    "name": "ipython",
    "version": 3
   },
   "file_extension": ".py",
   "mimetype": "text/x-python",
   "name": "python",
   "nbconvert_exporter": "python",
   "pygments_lexer": "ipython3",
   "version": "3.5.3"
  }
 },
 "nbformat": 4,
 "nbformat_minor": 1
}
