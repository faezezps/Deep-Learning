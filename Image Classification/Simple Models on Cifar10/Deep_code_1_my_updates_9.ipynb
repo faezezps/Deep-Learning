{
 "cells": [
  {
   "cell_type": "code",
   "execution_count": 1,
   "metadata": {
    "colab": {
     "base_uri": "https://localhost:8080/",
     "height": 35
    },
    "colab_type": "code",
    "id": "fCrLdNvFtA6_",
    "outputId": "a650c4c7-4a08-436a-8519-49709961456e"
   },
   "outputs": [
    {
     "name": "stderr",
     "output_type": "stream",
     "text": [
      "Using TensorFlow backend.\n"
     ]
    }
   ],
   "source": [
    "import keras\n",
    "from keras.datasets import cifar10\n",
    "from keras.layers import Conv2D, MaxPooling2D\n",
    "from keras.utils import np_utils\n",
    "import os\n",
    "from keras.layers import Flatten, Dense\n",
    "from keras.optimizers import SGD\n",
    "from keras.layers import Input\n",
    "from keras.models import Model\n",
    "\n",
    "from keras.layers.normalization import BatchNormalization\n",
    "from keras.layers import Dropout\n",
    "\n",
    "from keras.layers import GlobalAveragePooling2D"
   ]
  },
  {
   "cell_type": "markdown",
   "metadata": {
    "colab_type": "text",
    "id": "gVy2WNGVtA7N"
   },
   "source": [
    "Data"
   ]
  },
  {
   "cell_type": "code",
   "execution_count": 0,
   "metadata": {
    "colab": {},
    "colab_type": "code",
    "id": "XUc5g9sbtA7P"
   },
   "outputs": [],
   "source": [
    "(X_train, y_train), (X_test, y_test) = cifar10.load_data()\n",
    "\n",
    "X_train = X_train.astype('float32')\n",
    "X_test = X_test.astype('float32')\n",
    "\n",
    "#normalization\n",
    "X_train = X_train / 255.0\n",
    "X_test = X_test / 255.0\n",
    "\n",
    "y_train = np_utils.to_categorical(y_train)\n",
    "y_test = np_utils.to_categorical(y_test)"
   ]
  },
  {
   "cell_type": "markdown",
   "metadata": {
    "colab_type": "text",
    "id": "XoY3WxsAtA7b"
   },
   "source": [
    "Network structure or graph"
   ]
  },
  {
   "cell_type": "code",
   "execution_count": 0,
   "metadata": {
    "colab": {},
    "colab_type": "code",
    "id": "mDGrXLeDtA7d"
   },
   "outputs": [],
   "source": [
    "#input layer\n",
    "input_img = Input(shape = (32, 32, 3))"
   ]
  },
  {
   "cell_type": "code",
   "execution_count": 0,
   "metadata": {
    "colab": {},
    "colab_type": "code",
    "id": "IMfkdSe8tA7m"
   },
   "outputs": [],
   "source": [
    "tower_1 = Conv2D(32, (3,3), padding= 'same', activation='relu')(input_img)\n",
    "\n",
    "# without batch normalization + without global pooling\n",
    "\n",
    "tower_1 = Conv2D(64, (5,5), padding='same', activation='relu')(tower_1)\n",
    "tower_1 = Dropout(0.5)(tower_1)\n",
    "\n",
    "tower_1 = Conv2D(64, (5,5), padding='same', activation='relu')(tower_1)\n",
    "tower_1 = Dropout(0.5)(tower_1)\n",
    "\n",
    "tower_1 = Conv2D(64, (5,5), padding='same', activation='relu')(tower_1)\n",
    "tower_1 = Dropout(0.5)(tower_1)\n",
    "\n",
    "tower_1 = MaxPooling2D((6,6), strides=(1,1), padding='same')(tower_1)\n",
    "tower_1 = Dropout(0.5)(tower_1)\n",
    "\n",
    "tower_1 = Conv2D(64, (3,3), padding='same', activation='relu')(tower_1)\n",
    "tower_1 = Dropout(0.5)(tower_1)\n",
    "\n",
    "output = GlobalAveragePooling2D()(tower_1)\n",
    "#output = Flatten()(tower_1)\n",
    "\n",
    "out = Dense(10, activation='softmax')(output)"
   ]
  },
  {
   "cell_type": "code",
   "execution_count": 5,
   "metadata": {
    "colab": {
     "base_uri": "https://localhost:8080/",
     "height": 681
    },
    "colab_type": "code",
    "id": "UPi5xWE-tA7v",
    "outputId": "798cfddf-6c89-4e1a-836c-a8448611b345"
   },
   "outputs": [
    {
     "name": "stdout",
     "output_type": "stream",
     "text": [
      "Model: \"model_1\"\n",
      "_________________________________________________________________\n",
      "Layer (type)                 Output Shape              Param #   \n",
      "=================================================================\n",
      "input_1 (InputLayer)         (None, 32, 32, 3)         0         \n",
      "_________________________________________________________________\n",
      "conv2d_1 (Conv2D)            (None, 32, 32, 32)        896       \n",
      "_________________________________________________________________\n",
      "conv2d_2 (Conv2D)            (None, 32, 32, 64)        51264     \n",
      "_________________________________________________________________\n",
      "dropout_1 (Dropout)          (None, 32, 32, 64)        0         \n",
      "_________________________________________________________________\n",
      "conv2d_3 (Conv2D)            (None, 32, 32, 64)        102464    \n",
      "_________________________________________________________________\n",
      "dropout_2 (Dropout)          (None, 32, 32, 64)        0         \n",
      "_________________________________________________________________\n",
      "conv2d_4 (Conv2D)            (None, 32, 32, 64)        102464    \n",
      "_________________________________________________________________\n",
      "dropout_3 (Dropout)          (None, 32, 32, 64)        0         \n",
      "_________________________________________________________________\n",
      "max_pooling2d_1 (MaxPooling2 (None, 32, 32, 64)        0         \n",
      "_________________________________________________________________\n",
      "dropout_4 (Dropout)          (None, 32, 32, 64)        0         \n",
      "_________________________________________________________________\n",
      "conv2d_5 (Conv2D)            (None, 32, 32, 64)        36928     \n",
      "_________________________________________________________________\n",
      "dropout_5 (Dropout)          (None, 32, 32, 64)        0         \n",
      "_________________________________________________________________\n",
      "global_average_pooling2d_1 ( (None, 64)                0         \n",
      "_________________________________________________________________\n",
      "dense_1 (Dense)              (None, 10)                650       \n",
      "=================================================================\n",
      "Total params: 294,666\n",
      "Trainable params: 294,666\n",
      "Non-trainable params: 0\n",
      "_________________________________________________________________\n",
      "None\n"
     ]
    }
   ],
   "source": [
    "model = Model(inputs = input_img, outputs = out)\n",
    "print(model.summary())"
   ]
  },
  {
   "cell_type": "code",
   "execution_count": 6,
   "metadata": {
    "colab": {
     "base_uri": "https://localhost:8080/",
     "height": 950
    },
    "colab_type": "code",
    "id": "lf-iOvw2tA73",
    "outputId": "2e358d47-cdae-4c12-e36e-adde6aca533b"
   },
   "outputs": [
    {
     "name": "stdout",
     "output_type": "stream",
     "text": [
      "Train on 50000 samples, validate on 10000 samples\n",
      "Epoch 1/25\n",
      "50000/50000 [==============================] - 82s 2ms/step - loss: 2.0002 - accuracy: 0.2326 - val_loss: 1.8690 - val_accuracy: 0.2991\n",
      "Epoch 2/25\n",
      "50000/50000 [==============================] - 80s 2ms/step - loss: 1.6575 - accuracy: 0.3751 - val_loss: 1.6105 - val_accuracy: 0.4318\n",
      "Epoch 3/25\n",
      "50000/50000 [==============================] - 80s 2ms/step - loss: 1.4671 - accuracy: 0.4564 - val_loss: 1.5318 - val_accuracy: 0.4778\n",
      "Epoch 4/25\n",
      "50000/50000 [==============================] - 80s 2ms/step - loss: 1.3407 - accuracy: 0.5083 - val_loss: 1.4423 - val_accuracy: 0.4977\n",
      "Epoch 5/25\n",
      "50000/50000 [==============================] - 82s 2ms/step - loss: 1.2364 - accuracy: 0.5515 - val_loss: 1.3313 - val_accuracy: 0.5648\n",
      "Epoch 6/25\n",
      "50000/50000 [==============================] - 81s 2ms/step - loss: 1.1571 - accuracy: 0.5820 - val_loss: 1.3183 - val_accuracy: 0.5650\n",
      "Epoch 7/25\n",
      "50000/50000 [==============================] - 81s 2ms/step - loss: 1.0952 - accuracy: 0.6054 - val_loss: 1.2756 - val_accuracy: 0.5979\n",
      "Epoch 8/25\n",
      "50000/50000 [==============================] - 81s 2ms/step - loss: 1.0386 - accuracy: 0.6275 - val_loss: 1.1691 - val_accuracy: 0.6403\n",
      "Epoch 9/25\n",
      "50000/50000 [==============================] - 81s 2ms/step - loss: 1.0015 - accuracy: 0.6437 - val_loss: 1.2159 - val_accuracy: 0.6279\n",
      "Epoch 10/25\n",
      "50000/50000 [==============================] - 81s 2ms/step - loss: 0.9635 - accuracy: 0.6584 - val_loss: 1.1089 - val_accuracy: 0.6473\n",
      "Epoch 11/25\n",
      "50000/50000 [==============================] - 81s 2ms/step - loss: 0.9362 - accuracy: 0.6669 - val_loss: 1.0771 - val_accuracy: 0.6639\n",
      "Epoch 12/25\n",
      "50000/50000 [==============================] - 81s 2ms/step - loss: 0.9085 - accuracy: 0.6795 - val_loss: 1.0761 - val_accuracy: 0.6723\n",
      "Epoch 13/25\n",
      "50000/50000 [==============================] - 81s 2ms/step - loss: 0.8802 - accuracy: 0.6903 - val_loss: 1.0423 - val_accuracy: 0.6746\n",
      "Epoch 14/25\n",
      "50000/50000 [==============================] - 80s 2ms/step - loss: 0.8666 - accuracy: 0.6926 - val_loss: 1.0246 - val_accuracy: 0.6931\n",
      "Epoch 15/25\n",
      "50000/50000 [==============================] - 81s 2ms/step - loss: 0.8424 - accuracy: 0.7013 - val_loss: 1.0251 - val_accuracy: 0.6728\n",
      "Epoch 16/25\n",
      "50000/50000 [==============================] - 80s 2ms/step - loss: 0.8327 - accuracy: 0.7037 - val_loss: 1.0160 - val_accuracy: 0.6832\n",
      "Epoch 17/25\n",
      "50000/50000 [==============================] - 81s 2ms/step - loss: 0.8119 - accuracy: 0.7142 - val_loss: 0.9847 - val_accuracy: 0.6910\n",
      "Epoch 18/25\n",
      "50000/50000 [==============================] - 80s 2ms/step - loss: 0.7990 - accuracy: 0.7176 - val_loss: 0.9654 - val_accuracy: 0.7015\n",
      "Epoch 19/25\n",
      "50000/50000 [==============================] - 81s 2ms/step - loss: 0.7869 - accuracy: 0.7217 - val_loss: 0.9217 - val_accuracy: 0.7139\n",
      "Epoch 20/25\n",
      "50000/50000 [==============================] - 81s 2ms/step - loss: 0.7759 - accuracy: 0.7243 - val_loss: 0.9160 - val_accuracy: 0.7167\n",
      "Epoch 21/25\n",
      "50000/50000 [==============================] - 81s 2ms/step - loss: 0.7659 - accuracy: 0.7293 - val_loss: 0.9519 - val_accuracy: 0.6983\n",
      "Epoch 22/25\n",
      "50000/50000 [==============================] - 80s 2ms/step - loss: 0.7535 - accuracy: 0.7340 - val_loss: 0.9157 - val_accuracy: 0.7202\n",
      "Epoch 23/25\n",
      "50000/50000 [==============================] - 80s 2ms/step - loss: 0.7441 - accuracy: 0.7379 - val_loss: 0.9513 - val_accuracy: 0.7018\n",
      "Epoch 24/25\n",
      "50000/50000 [==============================] - 80s 2ms/step - loss: 0.7385 - accuracy: 0.7385 - val_loss: 0.9181 - val_accuracy: 0.7102\n",
      "Epoch 25/25\n",
      "50000/50000 [==============================] - 81s 2ms/step - loss: 0.7287 - accuracy: 0.7420 - val_loss: 0.9125 - val_accuracy: 0.7210\n",
      "Accuracy: 72.10%\n"
     ]
    }
   ],
   "source": [
    "epochs = 25\n",
    "lrate = 0.01\n",
    "decay = lrate/epochs\n",
    "sgd = SGD(lr=lrate, momentum=0.9, decay=decay, nesterov=False)\n",
    "model.compile(loss='categorical_crossentropy', optimizer=sgd, metrics=['accuracy'])\n",
    "model.fit(X_train, y_train, validation_data=(X_test, y_test), epochs=epochs, batch_size=32)\n",
    "\n",
    "scores = model.evaluate(X_test, y_test, verbose=0)\n",
    "print(\"Accuracy: %.2f%%\" % (scores[1]*100))"
   ]
  },
  {
   "cell_type": "code",
   "execution_count": 0,
   "metadata": {
    "colab": {},
    "colab_type": "code",
    "id": "iFfk5EDYuMvC"
   },
   "outputs": [],
   "source": []
  },
  {
   "cell_type": "code",
   "execution_count": 0,
   "metadata": {
    "colab": {},
    "colab_type": "code",
    "id": "pqTqPqBUuMxm"
   },
   "outputs": [],
   "source": []
  },
  {
   "cell_type": "code",
   "execution_count": 0,
   "metadata": {
    "colab": {},
    "colab_type": "code",
    "id": "9jqS7nriuM6p"
   },
   "outputs": [],
   "source": []
  }
 ],
 "metadata": {
  "accelerator": "GPU",
  "colab": {
   "collapsed_sections": [],
   "name": "Deep_code_1_my_updates_9_noBatchNormal.ipynb",
   "provenance": []
  },
  "kernelspec": {
   "display_name": "Python 3",
   "language": "python",
   "name": "python3"
  },
  "language_info": {
   "codemirror_mode": {
    "name": "ipython",
    "version": 3
   },
   "file_extension": ".py",
   "mimetype": "text/x-python",
   "name": "python",
   "nbconvert_exporter": "python",
   "pygments_lexer": "ipython3",
   "version": "3.5.3"
  }
 },
 "nbformat": 4,
 "nbformat_minor": 1
}
