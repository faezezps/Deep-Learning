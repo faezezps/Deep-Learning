{
 "cells": [
  {
   "cell_type": "code",
   "execution_count": 1,
   "metadata": {},
   "outputs": [],
   "source": [
    "from prettytable import PrettyTable"
   ]
  },
  {
   "cell_type": "code",
   "execution_count": 2,
   "metadata": {},
   "outputs": [],
   "source": [
    "pt = PrettyTable()"
   ]
  },
  {
   "cell_type": "code",
   "execution_count": 3,
   "metadata": {},
   "outputs": [],
   "source": [
    "#BN = Batch normalization ,  DO = Drop out  , GMP = Global Max Pooling , ep = epoch ,  Ac = Accuracy\n",
    "pt.field_names = [\"Layer1\" ,\"Layer2\" ,\"Layer3\" , \"Layer4\" , \"Layer5\", \"Layer6\" , \"BN\", \"DO\" , \"GMP\" ,\"ep\", \"Ac\"]"
   ]
  },
  {
   "cell_type": "code",
   "execution_count": 4,
   "metadata": {},
   "outputs": [],
   "source": [
    "#Code 1\n",
    "pt.add_row([\"C2D-64-1\" , \"C2D-64-3\" , \"C2D-64-1\", \"C2D-64-5\", \"MP2D-3\", \"C2-64-1\", \"No\", \"No\", \"No\", \"25\",\"68.75%\"])\n",
    "\n",
    "#Update 2\n",
    "pt.add_row([\"C2D-120-5\" , \"C2D-120-5\" , \"C2D-120-5\", \"C2D-120-5\", \"MP2D-5\", \"C2D-120-5\", \"No\", \"No\", \"No\", \"25\",\"69.71%\"])\n",
    "\n",
    "#Update 3\n",
    "pt.add_row([\"C2D-64-3\" , \"C2D-64-5\" , \"deleted\", \"deleted\", \"MP2D-5\", \"C2D-64-3\", \"Yes\", \"Yes\", \"No\", \"25\",\"49.54%\"])\n",
    "\n",
    "#Update 4\n",
    "pt.add_row([\"C2D-64-3\" , \"C2D-64-5\" , \"C2D-64-5\", \"C2D-64-5\", \"MP2D-5\", \"C2-64-3\", \"Yes\", \"Yes\", \"No\", \"25\",\"50.44%\"])\n",
    "\n",
    "#Update 5\n",
    "pt.add_row([\"C2D-64-3\" , \"C2D-64-5\" , \"C2D-64-5\", \"C2D-64-5\", \"MP2D-5\", \"C2-64-3\", \"No\", \"Yes\", \"No\", \"25\",\"10.00%\"])\n",
    "\n",
    "#Update 6\n",
    "pt.add_row([\"C2D-64-3\" , \"C2D-64-5\" , \"C2D-64-5\", \"C2D-64-5\", \"MP2D-5\", \"C2-64-3\", \"Yes\", \"Yes\", \"Yes\", \"25\",\"23.55%\"])\n",
    "\n",
    "#Update 7\n",
    "pt.add_row([\"C2D-64-3\" , \"C2D-64-5\" , \"C2D-64-5\", \"C2D-64-5\", \"MP2D-5\", \"C2-64-3\", \"No\", \"Yes\", \"Yes\", \"25\",\"73.25%\"])\n",
    "\n",
    "#Update 8\n",
    "pt.add_row([\"C2D-64-3\" , \"C2D-64-5\" , \"C2D-64-5\", \"C2D-64-5\", \"MP2D-5\", \"C2-64-3\", \"No\", \"Yes\", \"Yes\", \"40\",\"75.53%\"])\n",
    "\n",
    "#Update 9\n",
    "pt.add_row([\"C2D-64-3\" , \"C2D-64-5\" , \"C2D-64-5\", \"C2D-64-5\", \"MP2D-6\", \"C2-64-3\", \"No\", \"Yes\", \"Yes\", \"25\",\"72.10%\"])\n",
    "\n",
    "#Update 10\n",
    "pt.add_row([\"C2D-64-3\" , \"C2D-64-5\" , \"C2D-64-5\", \"C2D-64-5\", \"MP2D-6\", \"C2-64-3\", \"No\", \"Yes\", \"Yes\", \"100\",\"82.20%\"])\n",
    "\n",
    "#Update 11\n",
    "pt.add_row([\"C2D-64-3\" , \"C2D-64-5\" , \"C2D-64-5\", \"C2D-64-5\", \"MP2D-5\", \"C2-64-3\", \"No\", \"Yes\", \"Yes\", \"100\",\"81.99%\"])"
   ]
  },
  {
   "cell_type": "code",
   "execution_count": 5,
   "metadata": {
    "scrolled": true
   },
   "outputs": [
    {
     "name": "stdout",
     "output_type": "stream",
     "text": [
      "+-----------+-----------+-----------+-----------+--------+-----------+-----+-----+-----+-----+--------+\n",
      "|   Layer1  |   Layer2  |   Layer3  |   Layer4  | Layer5 |   Layer6  |  BN |  DO | GMP |  ep |   Ac   |\n",
      "+-----------+-----------+-----------+-----------+--------+-----------+-----+-----+-----+-----+--------+\n",
      "|  C2D-64-1 |  C2D-64-3 |  C2D-64-1 |  C2D-64-5 | MP2D-3 |  C2-64-1  |  No |  No |  No |  25 | 68.75% |\n",
      "| C2D-120-5 | C2D-120-5 | C2D-120-5 | C2D-120-5 | MP2D-5 | C2D-120-5 |  No |  No |  No |  25 | 69.71% |\n",
      "|  C2D-64-3 |  C2D-64-5 |  deleted  |  deleted  | MP2D-5 |  C2D-64-3 | Yes | Yes |  No |  25 | 49.54% |\n",
      "|  C2D-64-3 |  C2D-64-5 |  C2D-64-5 |  C2D-64-5 | MP2D-5 |  C2-64-3  | Yes | Yes |  No |  25 | 50.44% |\n",
      "|  C2D-64-3 |  C2D-64-5 |  C2D-64-5 |  C2D-64-5 | MP2D-5 |  C2-64-3  |  No | Yes |  No |  25 | 10.00% |\n",
      "|  C2D-64-3 |  C2D-64-5 |  C2D-64-5 |  C2D-64-5 | MP2D-5 |  C2-64-3  | Yes | Yes | Yes |  25 | 23.55% |\n",
      "|  C2D-64-3 |  C2D-64-5 |  C2D-64-5 |  C2D-64-5 | MP2D-5 |  C2-64-3  |  No | Yes | Yes |  25 | 73.25% |\n",
      "|  C2D-64-3 |  C2D-64-5 |  C2D-64-5 |  C2D-64-5 | MP2D-5 |  C2-64-3  |  No | Yes | Yes |  40 | 75.53% |\n",
      "|  C2D-64-3 |  C2D-64-5 |  C2D-64-5 |  C2D-64-5 | MP2D-6 |  C2-64-3  |  No | Yes | Yes |  25 | 72.10% |\n",
      "|  C2D-64-3 |  C2D-64-5 |  C2D-64-5 |  C2D-64-5 | MP2D-6 |  C2-64-3  |  No | Yes | Yes | 100 | 82.20% |\n",
      "|  C2D-64-3 |  C2D-64-5 |  C2D-64-5 |  C2D-64-5 | MP2D-5 |  C2-64-3  |  No | Yes | Yes | 100 | 81.99% |\n",
      "+-----------+-----------+-----------+-----------+--------+-----------+-----+-----+-----+-----+--------+\n"
     ]
    }
   ],
   "source": [
    "print(pt)"
   ]
  },
  {
   "cell_type": "markdown",
   "metadata": {},
   "source": [
    "**Note:** The validation accuracy and train accuracy were so close and it means that the model did not overfit to train data.\n",
    "\n",
    "**How to read** the detail of layers in the cells of the table?\n",
    "\n",
    "All of them should be read like this example:\n",
    "\n",
    "- C2D-64-5: Conv2D with 64 filters in the size of (5,5)\n",
    "\n",
    "- MP2D-3: MaxPooling with the size of (3,3)"
   ]
  },
  {
   "cell_type": "code",
   "execution_count": 6,
   "metadata": {
    "scrolled": true
   },
   "outputs": [
    {
     "name": "stdout",
     "output_type": "stream",
     "text": [
      "+----------+----------+----------+----------+--------+---------+----+-----+-----+-----+--------+\n",
      "|  Layer1  |  Layer2  |  Layer3  |  Layer4  | Layer5 |  Layer6 | BN |  DO | GMP |  ep |   Ac   |\n",
      "+----------+----------+----------+----------+--------+---------+----+-----+-----+-----+--------+\n",
      "| C2D-32-3 | C2D-32-3 | C2D-32-5 | C2D-32-5 | MP2D-6 | C2-64-3 | No | Yes | Yes | 100 | 69.41% |\n",
      "| C2D-64-3 | C2D-64-3 | C2D-64-5 | C2D-64-5 | MP2D-6 | C2-64-5 | No | Yes | Yes | 100 | 79.28% |\n",
      "+----------+----------+----------+----------+--------+---------+----+-----+-----+-----+--------+\n"
     ]
    }
   ],
   "source": [
    "# Result with padding = 'valid'\n",
    "pt_2 = PrettyTable()\n",
    "pt_2.field_names = [\"Layer1\" ,\"Layer2\" ,\"Layer3\" , \"Layer4\" , \"Layer5\", \"Layer6\" , \"BN\", \"DO\" , \"GMP\" ,\"ep\", \"Ac\"]\n",
    "pt_2.add_row([\"C2D-32-3\" , \"C2D-32-3\" , \"C2D-32-5\", \"C2D-32-5\", \"MP2D-6\", \"C2-64-3\", \"No\", \"Yes\", \"Yes\", \"100\",\"69.41%\"])\n",
    "\n",
    "#it is training\n",
    "pt_2.add_row([\"C2D-64-3\" , \"C2D-64-3\" , \"C2D-64-5\", \"C2D-64-5\", \"MP2D-6\", \"C2-64-5\", \"No\", \"Yes\", \"Yes\", \"100\",\"79.28%\"])\n",
    "\n",
    "print(pt_2)"
   ]
  },
  {
   "cell_type": "markdown",
   "metadata": {},
   "source": [
    "**Conclusion**\n",
    "In this problem with this dataset, the accuracy of the baseline model can be increased by doing below things:\n",
    "\n",
    "- increase the number of epochs (good effect)\n",
    "- using global max pooling at the end, instead of flatten (good effect)\n",
    "- increase the size of the filters in convolusion layers (small effect)\n",
    "- increase the number of filters in  convolusion layers (small effect)\n",
    "\n",
    "And bad effects on accuracy caused by below things:\n",
    "\n",
    "- using batch normalization after each layer\n",
    "\n",
    "My emerged question:\n",
    "Shall we use batch normalization before the activation at each layer?"
   ]
  }
 ],
 "metadata": {
  "kernelspec": {
   "display_name": "nlp",
   "language": "python",
   "name": "nlp"
  },
  "language_info": {
   "codemirror_mode": {
    "name": "ipython",
    "version": 3
   },
   "file_extension": ".py",
   "mimetype": "text/x-python",
   "name": "python",
   "nbconvert_exporter": "python",
   "pygments_lexer": "ipython3",
   "version": "3.7.4"
  }
 },
 "nbformat": 4,
 "nbformat_minor": 2
}
